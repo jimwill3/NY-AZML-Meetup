{
 "cells": [
  {
   "cell_type": "code",
   "execution_count": 75,
   "metadata": {},
   "outputs": [
    {
     "name": "stdout",
     "output_type": "stream",
     "text": [
      "passed\n"
     ]
    }
   ],
   "source": [
    "#!pip install nltk\n",
    "#!pip install scipy\n",
    "import nltk\n",
    "import feedparser\n",
    "import ssl\n",
    "from collections import Counter\n",
    "import pandas as pd\n",
    "import numpy as np\n",
    "from sklearn.feature_extraction.text import TfidfVectorizer\n",
    "from sklearn.feature_extraction.text import CountVectorizer\n",
    "from sklearn.feature_extraction.text import TfidfTransformer\n",
    "\n",
    "#!pip install -U scikit-learn  should not be needed  but just in case uncomment\n",
    "#!pip install gensim\n",
    "from nltk.corpus import stopwords\n",
    "\n",
    "\n",
    "'''there is a limit in azure notebooks with NLTK in that it does not save the downloaded NLTK libs we need to cache locally\n",
    "this means we need to uncomment the very next statement and the sequence of commands will be\n",
    "d   - that tell the downloader you want to download something\n",
    "when it prompts again enter punkt - the tokenizer \n",
    "then it will prompt again for another action\n",
    "enter d to run another download\n",
    "enter stopwords and then return\n",
    "finally, at the last step, enter q and hit return to exit. you can now run as long as your notebook session is alive to\n",
    "please add the comment, or enter a q if the prompt appears on a subsequent run'''\n",
    "#nltk.download() #uncomment is you need to download stopwords, punkt, treebank\n",
    "#!python -m nltk.downloader punkt\n",
    "#!python -m nltk.downloader stopwords\n",
    "#!python -m nltk.downloader treebank\n",
    "\n",
    "from nltk.corpus import stopwords\n",
    "from nltk.tokenize import TreebankWordTokenizer \n",
    "\n",
    "stopset = set(stopwords.words('english'))  #for now use english jw 1/3/18\n",
    "stopset.add('...') \n",
    "print('passed')"
   ]
  },
  {
   "cell_type": "code",
   "execution_count": 76,
   "metadata": {},
   "outputs": [],
   "source": [
    "docs  = [] #docs will hold a list of documents per sweep over a rss feed\n",
    "docn  = 0 #this counts documents which is one to one with n.description entries found\n",
    "sentn = 0 #this counts sentences within a document so you can think of a document as a list of sentences"
   ]
  },
  {
   "cell_type": "code",
   "execution_count": 77,
   "metadata": {},
   "outputs": [],
   "source": [
    "#will statically load the docs list with items from a previous run\n",
    "docs = ['recently, one customer said his asp.net core application used to work very well in oauth authentication all the time, but after he placed a reverse proxy in front of the web application, the authentication fails because of invalid callback path. normally speaking, a callback path is needed when registering an application to the oauth server....', \n",
    "        'in this post, premier developer consultant joe healy identifies a possible error you may get when working with an android project on xamarin forms. read about his discovery and eventual solution to fix the ssl/tls implementation issue. recently, i was helping a client with an azure active directory integrated project (adal not msal for some...', \n",
    "        'sql server management object smo) is one of the widely used way to interact with sql server due to its feature for directly able to execute mass operation as well as management operation on sql server, instead of old school way of using queries. however when using it , it should also need to be...', \n",
    "        \"“if you have nothing to say, say nothing.” -- mark twain twain was so smart. i've returned to post after a long, self-imposed break from blogging, as so many great folks inside\\xa0 the company work as part of their day jobs several of the areas of interest i've covered on my blog. over the last...\", \n",
    "        'in this post, app dev manager john abele explores micro-frontend design with asp.net core and mvc. many development teams have spent the last few years organizing and empowering cross-functional teams, building independently managed microservices, and implementing devops pipelines to go faster than ever! these industry shifts, critical for organizations to plan less and react more,...', \n",
    "        'php_ini_system level settings cannot be changed from .user.ini or ini_set function. to make change for php_ini_system settings on azure web app, follow the steps, 1. add an app setting to your web app with the key php_ini_scan_dir and value d:homesiteini 2. create an settings.ini file using kudu console (http://&#60;site-name&#62;.scm.azurewebsite.net) in the d:homesiteini directory. 3. add...', \n",
    "        \"i don't spend a lot of time talking to customers about physical data center security. as a developer using mostly paas or iaas compute platforms, i just assumed that that cloud provider had taken care of it. helping customers with data security (data at rest, data in transit, secure compute), and application code security takes...\", \n",
    "        'here are top stories we found in our streams this week related to devops, vsts, tfs and other interesting topics. top stories change image size in vsts wiki - jeff bramwellif you’ve been making use of the wiki feature within vsts then you already know how useful it is for providing documentation, notes, etc. in...', \n",
    "        'when managing a self-service knowledge base, understanding how customers and employees are searching for and consuming self-service knowledge is an important part of ensuring your content remains relevant and useful for end users. dynamics includes a number of in-built capabilities to help analyze the usage of the knowledge base, including: tracking of article views by...', \n",
    "        'Azure Automation For Azure IAAS enthusiasts, Microsoft has provided a platform to automate all the azure services using powershell. The language is tweaked and used as “powershell workflow”. Why to Use Reducing Manual Effort and help in consistent testing Managing resources (deployment/VM’s etc) How to Use Create a powershell workflow in azure web portal and',\n",
    "        'new titles are coming soon to the microsoft press store! buy now to save 40% on pre-order books or ebooks: https://www.microsoftpressstore.com/store/browse/coming-soon. note: new titles become available for pre-order 90 days prior to availability. some books in the image above will become available during the duration of the sale.',\n",
    "       'Ransomware attacks are no longer restricted to only deletion of data but are starting to look at attacking backups as well. Taking a backup is only the first step in your protection, it becomes important to safe guard those backups too. This week as we celebrate World Backup Day, let’s look at the key considerations that customers should look for in backup products as they build the defenses to secure their backups from evolving ransomware attacks.',\n",
    "       'it service management (itsm) tools help large it organizations route and handle service issues and requests. itop is an open source itsm tool written in php. it uses mysql as the backend database. in this blog, i will walk through the steps of installing itop in an azure web app and configure azure active directory',\n",
    "       'microsoft will have a major presence at spark + ai summit, 2018, in san francisco, the premier event for the apache spark community. rohan kumar, corporate vice president of azure data, will deliver…', 'we are pleased to announce that azure sql data warehouse (azure sql dw) now supports automatic creation of column level statistics. azure sql dw is a fast, flexible, and secure analytics platform for the enterprise.',\n",
    "       'creating an advanced conversational system is now a simple task with the powerful tools integrated into microsoft’s language understanding service (luis) and bot framework. luis brings together',\n",
    "       'sql operations studio can be leveraged with azure sql data warehouse (sql dw) to create rich customizable dashboard widgets surfacing insights to your data warehouse.', 'during the last few months, i’ve spoken with a lot of azure customers, both in person and online, about how to prepare for the may 25, 2018 deadline for compliance with the eu’s general data',\n",
    "        'microsoft will have a major presence at spark + ai summit, 2018, in san francisco, the premier event for the apache spark community. rohan kumar, corporate vice president of azure data, will deliver',\n",
    "        'we are pleased to announce that azure sql data warehouse (azure sql dw) now supports automatic creation of column level statistics. azure sql dw is a fast, flexible, and secure analytics platform for the enterprise', \n",
    "        'we are pleased to announce a series of improvements on application insights profiler and snapshot debugger.', 'creating an advanced conversational system is now a simple task with the powerful tools integrated into microsoft’s language understanding service (luis) and bot framework. luis brings together',\n",
    "        'apache kafka has changed the way we look at streaming and logging data, and now azure provides tools and services for streaming data into your big data pipeline in azure. today, we proudly announce',\n",
    "        'last september, i had the privilege to publicly announce our azure confidential computing efforts, where microsoft azure became the first cloud platform to enable new data security capabilities that',\n",
    "        'this week is microsoft build 2018, our premiere event of the year for our gifted developer audience. with a strong appetite for technology and a desire to learn and immerse themselves in new ways',\n",
    "       'with azure data factory (adf) visual tools, we listened to your feedback and enabled a rich, interactive visual authoring and monitoring experience. it allows you to iteratively create, configure, test, deploy and monitor data integration pipelines without any friction.', \n",
    "        'adobe, ge, toyota, and other enterprises have chosen hdinsight kafka for their streaming analytics pipelines. microsoft office 365 and bing are powered by one of the world’s largest kafka deployments on hdinsight',\n",
    "        \"this azure.source covers build 2018. keep current on what's happening in azure, including what's now in preview, generally available, news & updates, and more\", \n",
    "        'since the release in 2016, developers are using our azure iot python sdk to write device and back-end applications to connect to azure iot hub and device provisioning service, as well as writing modules for azure iot edge (preview). python is a popular choice for prototyping, and it is gaining traction in the embedded world', \n",
    "        'data warehouse automation (dwa) tools are meta-data driven, code generation tools that streamline developing and managing a data warehouse solution.', \n",
    "        'the bio-it world conference and expo kicks off today in boston. microsoft is a platinum sponsor of this event. the research and product development being done in the life sciences and healthcare industries are having a tremendous impact.', \n",
    "        'on a weekly basis, more than 5 million people find help using microsoft online help and documentation. despite having more than 380,000 pages of articles, references, and tutorials, we each have our own stories of painful gaps', \n",
    "        'this is a continuation of our customer success story blog series for azure backup. in the previous case study we covered russell reynolds, here we will discuss how united kingdom’s somerset county council are able to improve their backup and restore efficiency and reduce their backup cost using azure backup', \n",
    "        'sql operations studio can be leveraged with azure sql data warehouse (sql dw) to create rich customizable dashboard widgets surfacing insights to your data warehouse.', \n",
    "        'during the last few months, i’ve spoken with a lot of azure customers, both in person and online, about how to prepare for the may 25, 2018 deadline for compliance with the eu’s general data',\n",
    "       'every row of your data is an insight waiting to be found. that is why it is critical you can get every row loaded into your data warehouse. when the data is clean, loading data into azure sql data warehouse is easy using polybase',\n",
    "       'we are excited to announce that sql data warehouse (sql dw) now supports user-defined restore points! this feature enables you to trigger a manual snapshot of your data warehouse that is transactionally consistent.', 'microsoft has launched a brand new set of go-to-market (gtm) benefits that will be automatically offered to partners with new listings in marketplace, for either azure marketplace or appsource',\n",
    "       'during the build 2018 keynote, scott hanselman, with help from scott guthrie, showed developers the new features available in azure kubernetes service (aks) and azure dev spaces. to help you learn',\n",
    "       'today, i’m incredibly excited to announce that the azure kubernetes service (aks) is now generally available. we are also adding five new regions including australia east, uk south, west us, west us 2, and north europe',\n",
    "       'today we are excited to announce preview of three new features in azure monitor that let you enumerate alerts at scale across log, metric or activity log alerts, filter alerts across subscriptions',\n",
    "       'last year, we released blob-level tiering. it enables you to transition blobs between the hot, cool, and archive tiers without moving data between accounts',\n",
    "       'household names such as adobe, jet, asos, schneider electric, and milliman are amongst thousands of enterprises that are powering their big data analytics using azure hdinsight',\n",
    "       'last month, we announced the public preview release of azure blockchain workbench, which greatly accelerates blockchain application development. since launch, we’ve seen a tremendous amount of engagement and enthusiasm from our customers and partners with thousands of different blockchain apps processing tens of thousands of transactions',\n",
    "       'azure data factory (adf) is the fully-managed data integration service for analytics workloads in azure',\n",
    "       'we are pleased to announce a new feature in the maven plugin for azure app service. the plugin provides seamless integration of azure services into maven projects']"
   ]
  },
  {
   "cell_type": "code",
   "execution_count": null,
   "metadata": {},
   "outputs": [],
   "source": []
  },
  {
   "cell_type": "code",
   "execution_count": 78,
   "metadata": {},
   "outputs": [
    {
     "name": "stdout",
     "output_type": "stream",
     "text": [
      "\n",
      " number of docs is  46\n",
      "recently one customer said asp net core application used work well oauth authentication time placed reverse proxy front web application authentication fails invalid callback path normally speaking callback path needed registering application oauth server .... \n",
      " pleased announce new feature maven plugin azure app service plugin provides seamless integration azure services maven projects\n",
      "[['recently', 'one', 'customer', 'said', 'asp', 'net', 'core', 'application', 'used', 'work', 'well', 'oauth', 'authentication', 'time', 'placed', 'reverse', 'proxy', 'front', 'web', 'application', 'authentication', 'fails', 'invalid', 'callback', 'path', 'normally', 'speaking', 'callback', 'path', 'needed', 'registering', 'application', 'oauth', 'server', '....'], ['post', 'premier', 'developer', 'consultant', 'joe', 'healy', 'identifies', 'possible', 'error', 'may', 'get', 'working', 'android', 'project', 'xamarin', 'forms', 'read', 'discovery', 'eventual', 'solution', 'fix', 'ssl', 'tls', 'implementation', 'issue', 'recently', 'helping', 'client', 'azure', 'active', 'directory', 'integrated', 'project', 'adal', 'msal'], ['sql', 'server', 'management', 'object', 'smo', 'one', 'widely', 'used', 'way', 'interact', 'sql', 'server', 'due', 'feature', 'directly', 'able', 'execute', 'mass', 'operation', 'well', 'management', 'operation', 'sql', 'server', 'instead', 'old', 'school', 'way', 'using', 'queries', 'however', 'using', 'also', 'need'], ['nothing', 'say', 'say', 'nothing', 'mark', 'twain', 'twain', 'smart', 'returned', 'post', 'long', 'self', 'imposed', 'break', 'blogging', 'many', 'great', 'folks', 'inside', 'company', 'work', 'part', 'day', 'jobs', 'several', 'areas', 'interest', 'covered', 'blog', 'last'], ['post', 'app', 'dev', 'manager', 'john', 'abele', 'explores', 'micro', 'frontend', 'design', 'asp', 'net', 'core', 'mvc', 'many', 'development', 'teams', 'spent', 'last', 'years', 'organizing', 'empowering', 'cross', 'functional', 'teams', 'building', 'independently', 'managed', 'microservices', 'implementing', 'devops', 'pipelines', 'faster', 'ever', 'industry', 'shifts', 'critical', 'organizations', 'plan', 'less', 'react', ',...'], ['php_ini_system', 'level', 'settings', 'cannot', 'changed', 'user', 'ini', 'ini_set', 'function', 'make', 'change', 'php_ini_system', 'settings', 'azure', 'web', 'app', 'follow', 'steps', 'add', 'app', 'setting', 'web', 'app', 'key', 'php_ini_scan_dir', 'value', 'homesiteini', 'create', 'settings', 'ini', 'file', 'using', 'kudu', 'console', 'http', '://&#', 'site', 'name', 'scm', 'azurewebsite', 'net', 'homesiteini', 'directory', 'add'], ['spend', 'lot', 'time', 'talking', 'customers', 'physical', 'data', 'center', 'security', 'developer', 'using', 'mostly', 'paas', 'iaas', 'compute', 'platforms', 'assumed', 'cloud', 'provider', 'taken', 'care', 'helping', 'customers', 'data', 'security', 'data', 'rest', 'data', 'transit', 'secure', 'compute', 'application', 'code', 'security', 'takes'], ['top', 'stories', 'found', 'streams', 'week', 'related', 'devops', 'vsts', 'tfs', 'interesting', 'topics', 'top', 'stories', 'change', 'image', 'size', 'vsts', 'wiki', 'jeff', 'bramwellif', 'making', 'use', 'wiki', 'feature', 'within', 'vsts', 'already', 'know', 'useful', 'providing', 'documentation', 'notes', 'etc'], ['managing', 'self', 'service', 'knowledge', 'base', 'understanding', 'customers', 'employees', 'searching', 'consuming', 'self', 'service', 'knowledge', 'important', 'part', 'ensuring', 'content', 'remains', 'relevant', 'useful', 'end', 'users', 'dynamics', 'includes', 'number', 'built', 'capabilities', 'help', 'analyze', 'usage', 'knowledge', 'base', 'including', 'tracking', 'article', 'views'], ['azure', 'automation', 'for', 'azure', 'iaas', 'enthusiasts', 'microsoft', 'provided', 'platform', 'automate', 'azure', 'services', 'using', 'powershell', 'the', 'language', 'tweaked', 'used', 'powershell', 'workflow', 'why', 'use', 'reducing', 'manual', 'effort', 'help', 'consistent', 'testing', 'managing', 'resources', 'deployment', 'etc', 'how', 'use', 'create', 'powershell', 'workflow', 'azure', 'web', 'portal'], ['new', 'titles', 'coming', 'soon', 'microsoft', 'press', 'store', 'buy', 'save', 'pre', 'order', 'books', 'ebooks', 'https', '://', 'www', 'microsoftpressstore', 'com', 'store', 'browse', 'coming', 'soon', 'note', 'new', 'titles', 'become', 'available', 'pre', 'order', 'days', 'prior', 'availability', 'books', 'image', 'become', 'available', 'duration', 'sale'], ['ransomware', 'attacks', 'longer', 'restricted', 'deletion', 'data', 'starting', 'look', 'attacking', 'backups', 'well', 'taking', 'backup', 'first', 'step', 'protection', 'becomes', 'important', 'safe', 'guard', 'backups', 'this', 'week', 'celebrate', 'world', 'backup', 'day', 'let', 'look', 'key', 'considerations', 'customers', 'look', 'backup', 'products', 'build', 'defenses', 'secure', 'backups', 'evolving', 'ransomware', 'attacks'], ['service', 'management', 'itsm', 'tools', 'help', 'large', 'organizations', 'route', 'handle', 'service', 'issues', 'requests', 'itop', 'open', 'source', 'itsm', 'tool', 'written', 'php', 'uses', 'mysql', 'backend', 'database', 'blog', 'walk', 'steps', 'installing', 'itop', 'azure', 'web', 'app', 'configure', 'azure', 'active', 'directory'], ['microsoft', 'major', 'presence', 'spark', 'ai', 'summit', '2018', 'san', 'francisco', 'premier', 'event', 'apache', 'spark', 'community', 'rohan', 'kumar', 'corporate', 'vice', 'president', 'azure', 'data', 'deliver'], ['pleased', 'announce', 'azure', 'sql', 'data', 'warehouse', 'azure', 'sql', 'supports', 'automatic', 'creation', 'column', 'level', 'statistics', 'azure', 'sql', 'fast', 'flexible', 'secure', 'analytics', 'platform', 'enterprise'], ['creating', 'advanced', 'conversational', 'system', 'simple', 'task', 'powerful', 'tools', 'integrated', 'microsoft', 'language', 'understanding', 'service', 'luis', 'bot', 'framework', 'luis', 'brings', 'together'], ['sql', 'operations', 'studio', 'leveraged', 'azure', 'sql', 'data', 'warehouse', 'sql', 'create', 'rich', 'customizable', 'dashboard', 'widgets', 'surfacing', 'insights', 'data', 'warehouse'], ['last', 'months', 'spoken', 'lot', 'azure', 'customers', 'person', 'online', 'prepare', 'may', '2018', 'deadline', 'compliance', 'general', 'data'], ['microsoft', 'major', 'presence', 'spark', 'ai', 'summit', '2018', 'san', 'francisco', 'premier', 'event', 'apache', 'spark', 'community', 'rohan', 'kumar', 'corporate', 'vice', 'president', 'azure', 'data', 'deliver'], ['pleased', 'announce', 'azure', 'sql', 'data', 'warehouse', 'azure', 'sql', 'supports', 'automatic', 'creation', 'column', 'level', 'statistics', 'azure', 'sql', 'fast', 'flexible', 'secure', 'analytics', 'platform', 'enterprise'], ['pleased', 'announce', 'series', 'improvements', 'application', 'insights', 'profiler', 'snapshot', 'debugger'], ['creating', 'advanced', 'conversational', 'system', 'simple', 'task', 'powerful', 'tools', 'integrated', 'microsoft', 'language', 'understanding', 'service', 'luis', 'bot', 'framework', 'luis', 'brings', 'together'], ['apache', 'kafka', 'changed', 'way', 'look', 'streaming', 'logging', 'data', 'azure', 'provides', 'tools', 'services', 'streaming', 'data', 'big', 'data', 'pipeline', 'azure', 'today', 'proudly', 'announce'], ['last', 'september', 'privilege', 'publicly', 'announce', 'azure', 'confidential', 'computing', 'efforts', 'microsoft', 'azure', 'became', 'first', 'cloud', 'platform', 'enable', 'new', 'data', 'security', 'capabilities'], ['week', 'microsoft', 'build', '2018', 'premiere', 'event', 'year', 'gifted', 'developer', 'audience', 'strong', 'appetite', 'technology', 'desire', 'learn', 'immerse', 'new', 'ways'], ['azure', 'data', 'factory', 'adf', 'visual', 'tools', 'listened', 'feedback', 'enabled', 'rich', 'interactive', 'visual', 'authoring', 'monitoring', 'experience', 'allows', 'iteratively', 'create', 'configure', 'test', 'deploy', 'monitor', 'data', 'integration', 'pipelines', 'without', 'friction'], ['adobe', 'toyota', 'enterprises', 'chosen', 'hdinsight', 'kafka', 'streaming', 'analytics', 'pipelines', 'microsoft', 'office', '365', 'bing', 'powered', 'one', 'world', 'largest', 'kafka', 'deployments', 'hdinsight'], ['azure', 'source', 'covers', 'build', '2018', 'keep', 'current', 'happening', 'azure', 'including', 'preview', 'generally', 'available', 'news', 'updates'], ['since', 'release', '2016', 'developers', 'using', 'azure', 'iot', 'python', 'sdk', 'write', 'device', 'back', 'end', 'applications', 'connect', 'azure', 'iot', 'hub', 'device', 'provisioning', 'service', 'well', 'writing', 'modules', 'azure', 'iot', 'edge', 'preview', 'python', 'popular', 'choice', 'prototyping', 'gaining', 'traction', 'embedded', 'world'], ['data', 'warehouse', 'automation', 'dwa', 'tools', 'meta', 'data', 'driven', 'code', 'generation', 'tools', 'streamline', 'developing', 'managing', 'data', 'warehouse', 'solution'], ['bio', 'world', 'conference', 'expo', 'kicks', 'today', 'boston', 'microsoft', 'platinum', 'sponsor', 'event', 'research', 'product', 'development', 'done', 'life', 'sciences', 'healthcare', 'industries', 'tremendous', 'impact'], ['weekly', 'basis', 'million', 'people', 'find', 'help', 'using', 'microsoft', 'online', 'help', 'documentation', 'despite', '380', '000', 'pages', 'articles', 'references', 'tutorials', 'stories', 'painful', 'gaps'], ['continuation', 'customer', 'success', 'story', 'blog', 'series', 'azure', 'backup', 'previous', 'case', 'study', 'covered', 'russell', 'reynolds', 'discuss', 'united', 'kingdom', 'somerset', 'county', 'council', 'able', 'improve', 'backup', 'restore', 'efficiency', 'reduce', 'backup', 'cost', 'using', 'azure', 'backup'], ['sql', 'operations', 'studio', 'leveraged', 'azure', 'sql', 'data', 'warehouse', 'sql', 'create', 'rich', 'customizable', 'dashboard', 'widgets', 'surfacing', 'insights', 'data', 'warehouse'], ['last', 'months', 'spoken', 'lot', 'azure', 'customers', 'person', 'online', 'prepare', 'may', '2018', 'deadline', 'compliance', 'general', 'data'], ['every', 'row', 'data', 'insight', 'waiting', 'found', 'critical', 'get', 'every', 'row', 'loaded', 'data', 'warehouse', 'data', 'clean', 'loading', 'data', 'azure', 'sql', 'data', 'warehouse', 'easy', 'using', 'polybase'], ['excited', 'announce', 'sql', 'data', 'warehouse', 'sql', 'supports', 'user', 'defined', 'restore', 'points', 'feature', 'enables', 'trigger', 'manual', 'snapshot', 'data', 'warehouse', 'transactionally', 'consistent'], ['microsoft', 'launched', 'brand', 'new', 'set', 'market', 'gtm', 'benefits', 'automatically', 'offered', 'partners', 'new', 'listings', 'marketplace', 'either', 'azure', 'marketplace', 'appsource'], ['build', '2018', 'keynote', 'scott', 'hanselman', 'help', 'scott', 'guthrie', 'showed', 'developers', 'new', 'features', 'available', 'azure', 'kubernetes', 'service', 'aks', 'azure', 'dev', 'spaces', 'help', 'learn'], ['today', 'incredibly', 'excited', 'announce', 'azure', 'kubernetes', 'service', 'aks', 'generally', 'available', 'also', 'adding', 'five', 'new', 'regions', 'including', 'australia', 'east', 'south', 'west', 'west', 'north', 'europe'], ['today', 'excited', 'announce', 'preview', 'three', 'new', 'features', 'azure', 'monitor', 'let', 'enumerate', 'alerts', 'scale', 'across', 'log', 'metric', 'activity', 'log', 'alerts', 'filter', 'alerts', 'across', 'subscriptions'], ['last', 'year', 'released', 'blob', 'level', 'tiering', 'enables', 'transition', 'blobs', 'hot', 'cool', 'archive', 'tiers', 'without', 'moving', 'data', 'accounts'], ['household', 'names', 'adobe', 'jet', 'asos', 'schneider', 'electric', 'milliman', 'amongst', 'thousands', 'enterprises', 'powering', 'big', 'data', 'analytics', 'using', 'azure', 'hdinsight'], ['last', 'month', 'announced', 'public', 'preview', 'release', 'azure', 'blockchain', 'workbench', 'greatly', 'accelerates', 'blockchain', 'application', 'development', 'since', 'launch', 'seen', 'tremendous', 'amount', 'engagement', 'enthusiasm', 'customers', 'partners', 'thousands', 'different', 'blockchain', 'apps', 'processing', 'tens', 'thousands', 'transactions'], ['azure', 'data', 'factory', 'adf', 'fully', 'managed', 'data', 'integration', 'service', 'analytics', 'workloads', 'azure'], ['pleased', 'announce', 'new', 'feature', 'maven', 'plugin', 'azure', 'app', 'service', 'plugin', 'provides', 'seamless', 'integration', 'azure', 'services', 'maven', 'projects']]\n"
     ]
    }
   ],
   "source": [
    "#test zone to cleanup and remove punctuation from the original documents - leaves us wiht a list of strings with each\n",
    "#string containing the origninal text stripped of stopwords, punctuation, and small words ( 2 char or less)\n",
    "keepset = ('AI','ai','PI','pi','Pi') #small words worth keeping\n",
    "\n",
    "#print(token in stopset)\n",
    "#print(len(token)>2 or token.lower() in keepset)\n",
    "atdoc=0 #track our doc location in the docs list\n",
    "tstdocs = []\n",
    "corpastokens = [] #hold the corpus as a list of lists of tokenized sentences\n",
    "for doc in docs:\n",
    "    #tokens  = nltk.word_tokenize(doc)      #original working version\n",
    "    tokens  = nltk.wordpunct_tokenize(doc) #3/15 just to see how it works\n",
    "    cleanup = [token.lower() for token in tokens if token not in stopset and ( len(token)>2 or token in keepset) ]\n",
    "    #rawtext = nltk.Text(cleanup)\n",
    "    #print(type(docs[0]))\n",
    "    #print(type(rawtext))\n",
    "    #print(cleanup)\n",
    "    corpastokens.append(cleanup)\n",
    "    cleanup = ' '.join(cleanup)\n",
    "    docs[atdoc] = cleanup #see if this works 3/15\n",
    "    atdoc = atdoc+1\n",
    "    tstdocs.append(cleanup) \n",
    "\n",
    "    \n",
    "docn = len(docs)\n",
    "print('\\n number of docs is ',docn)\n",
    "print(docs[0],'\\n',docs[docn-1])\n",
    "print(corpastokens)\n"
   ]
  },
  {
   "cell_type": "code",
   "execution_count": 79,
   "metadata": {},
   "outputs": [],
   "source": [
    "#lets add word vectors\n",
    "import gensim\n",
    "from gensim.models.keyedvectors import KeyedVectors \n",
    "from gensim.models.word2vec import Word2Vec\n"
   ]
  },
  {
   "cell_type": "markdown",
   "metadata": {},
   "source": [
    "To create our own smaller model we need to structure our corpus a bit differently from its current list of sentences and make it a list of lists, with each sub-list a set of inddependent tokens. in effect. each sentence is morphed into a list of tokens and contained in a parent list.\n",
    "if this is one entry from our current corpus:\n",
    "\n",
    "'This is a continuation of our customer success story blog series for Azure Backup. In the previous case study we covered Russell Reynolds, here we will discuss how United Kingdom’s Somerset County Council are able to improve their backup and restore efficiency and reduce their backup cost using Azure backup.'\n",
    "\n",
    "it will now look like:\n",
    "['This', 'is', 'a', 'continuation', 'of', 'our', 'customer', 'success', 'story', 'blog', 'series', 'for', 'Azure', 'Backup', '.', 'In', 'the', 'previous', 'case', 'study', 'we', 'covered', 'Russell', 'Reynolds', ',', 'here', 'we', 'will', 'discuss', 'how', 'United', 'Kingdom', '’', 's', 'Somerset', 'County', 'Council', 'are', 'able', 'to', 'improve', 'their', 'backup', 'and', 'restore', 'efficiency', 'and', 'reduce', 'their', 'backup', 'cost', 'using', 'Azure', 'backup', '.']\n",
    "\n",
    "and so on.\n"
   ]
  },
  {
   "cell_type": "code",
   "execution_count": 88,
   "metadata": {},
   "outputs": [],
   "source": [
    "#corpastokens has this structure already so we can use it.\n",
    "num_features   = 75\n",
    "min_word_count = 2\n",
    "num_workers    = 4\n",
    "window_size    = 6\n",
    "subsampling    = 1e-3 \n",
    "skorcb         = 1 #skipgram (1) or CBOW(0)\n",
    "\n",
    "model = Word2Vec( corpastokens,workers=num_workers,size=num_features, min_count=min_word_count,window=window_size,\n",
    "                 sample=subsampling,hs=1,sg=skorcb) #hs original was 1 - windowsize was 5\n",
    "\n"
   ]
  },
  {
   "cell_type": "code",
   "execution_count": 89,
   "metadata": {},
   "outputs": [],
   "source": [
    "#https://machinelearningmastery.com/develop-word-embeddings-python-gensim/ \n"
   ]
  },
  {
   "cell_type": "code",
   "execution_count": 90,
   "metadata": {},
   "outputs": [
    {
     "name": "stdout",
     "output_type": "stream",
     "text": [
      "[('alerts', 0.9695249795913696), ('francisco', 0.9643243551254272), ('fast', 0.9636154174804688), ('application', 0.9627657532691956), ('backup', 0.9598745107650757), ('look', 0.9594034552574158), ('2018', 0.951857328414917), ('services', 0.9517619609832764), ('secure', 0.9513476490974426), ('apache', 0.9488990306854248)]\n"
     ]
    },
    {
     "name": "stderr",
     "output_type": "stream",
     "text": [
      "C:\\anaconda3\\envs\\tensorflow\\lib\\site-packages\\ipykernel_launcher.py:8: DeprecationWarning: Call to deprecated `__getitem__` (Method will be removed in 4.0.0, use self.wv.__getitem__() instead).\n",
      "  \n"
     ]
    },
    {
     "data": {
      "image/png": "[encoded data removed]",
      "text/plain": [
       "<Figure size 432x288 with 1 Axes>"
      ]
     },
     "metadata": {},
     "output_type": "display_data"
    },
    {
     "data": {
      "image/png": "[encoded data removed]",
      "text/plain": [
       "<Figure size 1080x648 with 1 Axes>"
      ]
     },
     "metadata": {},
     "output_type": "display_data"
    },
    {
     "name": "stdout",
     "output_type": "stream",
     "text": [
      "similar to data:  [('fast', 0.9169327020645142), ('important', 0.9072221517562866), ('key', 0.9050723314285278), ('azure', 0.9029145240783691), ('look', 0.897968053817749), ('secure', 0.8954912424087524), ('alerts', 0.8952292203903198), ('2018', 0.8950802087783813), ('service', 0.8917149305343628), ('services', 0.890526533126831)]\n",
      "================================================================================================================\n",
      "similar to service:  [('azure', 0.936855673789978), ('alerts', 0.9295392632484436), ('look', 0.9240469932556152), ('francisco', 0.9221923351287842), ('services', 0.9219522476196289), ('powerful', 0.9183684587478638), ('event', 0.9182925224304199), ('spark', 0.9172494411468506), ('let', 0.9165130853652954), ('application', 0.9162033796310425)]\n",
      "================================================================================================================\n",
      "try a word that may not in the vocabulary - but in the original text used in training \n",
      "similar to :  warehouse [('workflow', 0.47140127420425415), ('available', 0.4395145773887634), ('partners', 0.4241505265235901), ('thousands', 0.42234253883361816), ('manual', 0.41871294379234314), ('brings', 0.4139852523803711), ('become', 0.4125620722770691), ('flexible', 0.4067500829696655), ('powerful', 0.39932966232299805), ('adobe', 0.3982723355293274)]\n",
      "---------------------------\n",
      "try similarity of two words  0.9241277393944431\n",
      "try similarity of two words  0.9029144994866094\n",
      "try similarity of two words  0.8658617554092342\n",
      "try similarity of two words  0.8310541857694689\n",
      "try similarity of two words  0.5303500338405822\n"
     ]
    }
   ],
   "source": [
    "#!pip install matplotlib\n",
    "%matplotlib inline \n",
    "from sklearn.decomposition import PCA\n",
    "import matplotlib.pyplot as plt\n",
    "print(model.wv.most_similar('azure'))\n",
    "#print(model['azure'])\n",
    "#print(model.wv.vocab)\n",
    "X = model[model.wv.vocab]\n",
    "pca = PCA(n_components=2)\n",
    "result = pca.fit_transform(X)\n",
    "df = pd.DataFrame(result)\n",
    "#df.plot(figsize=(15,9))\n",
    "plt.scatter(result[:, 0], result[:,1 ])\n",
    "plt.show()\n",
    "\n",
    "#hack to make a very small vocabularly more visible in the graphics\n",
    "words = list(model.wv.vocab)\n",
    "plt.figure(figsize=(15,9))\n",
    "for i, word in enumerate(words):\n",
    "    plt.annotate(word, xy=(result[i, 0]*50, result[i, 1]*50))\n",
    "    \n",
    "\n",
    "\n",
    "plt.show()\n",
    "print(\"similar to data: \",model.wv.most_similar('data'))\n",
    "print('================================================================================================================')\n",
    "print(\"similar to service: \",model.wv.most_similar('service'))\n",
    "print(\"================================================================================================================\")\n",
    "print('try a word that may not in the vocabulary - but in the original text used in training ')\n",
    "aword='warehouse'\n",
    "if(aword in words):\n",
    "    print('similar to : ',aword,model.wv.most_similar(aword))\n",
    "    \n",
    "print('---------------------------')\n",
    "print(\"try similarity of two words \",model.wv.similarity('azure','spark'))\n",
    "print(\"try similarity of two words \",model.wv.similarity('azure','data'))\n",
    "print(\"try similarity of two words \",model.wv.similarity('azure','kafka'))\n",
    "print(\"try similarity of two words \",model.wv.similarity('data','kafka'))\n",
    "print(\"try similarity of two words \",model.wv.similarity('aks','kubernetes'))"
   ]
  },
  {
   "cell_type": "code",
   "execution_count": 83,
   "metadata": {},
   "outputs": [
    {
     "name": "stdout",
     "output_type": "stream",
     "text": [
      "0.11386075643230051\n",
      "0.022152606399311964\n",
      "0.23389465566360357\n",
      "-0.06550849287801894\n",
      "Scoring:  recently one customer said asp net core application [-324.4263]\n",
      "look at an items in detail...\n",
      "accounts    Vocab(code:array([0, 0, 0, 0, 1, 1, 0, 1, 1, 1...\n",
      "dtype: object\n",
      "-----------------\n",
      "azure Vocab(code:array([1, 1, 0, 1, 0], dtype=uint8), count:44, index:0, point:array([647, 646, 644, 639, 630], dtype=uint32), sample_int:807409979)\n",
      "-----------------\n",
      "azure blockchain distance:  0.04925724\n",
      "azure hdinsight distance:  0.049475837\n",
      "the overall model:  Word2Vec(vocab=649, size=75, alpha=0.025)\n",
      "model vector for:  azure [-0.00013219 -0.00435971 -0.00191226 -0.00258101 -0.00381363  0.00016474\n",
      " -0.00511923  0.00419698 -0.00106773  0.00137378 -0.00325962 -0.00030125\n",
      "  0.00216919  0.00433996 -0.00048555  0.00623498 -0.00119852 -0.00460559\n",
      "  0.00277737 -0.00068151 -0.00666844 -0.00218212  0.00350475  0.00898971\n",
      "  0.00308799 -0.00475775  0.00352444  0.0087028   0.00109819 -0.00447903\n",
      " -0.00430133 -0.00516216  0.00186852 -0.00178519 -0.0037211  -0.00089771\n",
      "  0.00485792  0.00143958  0.00502455  0.00386288 -0.00500946  0.00050267\n",
      "  0.00163603 -0.00053799 -0.00211643 -0.00037495 -0.00085084 -0.00132161\n",
      " -0.00444811 -0.00047106  0.00146469 -0.00286168 -0.00263776  0.00802558\n",
      " -0.00300476 -0.00536729 -0.00509775 -0.0009916   0.00620479 -0.00362998\n",
      "  0.00169751  0.00647389  0.0016104   0.00296865 -0.00800155  0.00412697\n",
      "  0.00093718  0.0018533  -0.00017113 -0.00015948  0.0028597   0.00282978\n",
      "  0.00526317  0.00138211]\n"
     ]
    },
    {
     "name": "stderr",
     "output_type": "stream",
     "text": [
      "C:\\anaconda3\\envs\\tensorflow\\lib\\site-packages\\ipykernel_launcher.py:24: DeprecationWarning: Call to deprecated `__getitem__` (Method will be removed in 4.0.0, use self.wv.__getitem__() instead).\n"
     ]
    }
   ],
   "source": [
    "#some other tests\n",
    "print(model.wv.similarity('azure', 'blockchain')) #try kafka\n",
    "print(model.wv.similarity('azure', 'secure'))\n",
    "print(model.wv.similarity('hdinsight', 'kafka'))\n",
    "print(model.wv.similarity('security', 'backups'))\n",
    "sss = 'recently one customer said asp net core application'\n",
    "senttoscore = \"azure backups over a data warehouse\" #really only useful using hierarchical softmax so this is noise\n",
    "\n",
    "print( \"Scoring: \",sss,model.score([sss.split()]))\n",
    "\n",
    "print('look at an items in detail...')\n",
    "pdvocab = pd.Series(model.wv.vocab)\n",
    "print(pdvocab.iloc[12:13])\n",
    "print('-----------------')\n",
    "aword='azure'\n",
    "print(aword,pdvocab[aword])\n",
    "print('-----------------')\n",
    "\n",
    "print('azure blockchain distance: ',np.linalg.norm(model.wv['azure']-model.wv['blockchain']))\n",
    "\n",
    "print('azure hdinsight distance: ',np.linalg.norm(model.wv['analytics']-model.wv['apache']))\n",
    "\n",
    "print('the overall model: ',model)\n",
    "print('model vector for: ',aword,model[aword][0:74]) #last arg is the vector dimension"
   ]
  },
  {
   "cell_type": "code",
   "execution_count": 84,
   "metadata": {},
   "outputs": [
    {
     "name": "stdout",
     "output_type": "stream",
     "text": [
      "---------------------------------break----------------------------------------------\n"
     ]
    },
    {
     "name": "stderr",
     "output_type": "stream",
     "text": [
      "C:\\anaconda3\\envs\\tensorflow\\lib\\site-packages\\gensim\\models\\phrases.py:494: UserWarning: For a faster implementation, use the gensim.models.phrases.Phraser class\n",
      "  warnings.warn(\"For a faster implementation, use the gensim.models.phrases.Phraser class\")\n"
     ]
    },
    {
     "name": "stdout",
     "output_type": "stream",
     "text": [
      "-0.03346573484771784\n",
      "0.1325885232462114\n",
      "0.18121406441122373\n",
      "-0.1153451465622537\n",
      "--------------------------------break--------------------------------------------------\n",
      "keep in mind - this is dummy stuff without hs=1 in the model definition for hierarchical softmax\n",
      "Scoring:  kubernetes services azure [-29.74101]\n",
      "Second Scoring:  azure backups over a security warehouse [-26.914043]\n"
     ]
    }
   ],
   "source": [
    "#let's try phrases\n",
    "bigrams = gensim.models.Phrases(corpastokens)\n",
    "modelbg = Word2Vec(bigrams[corpastokens],window=3,size=75,min_count=2,hs=1,sg=skorcb) #hs original 1\n",
    "phrases = list(modelbg.wv.vocab)\n",
    "#print(phrases)\n",
    "print(\"---------------------------------break----------------------------------------------\")\n",
    "\n",
    "print(modelbg.wv.similarity('azure', 'blockchain')) #was kafka\n",
    "print(modelbg.wv.similarity('azure', 'security'))\n",
    "print(modelbg.wv.similarity('hdinsight', 'kafka'))\n",
    "print(modelbg.wv.similarity('python', 'code'))\n",
    "print('--------------------------------break--------------------------------------------------')\n",
    "senttoscore = \"kubernetes services azure\"\n",
    "print('keep in mind - this is dummy stuff without hs=1 in the model definition for hierarchical softmax')\n",
    "print( \"Scoring: \",senttoscore,modelbg.score([senttoscore.split()]))\n",
    "senttoscore = \"azure backups over a security warehouse\"\n",
    "print( \"Second Scoring: \", senttoscore,modelbg.score([senttoscore.split()]))\n",
    "\n",
    "#finally - save the model is ascii format so we can eyeball it\n",
    "model.wv.save_word2vec_format('wordmodel.txt',binary=False)"
   ]
  },
  {
   "cell_type": "code",
   "execution_count": null,
   "metadata": {},
   "outputs": [],
   "source": []
  }
 ],
 "metadata": {
  "kernelspec": {
   "display_name": "Python 3",
   "language": "python",
   "name": "python3"
  },
  "language_info": {
   "codemirror_mode": {
    "name": "ipython",
    "version": 3
   },
   "file_extension": ".py",
   "mimetype": "text/x-python",
   "name": "python",
   "nbconvert_exporter": "python",
   "pygments_lexer": "ipython3",
   "version": "3.5.5"
  }
 },
 "nbformat": 4,
 "nbformat_minor": 2
}
