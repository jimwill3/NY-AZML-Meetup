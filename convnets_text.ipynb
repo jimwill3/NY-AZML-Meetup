{
 "cells": [
  {
   "cell_type": "code",
   "execution_count": 1,
   "metadata": {},
   "outputs": [
    {
     "name": "stderr",
     "output_type": "stream",
     "text": [
      "Using TensorFlow backend.\n"
     ]
    },
    {
     "data": {
      "text/plain": [
       "'2.2.2'"
      ]
     },
     "execution_count": 1,
     "metadata": {},
     "output_type": "execute_result"
    }
   ],
   "source": [
    "import keras\n",
    "keras.__version__"
   ]
  },
  {
   "cell_type": "markdown",
   "metadata": {},
   "source": [
    "This workbook is a modified version of the workbook created for chapter 6 section of Deep Learning with Python, a highly recommended book and sample code source. The book is available at: https://www.manning.com/books/deep-learning-with-python?a_aid=keras&a_bid=76564dff "
   ]
  },
  {
   "cell_type": "markdown",
   "metadata": {},
   "source": [
    "This is also using convnets over text sequences - meant to be more standalone that the book version, any mistakes are mine."
   ]
  },
  {
   "cell_type": "code",
   "execution_count": null,
   "metadata": {},
   "outputs": [],
   "source": []
  },
  {
   "cell_type": "markdown",
   "metadata": {},
   "source": [
    "In Keras, you would use a 1D convnet via the Conv1D layer, which has a very similar interface to Conv2D. It takes as input 3D tensors with shape (samples, time, features) and also returns similarly-shaped 3D tensors. The convolution window is a 1D window on the temporal axis, axis 1 in the input tensor.\n",
    "Let's build a simple 2-layer 1D convnet and apply it to the IMDB sentiment classification task that you are already familiar with.\n",
    "As a reminder, this is the code for obtaining and preprocessing the data:"
   ]
  },
  {
   "cell_type": "code",
   "execution_count": 2,
   "metadata": {},
   "outputs": [
    {
     "name": "stdout",
     "output_type": "stream",
     "text": [
      "Loading data...\n",
      "25000 train sequences\n",
      "25000 test sequences\n",
      "Pad sequences (samples x time)\n",
      "x_train shape: (25000, 500)\n",
      "x_test shape: (25000, 500)\n"
     ]
    }
   ],
   "source": [
    "from keras.datasets import imdb\n",
    "from keras.preprocessing import sequence\n",
    "\n",
    "max_features = 10000       # number of words to consider as features\n",
    "max_len      = 500         # cut texts after this number of words (among top max_features most common words)\n",
    "\n",
    "print('Loading data...')\n",
    "(x_train, y_train), (x_test, y_test) = imdb.load_data(num_words=max_features)\n",
    "print(len(x_train), 'train sequences')\n",
    "print(len(x_test), 'test sequences')\n",
    "\n",
    "print('Pad sequences (samples x time)')\n",
    "x_train = sequence.pad_sequences(x_train, maxlen=max_len)\n",
    "x_test = sequence.pad_sequences(x_test, maxlen=max_len)\n",
    "print('x_train shape:', x_train.shape)\n",
    "print('x_test shape:', x_test.shape)"
   ]
  },
  {
   "cell_type": "markdown",
   "metadata": {},
   "source": [
    "1D convnets are structured in the same way as their 2D counter-parts that you have used in Chapter 5: they consist of a stack of Conv1D and MaxPooling1D layers, eventually ending in either a global pooling layer or a Flatten layer, turning the 3D outputs into 2D outputs, allowing to add one or more Dense layers to the model, for classification or regression.\n",
    "One difference, though, is the fact that we can afford to use larger convolution windows with 1D convnets. Indeed, with a 2D convolution layer, a 3x3 convolution window contains 3*3 = 9 feature vectors, but with a 1D convolution layer, a convolution window of size 3 would only contain 3 feature vectors. We can thus easily afford 1D convolution windows of size 7 or 9.\n",
    "This is our example 1D convnet for the IMDB dataset:\n",
    "(note - experimenting with the window/kernal/filter size is always interesting)"
   ]
  },
  {
   "cell_type": "code",
   "execution_count": 3,
   "metadata": {},
   "outputs": [
    {
     "name": "stdout",
     "output_type": "stream",
     "text": [
      "_________________________________________________________________\n",
      "Layer (type)                 Output Shape              Param #   \n",
      "=================================================================\n",
      "embedding_1 (Embedding)      (None, 500, 128)          1280000   \n",
      "_________________________________________________________________\n",
      "conv1d_1 (Conv1D)            (None, 494, 32)           28704     \n",
      "_________________________________________________________________\n",
      "max_pooling1d_1 (MaxPooling1 (None, 98, 32)            0         \n",
      "_________________________________________________________________\n",
      "dropout_1 (Dropout)          (None, 98, 32)            0         \n",
      "_________________________________________________________________\n",
      "conv1d_2 (Conv1D)            (None, 92, 32)            7200      \n",
      "_________________________________________________________________\n",
      "global_max_pooling1d_1 (Glob (None, 32)                0         \n",
      "_________________________________________________________________\n",
      "dense_1 (Dense)              (None, 1)                 33        \n",
      "=================================================================\n",
      "Total params: 1,315,937\n",
      "Trainable params: 1,315,937\n",
      "Non-trainable params: 0\n",
      "_________________________________________________________________\n",
      "Train on 20000 samples, validate on 5000 samples\n",
      "Epoch 1/8\n",
      "20000/20000 [==============================] - 74s 4ms/step - loss: 0.7362 - acc: 0.5232 - val_loss: 0.6950 - val_acc: 0.5080\n",
      "Epoch 2/8\n",
      "20000/20000 [==============================] - 76s 4ms/step - loss: 0.6758 - acc: 0.6023 - val_loss: 0.6716 - val_acc: 0.5976\n",
      "Epoch 3/8\n",
      "20000/20000 [==============================] - 80s 4ms/step - loss: 0.6449 - acc: 0.6765 - val_loss: 0.6262 - val_acc: 0.7200\n",
      "Epoch 4/8\n",
      "20000/20000 [==============================] - 79s 4ms/step - loss: 0.5713 - acc: 0.7560 - val_loss: 0.5261 - val_acc: 0.7860\n",
      "Epoch 5/8\n",
      "20000/20000 [==============================] - 74s 4ms/step - loss: 0.4592 - acc: 0.8131 - val_loss: 0.4420 - val_acc: 0.8258\n",
      "Epoch 6/8\n",
      "20000/20000 [==============================] - 74s 4ms/step - loss: 0.3969 - acc: 0.8448 - val_loss: 0.4400 - val_acc: 0.8322\n",
      "Epoch 7/8\n",
      "20000/20000 [==============================] - 82s 4ms/step - loss: 0.3501 - acc: 0.8577 - val_loss: 0.4039 - val_acc: 0.8442\n",
      "Epoch 8/8\n",
      "20000/20000 [==============================] - 87s 4ms/step - loss: 0.3273 - acc: 0.8588 - val_loss: 0.4267 - val_acc: 0.8360\n"
     ]
    }
   ],
   "source": [
    "from keras.models import Sequential\n",
    "from keras import layers\n",
    "from keras.optimizers import RMSprop\n",
    "from keras.layers import Dropout\n",
    "\n",
    "#original settings get us 74% accuracy\n",
    "#change to 8 epochs and defaults results in .8174 val_acc - highest so far - prevent overfitting \n",
    "model = Sequential()\n",
    "\n",
    "model.add(layers.Embedding(max_features, 128, input_length=max_len)) #orig 128 \n",
    "model.add(layers.Conv1D(32, 7, activation='relu'))  #orig 32,7,activation=relu; kernel to 9-> .7456\n",
    "model.add(layers.MaxPooling1D(5))                   #orig 5 with 9 get a val_acc of .7682, with 5 val_acc=.7468\n",
    "model.add(Dropout(0.2))                             #jw test 8/14\n",
    "model.add(layers.Conv1D(32, 7, activation='relu'))  #orig 32,7,relu; kernel to 9-> .7356\n",
    "model.add(layers.GlobalMaxPooling1D())\n",
    "model.add(layers.Dense(1))\n",
    "\n",
    "model.summary()\n",
    "\n",
    "model.compile(optimizer=RMSprop(lr=1e-4),\n",
    "              loss='binary_crossentropy',\n",
    "              metrics=['acc'])\n",
    "history = model.fit(x_train, y_train,\n",
    "                    epochs=8,                #orig 10 - try 8\n",
    "                    batch_size=128,\n",
    "                    validation_split=0.2)"
   ]
  },
  {
   "cell_type": "markdown",
   "metadata": {},
   "source": [
    "At that point, we could re-train this model for the right number of epochs (8), and run it on the test set. This is a convincing demonstration that a 1D convnet can offer a fast, cheap alternative to a recurrent network on a word-level sentiment classification task. - let's validate that claim by changing epochs but let's also add plotting"
   ]
  },
  {
   "cell_type": "code",
   "execution_count": 4,
   "metadata": {},
   "outputs": [
    {
     "data": {
      "image/png": "[encoded data removed]",
      "text/plain": [
       "<Figure size 432x288 with 1 Axes>"
      ]
     },
     "metadata": {},
     "output_type": "display_data"
    },
    {
     "data": {
      "image/png": "[encoded data removed]",
      "text/plain": [
       "<Figure size 432x288 with 1 Axes>"
      ]
     },
     "metadata": {},
     "output_type": "display_data"
    }
   ],
   "source": [
    "%matplotlib inline \n",
    "import matplotlib.pyplot as plt\n",
    "\n",
    "acc = history.history['acc']\n",
    "val_acc = history.history['val_acc']\n",
    "loss = history.history['loss']\n",
    "val_loss = history.history['val_loss']\n",
    "\n",
    "epochs = range(len(acc))\n",
    "\n",
    "plt.plot(epochs, acc, 'bo', label='Training acc')\n",
    "plt.plot(epochs, val_acc, 'b', label='Validation acc')\n",
    "plt.title('Training and validation accuracy')\n",
    "plt.legend()\n",
    "\n",
    "plt.figure()\n",
    "\n",
    "plt.plot(epochs, loss, 'bo', label='Training loss')\n",
    "plt.plot(epochs, val_loss, 'b', label='Validation loss')\n",
    "plt.title('Training and validation loss')\n",
    "plt.legend()\n",
    "\n",
    "plt.show()"
   ]
  },
  {
   "cell_type": "code",
   "execution_count": 8,
   "metadata": {},
   "outputs": [
    {
     "name": "stdout",
     "output_type": "stream",
     "text": [
      "<keras_preprocessing.text.Tokenizer object at 0x00000278BA14DEF0>\n",
      "[[4, 5, 1, 2, 1, 2, 1, 2, 3, 6, 3]]\n",
      "ptext shape:  (1, 500)\n",
      "0.34132499\n"
     ]
    }
   ],
   "source": [
    "#there is an issue here - the original tokenizer must be saved and used again. a new instance of the tokenizer will not work so\n",
    "#this is a placeholder until i take care of that. this will run but provides nonsense results in current form \n",
    "\n",
    "from keras.preprocessing.text import Tokenizer\n",
    "from keras.preprocessing.sequence import pad_sequences\n",
    "import numpy as np\n",
    "\n",
    "text = ['that movie was bad was bad was bad my oh my']\n",
    "\n",
    "tokenizer = Tokenizer(num_words=max_features)\n",
    "tokenizer.fit_on_texts(text)\n",
    "print(tokenizer)\n",
    "sequences=tokenizer.texts_to_sequences(text)\n",
    "\n",
    "print(sequences)\n",
    "word_index=tokenizer.word_index\n",
    "\n",
    "ptext = pad_sequences(sequences,maxlen=max_len) #pad my input to 500 as defined eariler\n",
    "print('ptext shape: ',ptext.shape)\n",
    "\n",
    "prediction = model.predict(np.array(ptext))\n",
    "print(prediction[0][0])"
   ]
  },
  {
   "cell_type": "code",
   "execution_count": null,
   "metadata": {},
   "outputs": [],
   "source": []
  }
 ],
 "metadata": {
  "kernelspec": {
   "display_name": "Python 3",
   "language": "python",
   "name": "python3"
  },
  "language_info": {
   "codemirror_mode": {
    "name": "ipython",
    "version": 3
   },
   "file_extension": ".py",
   "mimetype": "text/x-python",
   "name": "python",
   "nbconvert_exporter": "python",
   "pygments_lexer": "ipython3",
   "version": "3.5.5"
  }
 },
 "nbformat": 4,
 "nbformat_minor": 2
}
