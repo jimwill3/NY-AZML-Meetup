{
 "cells": [
  {
   "cell_type": "markdown",
   "metadata": {
    "collapsed": true
   },
   "source": [
    "For the meetup on Dec 5, 2018 this is the main python notebook. To use all the functions you will need to obtain your own text analytics subsription key for Azure (free for up to 5000 calls per month) and update this code for where ever you decide to store the text filings. Note the using the entity detection is an option and can be replaced or ignored as no other functions depend upon it. \n",
    "A number of ideas for this come out of the book \"Text Analytics with Python\" by Dipanjan Sarkar publihed by Apress. This is a busy notebook and needs refactoring, but it does illustrate the things discusssed in the meetup."
   ]
  },
  {
   "cell_type": "code",
   "execution_count": null,
   "metadata": {
    "collapsed": true
   },
   "outputs": [],
   "source": []
  },
  {
   "cell_type": "code",
   "execution_count": 459,
   "metadata": {},
   "outputs": [
    {
     "name": "stderr",
     "output_type": "stream",
     "text": [
      "C:\\anaconda3\\lib\\site-packages\\gensim\\utils.py:1197: UserWarning: detected Windows; aliasing chunkize to chunkize_serial\n",
      "  warnings.warn(\"detected Windows; aliasing chunkize to chunkize_serial\")\n"
     ]
    }
   ],
   "source": [
    "import sys\n",
    "import pandas as pd\n",
    "import nltk\n",
    "import io\n",
    "import string\n",
    "import requests\n",
    "import time\n",
    "from textblob import TextBlob \n",
    "from sklearn.feature_extraction.text import TfidfVectorizer\n",
    "from sklearn.feature_extraction.text import CountVectorizer\n",
    "from sklearn.feature_extraction.text import TfidfTransformer\n",
    "from wordcloud import WordCloud\n",
    "from nltk.stem import WordNetLemmatizer\n",
    "from gensim import corpora, models\n",
    "import matplotlib.pyplot as plt\n"
   ]
  },
  {
   "cell_type": "code",
   "execution_count": 309,
   "metadata": {
    "collapsed": true
   },
   "outputs": [],
   "source": [
    "%matplotlib inline"
   ]
  },
  {
   "cell_type": "code",
   "execution_count": 310,
   "metadata": {
    "collapsed": true
   },
   "outputs": [],
   "source": [
    "def getents(segment): #segment is a string of text - representing a coherent chunk of a document\n",
    "    baseuri   = 'https://westus2.api.cognitive.microsoft.com/text/analytics/v2.0'\n",
    "    entapi    = baseuri + '/entities'\n",
    "    headers   = {'Content-Type': 'application/json', 'Ocp-Apim-Subscription-Key': 'yourkey'}\n",
    "    \n",
    "    segtogo ={\"documents\": [\n",
    "    {\n",
    "      \"language\": \"en\",\n",
    "      \"id\": \"1\",\n",
    "      \"text\": segment \n",
    "      }\n",
    "      ]\n",
    "    }\n",
    "    try:\n",
    "        response  = requests.post(entapi,headers=headers,json=segtogo)\n",
    "        resp      = response.json()\n",
    "        names =  [ent['name'] for ent in resp['documents'][0]['entities'] ]\n",
    "    except Exception as exc:\n",
    "        print(\"Exceptin in getents:\",exc)\n",
    "        pass\n",
    "        return []\n",
    "    return names"
   ]
  },
  {
   "cell_type": "code",
   "execution_count": 557,
   "metadata": {},
   "outputs": [
    {
     "name": "stdout",
     "output_type": "stream",
     "text": [
      "[nltk_data] Downloading package stopwords to\n",
      "[nltk_data]     C:\\Users\\jiwillia\\AppData\\Roaming\\nltk_data...\n",
      "[nltk_data]   Package stopwords is already up-to-date!\n"
     ]
    }
   ],
   "source": [
    "nltk.download('stopwords')\n",
    "stopw = set(nltk.corpus.stopwords.words('english'))\n",
    "morestopw = ['0092','0093','0094','0095','2012','2013','2014','2015','2016','2017','2018','years','yearend','yearended','cash','report' \\\n",
    "'part','item','table','fiscal','ended','year','financial','vice','president','statements','annual','form', \\\n",
    "'corporation','item1','item1a','item7','item7a','may','due','investor','inc.','sec','report','1a','7a', \\\n",
    "'2000','2001','2002','2003','2004','2005','2006','2007','2008','2009','2010','2011','part','1','7'] \n",
    "stopw.update(morestopw)\n",
    "\n",
    "keepset = ('ai','io','up','fb')\n",
    "\n",
    "punks = set(string.punctuation)"
   ]
  },
  {
   "cell_type": "code",
   "execution_count": 558,
   "metadata": {
    "collapsed": true
   },
   "outputs": [],
   "source": [
    "def display_features(feats,featnames):\n",
    "    df=pd.DataFrame(data=feats,columns=featnames,index=feats)\n",
    "    print(df.describe())"
   ]
  },
  {
   "cell_type": "code",
   "execution_count": 559,
   "metadata": {
    "collapsed": true
   },
   "outputs": [],
   "source": [
    "def filtodoc(afile):\n",
    "        ttokfs   = []\n",
    "        tsents   = []\n",
    "        cleandoc = []\n",
    "        print('The file to convert is ',afile)\n",
    "        afile    = \"1031/\"+afile\n",
    "        with io.open(afile,'r',encoding='utf-8-sig',errors='ignore') as f:\n",
    "            allines=f.read()    \n",
    "        ttoks   = nltk.tokenize.word_tokenize(allines)\n",
    "        tsents  = nltk.tokenize.sent_tokenize(allines)\n",
    "                                               #filter out tokens of low value\n",
    "        ttoksf  = [word.lower() for word in ttoks if word.lower() not in stopw and word.lower() not in punks and \\\n",
    "                       (len(word.lower()) > 2 or word.lower() in keepset)]\n",
    "        #lemmatize the tokens 12/4/18\n",
    "        lemmat  = WordNetLemmatizer()\n",
    "        ttoksf  = [lemmat.lemmatize(t,pos='v') for t in ttoksf] #v=verbs this can reduce features by 10 to 20%\n",
    "        \n",
    "        freqd   = nltk.FreqDist(ttoksf)\n",
    "        bgrams  = nltk.FreqDist(nltk.bigrams(ttoksf))\n",
    "        tgrams  = nltk.FreqDist(nltk.trigrams(ttoksf))\n",
    "        bdf     = pd.DataFrame(bgrams.most_common(10))\n",
    "        tdf     = pd.DataFrame(tgrams.most_common(10))\n",
    "        print('Simple summary stats for ', afile)\n",
    "        print(\"\\t Sentence count is \",len(tsents))\n",
    "        print('\\t Ten most common words ',freqd.most_common(10))\n",
    "        print(bdf.describe,tdf.describe)\n",
    "        print('\\t ************* \\n\\n')\n",
    "        cleandoc = [' '.join(ttoksf)]          \n",
    "        \n",
    "        f.close()\n",
    "        return cleandoc #ttoksf   #these are still token lists and need to be cleaned and then returned as doc of strings\n",
    "                        #should return cleandoc now instead of the ttoksf 12/3/18 11:20AM\n",
    "    "
   ]
  },
  {
   "cell_type": "code",
   "execution_count": 560,
   "metadata": {
    "collapsed": true
   },
   "outputs": [],
   "source": [
    "def buildvectorizers(thecorpus):  #the corpus is a list of documents where each document is cleaned but word order maintained\n",
    "    print('thecorpus doccount is ',len(thecorpus))\n",
    "    cvec            = CountVectorizer(min_df=2)\n",
    "    ccounts         = cvec.fit_transform(thecorpus)\n",
    "    #print('ccounts shape',ccounts.shape)\n",
    "    ctfv            = TfidfVectorizer(min_df=2)\n",
    "    ctfid           = ctfv.fit_transform(thecorpus)\n",
    "\n",
    "    csklearn_tfid   = TfidfVectorizer(norm='l2',min_df=0.2, max_df=0.8, use_idf=True, smooth_idf=False, stop_words=stopw, \\\n",
    "                                sublinear_tf=True,ngram_range=(1,1))\n",
    "    csklearn_rep    = csklearn_tfid.fit_transform(thecorpus)\n",
    "    cskarray        = csklearn_rep.toarray()\n",
    "    cfeats          = csklearn_tfid.get_feature_names()              # same as CountVectorizer\n",
    "    mydictokens     = [nltk.word_tokenize(doc) for doc in thecorpus] #need for topic analysis downstream\n",
    "    dictionary      = corpora.Dictionary(mydictokens)                #need fot topic analysis downstream\n",
    "    \n",
    "                                                        #print(\"Some TFID Features\",cfeats[50:70],'\\n')\n",
    "                                                        #print(\"TFID entry for \",cfeats[57],  ' is ',cskarray[0:,57].tolist())\n",
    "    return cfeats,csklearn_rep,csklearn_tfid,dictionary #return features names and the xformrep of the features and the TFID"
   ]
  },
  {
   "cell_type": "code",
   "execution_count": 592,
   "metadata": {},
   "outputs": [
    {
     "name": "stdout",
     "output_type": "stream",
     "text": [
      "1031/MSFT2016Item 1\n"
     ]
    }
   ],
   "source": [
    "fils =['GOOG2015Item 1A','GOOG2016Item 1A','GOOG2017Item 1A']\n",
    "msfils1 =['MSFT2012Item 1','MSFT2013Item 1','MSFT2014Item 1','MSFT2015Item 1','MSFT2016Item 1','MSFT2014Item 1A', \\\n",
    "         'MSFT2015Item 1A', 'MSFT2016Item 1A']\n",
    "\n",
    "ggfils1=['GOOG2015Item 1','GOOG2016Item 1','GOOG2017Item 1','GOOG2015Item 1A', 'GOOG2016Item 1A','GOOG2017Item 1A']\n",
    "\n",
    "mixfils=['GOOG2015Item 1A','GOOG2016Item 1A','GOOG2017Item 1A','MSFT2015Item 1', 'MSFT2016Item 1','MSFT2017Item 1A']\n",
    "\n",
    "verymix=['GOOG2016Item 1A','MSFT2015Item 1','AMZN2015Item 7','FB2016Item 1','IBM2017Item 7A','satya.txt']\n",
    "\n",
    "fildir  = \"1031/\"\n",
    "fil  = fildir+ msfils1[4]\n",
    "print(fil)\n",
    "\n",
    "fils=msfils1 #blast thru msft files\n",
    "fils=mixfils #mix of msft and google \n",
    "fils=verymix\n"
   ]
  },
  {
   "cell_type": "code",
   "execution_count": 593,
   "metadata": {
    "collapsed": true
   },
   "outputs": [],
   "source": [
    "#take in list of files for covnert them into a corpus list of tokenized documents ready for text analytics\n",
    "def buildcorpus(infiles):\n",
    "    doctrack = 0\n",
    "    if not isinstance(infiles,list):\n",
    "        print(infiles,\" is not a list but appears to be \",type(infiles))\n",
    "        return []\n",
    "    else:\n",
    "        #build the corpus\n",
    "        print('processing files: ',infiles)\n",
    "        corpus=[]\n",
    "        for afil in infiles:\n",
    "            print('processing ',afil)\n",
    "            adoc             = []\n",
    "            adoc             = filtodoc(afil)\n",
    "            corpus.extend(adoc)\n",
    "        return corpus"
   ]
  },
  {
   "cell_type": "code",
   "execution_count": 594,
   "metadata": {},
   "outputs": [
    {
     "name": "stdout",
     "output_type": "stream",
     "text": [
      "processing files:  ['GOOG2016Item 1A', 'MSFT2015Item 1', 'AMZN2015Item 7', 'FB2016Item 1', 'IBM2017Item 7A', 'satya.txt']\n",
      "processing  GOOG2016Item 1A\n",
      "The file to convert is  GOOG2016Item 1A\n",
      "Simple summary stats for  1031/GOOG2016Item 1A\n",
      "\t Sentence count is  341\n",
      "\t Ten most common words  [('could', 107), ('result', 98), ('products', 93), ('service', 88), ('business', 67), ('stock', 49), ('users', 45), ('include', 43), ('operate', 39), ('new', 37)]\n",
      "<bound method NDFrame.describe of                           0   1\n",
      "0       (products, service)  63\n",
      "1         (operate, result)  23\n",
      "2  (intellectual, property)  22\n",
      "3       (adversely, affect)  18\n",
      "4          (capital, stock)  18\n",
      "5          (class, capital)  14\n",
      "6        (could, adversely)  13\n",
      "7           (could, result)  12\n",
      "8           (common, stock)  12\n",
      "9           (class, common)  12> <bound method NDFrame.describe of                                    0   1\n",
      "0            (class, capital, stock)  14\n",
      "1             (class, common, stock)  12\n",
      "2         (could, adversely, affect)  12\n",
      "3  (products, service, technologies)   9\n",
      "4           (new, products, service)   8\n",
      "5    (intellectual, property, right)   8\n",
      "6             (common, stock, class)   7\n",
      "7            (stock, class, capital)   7\n",
      "8         (google, network, members)   7\n",
      "9       (stock, repurchase, program)   6>\n",
      "\t ************* \n",
      "\n",
      "\n",
      "processing  MSFT2015Item 1\n",
      "The file to convert is  MSFT2015Item 1\n",
      "Simple summary stats for  1031/MSFT2015Item 1\n",
      "\t Sentence count is  338\n",
      "\t Ten most common words  [('service', 114), ('license', 63), ('products', 58), ('include', 58), ('windows', 56), ('microsoft', 54), ('business', 54), ('software', 54), ('cloud', 49), ('devices', 49)]\n",
      "<bound method NDFrame.describe of                          0   1\n",
      "0      (products, service)  28\n",
      "1         (cloud, service)  17\n",
      "2        (operate, system)  13\n",
      "3  (research, development)  12\n",
      "4       (server, products)  10\n",
      "5        (volume, license)  10\n",
      "6    (software, assurance)  10\n",
      "7       (service, include)   9\n",
      "8            (office, 365)   9\n",
      "9          (small, medium)   8> <bound method NDFrame.describe of                                    0  1\n",
      "0         (windows, operate, system)  7\n",
      "1     (license, software, assurance)  6\n",
      "2     (purchase, perpetual, license)  6\n",
      "3          (revenue, mainly, affect)  6\n",
      "4  (productivity, business, process)  6\n",
      "5          (growth, depend, ability)  5\n",
      "6         (products, cloud, service)  5\n",
      "7          (server, products, cloud)  5\n",
      "8      (cloud, service, on-premises)  4\n",
      "9   (service, on-premises, software)  4>\n",
      "\t ************* \n",
      "\n",
      "\n",
      "processing  AMZN2015Item 7\n",
      "The file to convert is  AMZN2015Item 7\n",
      "Simple summary stats for  1031/AMZN2015Item 7\n",
      "\t Sentence count is  303\n",
      "\t Ten most common words  [('sales', 87), ('increase', 80), ('cost', 77), ('million', 71), ('tax', 69), ('operate', 66), ('include', 60), ('net', 57), ('primarily', 52), ('income', 50)]\n",
      "<bound method NDFrame.describe of                              0   1\n",
      "0  (stock-based, compensation)  29\n",
      "1              (exchange, rat)  24\n",
      "2                 (free, flow)  22\n",
      "3          (comparable, prior)  22\n",
      "4                 (net, sales)  20\n",
      "5          (foreign, exchange)  20\n",
      "6           (operate, expense)  19\n",
      "7        (compare, comparable)  19\n",
      "8      (principal, repayments)  17\n",
      "9               (provide, use)  16> <bound method NDFrame.describe of                                   0   1\n",
      "0          (foreign, exchange, rat)  20\n",
      "1      (compare, comparable, prior)  19\n",
      "2      (absolute, dollars, compare)  11\n",
      "3      (comparable, prior, periods)  11\n",
      "4    (dollars, compare, comparable)  11\n",
      "5       (comparable, prior, period)  11\n",
      "6    (lease, principal, repayments)   9\n",
      "7                (free, flow, less)   9\n",
      "8               (net, provide, use)   9\n",
      "9  (software, website, development)   8>\n",
      "\t ************* \n",
      "\n",
      "\n",
      "processing  FB2016Item 1\n",
      "The file to convert is  FB2016Item 1\n",
      "Simple summary stats for  1031/FB2016Item 1\n",
      "\t Sentence count is  79\n",
      "\t Ten most common words  [('products', 21), ('people', 16), ('information', 14), ('company', 13), ('data', 13), ('include', 13), ('service', 11), ('laws', 10), ('state', 10), ('facebook', 9)]\n",
      "<bound method NDFrame.describe of                      0  1\n",
      "0  (laws, regulations)  7\n",
      "1  (products, service)  6\n",
      "2       (unite, state)  5\n",
      "3     (federal, state)  5\n",
      "4   (data, protection)  5\n",
      "5      (foreign, laws)  4\n",
      "6     (state, foreign)  4\n",
      "7     (enable, people)  4\n",
      "8       (third, party)  3\n",
      "9   (company, provide)  3> <bound method NDFrame.describe of                                     0  1\n",
      "0           (federal, state, foreign)  4\n",
      "1              (state, foreign, laws)  3\n",
      "2                (name, appear, 10-k)  2\n",
      "3    (research, development, expense)  2\n",
      "4           (enable, people, connect)  2\n",
      "5            (people, connect, share)  2\n",
      "6      (patent, patent, applications)  2\n",
      "7  (information, segment, geographic)  2\n",
      "8               (exchange, act, file)  2\n",
      "9           (public, reference, room)  2>\n",
      "\t ************* \n",
      "\n",
      "\n",
      "processing  IBM2017Item 7A\n",
      "The file to convert is  IBM2017Item 7A\n",
      "Simple summary stats for  1031/IBM2017Item 7A\n",
      "\t Sentence count is  11\n",
      "\t Ten most common words  [('market', 4), ('risk', 3), ('qualitative', 2), ('equity', 2), ('quantitative', 2), ('data', 2), ('disclosures', 2), ('purchase', 1), ('registrant', 1), ('condition', 1)]\n",
      "<bound method NDFrame.describe of                              0  1\n",
      "0               (market, risk)  3\n",
      "1  (quantitative, qualitative)  2\n",
      "2        (disclosures, market)  2\n",
      "3   (qualitative, disclosures)  2\n",
      "4        (stockholder, matter)  1\n",
      "5          (reference, market)  1\n",
      "6         (registrant, common)  1\n",
      "7    (procedures, information)  1\n",
      "8           (issuer, purchase)  1\n",
      "9             (equity, relate)  1> <bound method NDFrame.describe of                                           0  1\n",
      "0  (quantitative, qualitative, disclosures)  2\n",
      "1        (qualitative, disclosures, market)  2\n",
      "2               (disclosures, market, risk)  2\n",
      "3             (supplementary, data, change)  1\n",
      "4            (account, disclosure, control)  1\n",
      "5   (operations, quantitative, qualitative)  1\n",
      "6     (disagreements, accountants, account)  1\n",
      "7               (herein, reference, market)  1\n",
      "8              (market, registrant, common)  1\n",
      "9                (matter, issuer, purchase)  1>\n",
      "\t ************* \n",
      "\n",
      "\n",
      "processing  satya.txt\n",
      "The file to convert is  satya.txt\n",
      "Simple summary stats for  1031/satya.txt\n",
      "\t Sentence count is  607\n",
      "\t Ten most common words  [('microsoft', 70), ('make', 42), ('thank', 39), ('work', 38), ('think', 37), ('use', 37), ('every', 36), ('like', 35), ('meet', 35), ('game', 34)]\n",
      "<bound method NDFrame.describe of                            0   1\n",
      "0           (microsoft, 365)  16\n",
      "1           (satya, nadella)  14\n",
      "2    (unidentified, analyst)  13\n",
      "3            (mike, spencer)  11\n",
      "4  (company, representative)  10\n",
      "5    (unidentified, company)  10\n",
      "6     (adaptive, controller)   9\n",
      "7           (john, thompson)   8\n",
      "8           (xbox, adaptive)   7\n",
      "9          (columbia, river)   7> <bound method NDFrame.describe of                                          0   1\n",
      "0  (unidentified, company, representative)  10\n",
      "1             (xbox, adaptive, controller)   7\n",
      "2                 (tribes, first, nations)   5\n",
      "3         (company, representative, thank)   4\n",
      "4           (unidentified, analyst, thank)   4\n",
      "5               (member, audit, committee)   4\n",
      "6              (public, policy, committee)   4\n",
      "7                   (satya, nadella, mean)   4\n",
      "8                     (brad, smith, think)   3\n",
      "9                       (xbox, game, pass)   3>\n",
      "\t ************* \n",
      "\n",
      "\n",
      "------------------------*********************************-------------------------\n",
      "------------------------*********************************-------------------------\n",
      "------------------------*********************************-------------------------\n",
      "------------------------*********************************-------------------------\n",
      "------------------------*********************************-------------------------\n",
      "------------------------*********************************-------------------------\n"
     ]
    }
   ],
   "source": [
    "bc = buildcorpus(fils)\n",
    "for d in bc:\n",
    "    #print(d)\n",
    "    print('------------------------*********************************-------------------------')\n",
    "    \n"
   ]
  },
  {
   "cell_type": "code",
   "execution_count": 595,
   "metadata": {},
   "outputs": [
    {
     "name": "stdout",
     "output_type": "stream",
     "text": [
      "thecorpus doccount is  6\n"
     ]
    },
    {
     "name": "stderr",
     "output_type": "stream",
     "text": [
      "C:\\anaconda3\\lib\\site-packages\\sklearn\\feature_extraction\\text.py:1059: FutureWarning: Conversion of the second argument of issubdtype from `float` to `np.floating` is deprecated. In future, it will be treated as `np.float64 == np.dtype(float).type`.\n",
      "  if hasattr(X, 'dtype') and np.issubdtype(X.dtype, np.float):\n"
     ]
    },
    {
     "name": "stdout",
     "output_type": "stream",
     "text": [
      "<class 'gensim.corpora.dictionary.Dictionary'>\n",
      "features returned is  1181  and 1181  array len (#of documents) returned is  6\n",
      "slice of 20 features  ['adequate', 'adjustments', 'administrative', 'adopt', 'adoption', 'ads', 'advance', 'advantage', 'adversely', 'advertise', 'advertisements', 'advertisers', 'affairs', 'affect', 'affiliate', 'african', 'age', 'agencies', 'aggregate']\n",
      "values of the 20      [0.03625833 0.02141475 0.01727729 0.01727729 0.03625833 0.0532044\n",
      " 0.01434171 0.03422354 0.09118608 0.05579458 0.03625833 0.06159265\n",
      " 0.01727729 0.06160964 0.         0.         0.         0.02925299\n",
      " 0.        ]\n"
     ]
    }
   ],
   "source": [
    "\n",
    "#call the buildvectorizer and get back countvectoizer features, a xformrep, and the tfid model\n",
    "cfeats, ctfidrep, ctfidmodel,cdictionary = buildvectorizers(bc)\n",
    "ctfarray = ctfidrep.toarray()\n",
    "tfeats   = ctfidmodel.get_feature_names()\n",
    "print(type(cdictionary))\n",
    "\n",
    "print('features returned is ',len(cfeats),' and', len(tfeats), ' array len (#of documents) returned is ', len(ctfarray))\n",
    "print('slice of 20 features ', cfeats[40:59])\n",
    "print(\"values of the 20     \", ctfarray[0][40:59])\n",
    "\n",
    "testword='algorithmic'\n",
    "if testword in tfeats: #dump tfid vals for a given word across the documents\n",
    "    print(testword,' tfid values are: ', ctfarray[0:,tfeats.index(testword)].tolist())\n"
   ]
  },
  {
   "cell_type": "code",
   "execution_count": 602,
   "metadata": {},
   "outputs": [
    {
     "name": "stdout",
     "output_type": "stream",
     "text": [
      "******* Try LSI Latent Semantic Index topic analysis ******\n",
      "LSI Topic # 1\n",
      "\t Topic\n",
      " -0.212*\"microsoft\" + -0.156*\"tax\" + -0.139*\"windows\" + -0.123*\"million\" + -0.119*\"service\" + -0.117*\"solutions\" + -0.109*\"products\" + -0.103*\"primarily\" + -0.097*\"foreign\" + -0.093*\"facebook\"\n",
      "LSI Topic # 2\n",
      "\t Topic\n",
      " -0.313*\"microsoft\" + -0.175*\"windows\" + 0.164*\"tax\" + -0.152*\"thank\" + -0.144*\"think\" + -0.141*\"solutions\" + -0.129*\"'re\" + 0.124*\"quantitative\" + -0.110*\"cloud\" + -0.109*\"'ll\"\n",
      "LSI Topic # 3\n",
      "\t Topic\n",
      " 0.458*\"quantitative\" + 0.279*\"disclosures\" + 0.276*\"qualitative\" + 0.229*\"herein\" + 0.229*\"disagreements\" + 0.229*\"accountants\" + 0.229*\"page74\" + 0.229*\"issuer\" + 0.229*\"title\" + 0.171*\"equity\"\n",
      "LSI Topic # 4\n",
      "\t Topic\n",
      " 0.201*\"facebook\" + -0.197*\"million\" + 0.179*\"marketers\" + -0.178*\"tax\" + -0.148*\"net\" + 0.146*\"instagram\" + -0.137*\"primarily\" + -0.120*\"flow\" + 0.110*\"offices\" + 0.110*\"oculus\"\n",
      "---------------------------------------------------------------------------------------\n",
      "******* Try LDA latent dirichlet allocation for topics    ******\n",
      "LDA Topic # 1\n",
      "\t Topic\n",
      " 0.001*\"facebook\" + 0.000*\"marketers\" + 0.000*\"products\" + 0.000*\"revenues\" + 0.000*\"claim\" + 0.000*\"laws\" + 0.000*\"adversely\" + 0.000*\"patent\" + 0.000*\"instagram\" + 0.000*\"adverse\"\n",
      "LDA Topic # 2\n",
      "\t Topic\n",
      " 0.001*\"quantitative\" + 0.001*\"qualitative\" + 0.001*\"disclosures\" + 0.001*\"microsoft\" + 0.001*\"thank\" + 0.001*\"think\" + 0.001*\"title\" + 0.001*\"issuer\" + 0.001*\"herein\" + 0.001*\"page74\"\n",
      "LDA Topic # 3\n",
      "\t Topic\n",
      " 0.000*\"quantitative\" + 0.000*\"disclosures\" + 0.000*\"qualitative\" + 0.000*\"accountants\" + 0.000*\"page74\" + 0.000*\"herein\" + 0.000*\"disagreements\" + 0.000*\"equity\" + 0.000*\"title\" + 0.000*\"issuer\"\n",
      "LDA Topic # 4\n",
      "\t Topic\n",
      " 0.001*\"windows\" + 0.001*\"million\" + 0.001*\"microsoft\" + 0.001*\"tax\" + 0.001*\"solutions\" + 0.001*\"primarily\" + 0.001*\"net\" + 0.000*\"organizations\" + 0.000*\"flow\" + 0.000*\"server\"\n"
     ]
    }
   ],
   "source": [
    "#topic analysis - a simple attempt to find clusters of topics by probabalistic sampling of the word distribution\n",
    "#need a corpus, dictionary and a tfidf model to use latent semantic indexing as a topic analysis\n",
    "#need a dictionary for the vocabulary that is the second argument id2word\n",
    "\n",
    "total_topics = 4 #start with a reasonable guess\n",
    "#cdictionary - this is how cdictionary was built...corpora.Dictionary([nltk.word_tokenize(doc) for doc in docs])\n",
    "#need the dictonary tokens from the cleaned up doc collection - bc which was created by buildcorpus call earlier\n",
    "mydictokens  = [nltk.word_tokenize(doc) for doc in bc] \n",
    "ccorpus      = [cdictionary.doc2bow(text) for text in mydictokens]\n",
    "ctfidf       = models.TfidfModel(ccorpus) \n",
    "corpus_tfidf = ctfidf[ccorpus]\n",
    "\n",
    "lsi          = models.LsiModel(corpus_tfidf, id2word=cdictionary,  num_topics=total_topics)\n",
    "print('******* Try LSI Latent Semantic Index topic analysis ******')\n",
    "for index,topic in lsi.print_topics(total_topics):\n",
    "    print('LSI Topic #',str(index+1))\n",
    "    print('\\t Topic\\n',topic)\n",
    "print('---------------------------------------------------------------------------------------')\n",
    "print('******* Try LDA latent dirichlet allocation for topics    ******')\n",
    "lda          = models.LdaModel(corpus_tfidf,id2word=cdictionary,iterations=1000,num_topics=total_topics)\n",
    "for index,topic in lda.print_topics(total_topics):\n",
    "    print('LDA Topic #',str(index+1))\n",
    "    print('\\t Topic\\n',topic)\n",
    "#lda.print_topics()\n",
    "\n",
    "#print_topics_gensim(lda_gensim,total_topics,weight_threshold=0.001,num_terms=7)"
   ]
  },
  {
   "cell_type": "code",
   "execution_count": 599,
   "metadata": {},
   "outputs": [
    {
     "name": "stdout",
     "output_type": "stream",
     "text": [
      "count      1181\n",
      "unique        2\n",
      "top       False\n",
      "freq        811\n",
      "dtype: object\n",
      "inboth count 370 \n",
      "\t alter            True\n",
      "alternative      True\n",
      "alternatives     True\n",
      "although         True\n",
      "among            True\n",
      "amount           True\n",
      "announcements    True\n",
      "another          True\n",
      "apply            True\n",
      "approximately    True\n",
      "around           True\n",
      "array            True\n",
      "aspects          True\n",
      "assessment       True\n",
      "associate        True\n",
      "assurance        True\n",
      "attract          True\n",
      "authorize        True\n",
      "availability     True\n",
      "based            True\n",
      "dtype: bool\n",
      "notbothcount 811 \n",
      "\t accelerate        False\n",
      "accept            False\n",
      "accessible        False\n",
      "accessories       False\n",
      "accuracy          False\n",
      "achieve           False\n",
      "acquisitions      False\n",
      "action            False\n",
      "active            False\n",
      "actively          False\n",
      "activity          False\n",
      "actual            False\n",
      "add               False\n",
      "additionally      False\n",
      "adequate          False\n",
      "adjustments       False\n",
      "administrative    False\n",
      "adversely         False\n",
      "advertisements    False\n",
      "affiliate         False\n",
      "dtype: bool\n",
      "comparing two docs by their TFID vectors - closer to 1.0 is more similar  0.10418440405928794\n"
     ]
    }
   ],
   "source": [
    "#use linear alg to compare document vectors - we have several docs and a sparse vector\n",
    "testword    = 'revenues' #override here - testword has been set above\n",
    "corpdf      = pd.DataFrame(data=ctfarray,columns=tfeats) \n",
    "corpdf[testword]\n",
    "corpdfboth  =  (corpdf.loc[0] > 0.0) & (corpdf.loc[1] > 0.0)  #intersection\n",
    "print(corpdfboth.describe())\n",
    "inboth      = corpdfboth[corpdfboth == True] #results in a pandas series\n",
    "notboth     = corpdfboth[corpdfboth == False]\n",
    "print('inboth count',len(inboth),'\\n\\t',inboth[20:40])\n",
    "print('notbothcount',len(notboth),'\\n\\t',notboth[20:40])\n",
    "#could also use count vectorizer where it really becomes integer based counting since the values are just counts per doc\n",
    "#now let's try comparing via math the first two of our three documents\n",
    "print('comparing two docs by their TFID vectors - closer to 1.0 is more similar ', corpdf.loc[0].dot(corpdf.loc[4])) #try 5"
   ]
  },
  {
   "cell_type": "code",
   "execution_count": 498,
   "metadata": {},
   "outputs": [
    {
     "name": "stdout",
     "output_type": "stream",
     "text": [
      "Vice President; Executive Vice; operating system; Software Assurance;\n",
      "volume licensing; cloud services; perpetual licenses; Office 365;\n",
      "Premium Subscriptions; Select Plus\n"
     ]
    }
   ],
   "source": [
    "with io.open(fil,'r',encoding='utf-8-sig',errors='ignore') as f:\n",
    "    allines=f.read()\n",
    "\n",
    "ntoks   = nltk.tokenize.word_tokenize(allines)\n",
    "nsents  = nltk.tokenize.sent_tokenize(allines)\n",
    "#bring nsents back to one big text doc\n",
    "ntext   = nltk.Text(ntoks) #generates a list of tokens\n",
    "rawtext = nltk.Text(allines)\n",
    "\n",
    "ntexto  = ntext #keep originak around\n",
    "\n",
    "ntext.collocations(num=10)"
   ]
  },
  {
   "cell_type": "code",
   "execution_count": null,
   "metadata": {
    "collapsed": true
   },
   "outputs": [],
   "source": []
  },
  {
   "cell_type": "code",
   "execution_count": 499,
   "metadata": {},
   "outputs": [
    {
     "name": "stdout",
     "output_type": "stream",
     "text": [
      "Displaying 25 of 49 matches:\n",
      "ience with technology increasingly spans a multitude of devices and becomes more natural and multi-sensory with voice ,\n",
      "nd acts on the users behalf , and user experiences span devices with a users available data and information . We contin\n",
      "port a wide range of software products , services , and devices that deliver new opportunities , greater convenience , \n",
      "nd developers . We also design , manufacture , and sell devices , including PCs , tablets , gaming and entertainment co\n",
      ", gaming and entertainment consoles , other intelligent devices , and related accessories , that integrate with our clo\n",
      "formation products and services that span platforms and devices . Productivity is our first and foremost objective , to\n",
      "rustworthy . We offer our services across platforms and devices outside our own . As people move from device to device \n",
      "ility and scale they want . AI will be pervasive across devices , applications , and infrastructure to drive insights a\n",
      "merging applications so that Internet of Things ( IoT ) devices can act locally at the edge while taking advantage of t\n",
      "ormation accessed and stored across a growing number of devices , rich data storage and analytics services , machine le\n",
      "n a PC to a service that can power the full spectrum of devices . Windows 10 is more personal and productive with funct\n",
      "and consistent experiences across the range of existing devices and entirely new device categories . Our ambition for W\n",
      "we are committed to designing and marketing first-party devices to help drive innovation , create new categories , and \n",
      "rkplace , but also at school and at home across all the devices people use . Our future opportunity Customers are looki\n",
      "ta into AI . Using Windows to develop new categories of devices both our own and third-party as a persons experience wi\n",
      "he games they want , with the people they want , on the devices they want . Applying AI to drive insights and act on ou\n",
      "tion , and information services , spanning a variety of devices and platforms . This segment primarily comprises : Offi\n",
      " percentage of customers that buy Office with their new devices and the continued shift to Office 365 . Office Consumer\n",
      "nd users , developers , and IT professionals across all devices . This segment primarily comprises : Windows , includin\n",
      "licensing ; Windows IoT ; and MSN display advertising . Devices , including Microsoft Surface , PC accessories , and ot\n",
      "rosoft Surface , PC accessories , and other intelligent devices . Gaming , including Xbox hardware and Xbox software an\n",
      "xperience , applications , and information across their devices . Windows OEM revenue is impacted significantly by the \n",
      "enses purchased by OEMs , which they pre-install on the devices they sell . In addition to computing device market volu\n",
      "ndows OEM revenue is impacted by : The mix of computing devices based on form factor and screen size . Differences in d\n",
      "markets and emerging markets . Attachment of Windows to devices shipped . Customer mix between consumer , small and med\n",
      "Displaying 9 of 9 matches:\n",
      "d intelligent business applications for enterprises . Competition Competitors to Office include software and global app\n",
      "ailable on a device or via the cloud . LinkedIn faces competition from online recruiting companies , talent management \n",
      " and IT professionals on various Microsoft products . Competition Our server products face competition from a wide vari\n",
      "osoft products . Competition Our server products face competition from a wide variety of server operating systems and a\n",
      " , security , and manageability . Azure faces diverse competition from companies such as Amazon , Google , IBM , Oracle\n",
      "tent with relevant content and advertiser offerings . Competition Windows faces competition from various software produ\n",
      " and advertiser offerings . Competition Windows faces competition from various software products and from alternative p\n",
      "cluding those that enable productivity . Devices face competition from various computer , tablet , hardware , and phone\n",
      "tronic Arts and Activision Blizzard . Xbox Live faces competition from various online marketplaces , including those op\n",
      "similar to devices\t\n",
      "\n",
      "No matches\n",
      "-----------end concodance-----------------\n",
      "lemscountis:  4885 first10 is:  ['business', 'general', 'vision', 'microsoft', 'technology', 'company', 'whose', 'mission', 'empower', 'every', 'person', 'every', 'organization', 'planet', 'achieve', 'strive', 'create', 'local', 'opportunity', 'growth', 'impact', 'every', 'country', 'around', 'world', 'strategy', 'build', 'best-in-class', 'platforms', 'productivity', 'service', 'intelligent', 'cloud', 'intelligent', 'edge', 'infuse', 'artificial', 'intelligence', 'ai', 'way', 'individuals', 'organizations', 'use', 'interact', 'technology', 'continue', 'evolve', 'persons', 'experience', 'technology', 'increasingly', 'span', 'multitude', 'devices', 'become', 'natural', 'multi-sensory', 'voice', 'ink', 'gaze', 'interactions', 'believe', 'new', 'technology', 'paradigm', 'emerge', 'manifest', 'intelligent', 'cloud', 'intelligent', 'edge', 'compute', 'distribute', 'ai', 'drive', 'insights', 'act', 'users', 'behalf', 'user', 'experience', 'span', 'devices', 'users', 'available', 'data', 'information', 'continue', 'transform', 'business']\n"
     ]
    }
   ],
   "source": [
    "cololist = [\" \".join(el) for el in list(ntext._collocations)]\n",
    "\n",
    "devconc  = ntext.concordance('devices',width=120)\n",
    "#devconlist = [''.join(el) for el in list(ntext.tokens)]\n",
    "#print('-------dev concordance---',devconlist)\n",
    "servconc = ntext.concordance('competition',width=120)\n",
    "\n",
    "print('similar to devices\\t\\n')\n",
    "ntext.similar('devices\\n\\n')\n",
    "print('-----------end concodance-----------------')\n",
    "#cleau up ntext and is it now a lits of tokens ntextf = filtered\n",
    "ntextf      = [word.lower() for word in ntext if word.lower() not in stopw and word.lower() not in punks and (len(word.lower()) > 2 or word.lower() in keepset)]\n",
    "lemmatizer  = WordNetLemmatizer()\n",
    "lems        = [lemmatizer.lemmatize(t,pos='v') for t in ntextf] #v=verbs \n",
    "print(\"lemscountis: \", len(lems),\"first10 is: \",lems[0:90])"
   ]
  },
  {
   "cell_type": "code",
   "execution_count": 500,
   "metadata": {
    "collapsed": true
   },
   "outputs": [],
   "source": [
    "fulltext    = [' '.join(ntextf)]\n",
    "fulltextlem = [' '.join(lems)] #11/27 use lemmatization \n",
    "fulltext    = fulltextlem"
   ]
  },
  {
   "cell_type": "code",
   "execution_count": 501,
   "metadata": {},
   "outputs": [
    {
     "name": "stdout",
     "output_type": "stream",
     "text": [
      "<class 'list'>\n"
     ]
    }
   ],
   "source": [
    "print(type(fulltext))"
   ]
  },
  {
   "cell_type": "code",
   "execution_count": 502,
   "metadata": {},
   "outputs": [
    {
     "name": "stdout",
     "output_type": "stream",
     "text": [
      "# filtered tokens  4885  # unfiltered tokens 8996\n",
      "# of sentences  338\n"
     ]
    },
    {
     "data": {
      "image/png": "[encoded data removed]",
      "text/plain": [
       "<matplotlib.figure.Figure at 0x1b51365eb38>"
      ]
     },
     "metadata": {},
     "output_type": "display_data"
    },
    {
     "name": "stdout",
     "output_type": "stream",
     "text": [
      "<bound method FreqDist.N of FreqDist({'services': 104, 'products': 58, 'windows': 56, 'software': 54, 'microsoft': 54, 'business': 54, 'cloud': 49, 'devices': 49, 'customers': 39, 'including': 37, ...})>\n",
      "0.001842374616171955\n",
      "[('services', 104), ('products', 58), ('windows', 56), ('software', 54), ('microsoft', 54), ('business', 54), ('cloud', 49), ('devices', 49), ('customers', 39), ('including', 37)] \n",
      "\n",
      "\n"
     ]
    },
    {
     "data": {
      "text/plain": [
       "<matplotlib.axes._subplots.AxesSubplot at 0x1b51375df60>"
      ]
     },
     "execution_count": 502,
     "metadata": {},
     "output_type": "execute_result"
    },
    {
     "data": {
      "image/png": "[encoded data removed]",
      "text/plain": [
       "<matplotlib.figure.Figure at 0x1b514ce23c8>"
      ]
     },
     "metadata": {},
     "output_type": "display_data"
    }
   ],
   "source": [
    "print('# filtered tokens ',len(ntextf),' # unfiltered tokens',len(ntoks))\n",
    "print('# of sentences ',len(nsents))\n",
    "#prepped for furthe analysis\n",
    "#print('ntextf ',ntextf[0:9])\n",
    "freqd   = nltk.FreqDist(ntextf)\n",
    "\n",
    "freqd.plot(title = \"FD for \"+fil)\n",
    "bgrams  = nltk.FreqDist(nltk.bigrams(ntextf))\n",
    "tgrams  = nltk.FreqDist(nltk.trigrams(ntextf))\n",
    "print(freqd.N)\n",
    "print(freqd.freq('competition'))\n",
    "print(freqd.most_common(10),'\\n\\n')\n",
    "fdc     = freqd.most_common(30)\n",
    "pdf     = pd.DataFrame(data=fdc,columns=['word','frequency'])\n",
    "pdf.plot(kind='bar',x='word',y='frequency',title='Top Words Frequency')\n"
   ]
  },
  {
   "cell_type": "code",
   "execution_count": null,
   "metadata": {
    "collapsed": true
   },
   "outputs": [],
   "source": []
  },
  {
   "cell_type": "code",
   "execution_count": 503,
   "metadata": {},
   "outputs": [
    {
     "name": "stdout",
     "output_type": "stream",
     "text": [
      "top 10 freq: FreqDist({'services': 104, 'products': 58, 'windows': 56, 'software': 54, 'microsoft': 54, 'business': 54, 'cloud': 49, 'devices': 49, 'customers': 39, 'including': 37, ...}) \n",
      "\n",
      "\tbigrams \t [(('products', 'services'), 28), (('cloud', 'services'), 17), (('operating', 'system'), 13), (('research', 'development'), 12), (('server', 'products'), 10), (('volume', 'licensing'), 10), (('software', 'assurance'), 10), (('office', '365'), 9), (('personal', 'computing'), 8), (('small', 'medium'), 8)]\n",
      "<class 'tuple'> \n",
      " is  ('windows', 'operating', 'system')  occurs  7\n",
      "<bound method NDFrame.describe of                                      0  1\n",
      "0         (windows, operating, system)  7\n",
      "1          (revenue, mainly, affected)  6\n",
      "2      (purchase, perpetual, licenses)  6\n",
      "3      (licenses, software, assurance)  5\n",
      "4            (server, products, cloud)  5\n",
      "5  (productivity, business, processes)  5\n",
      "6          (products, cloud, services)  5\n",
      "7       (small, medium, organizations)  4\n",
      "8    (intelligent, cloud, intelligent)  4\n",
      "9           (license, cloud, services)  4>\n"
     ]
    }
   ],
   "source": [
    "fstr            = freqd.pformat(maxlen=10)\n",
    "print('top 10 freq:',fstr,'\\n')\n",
    "print('\\tbigrams \\t',bgrams.most_common(10))\n",
    "tgramelem       = tgrams.most_common(10)\n",
    "tgentry         = tgramelem[0]\n",
    "print(type(tgentry),'\\n is ', tgentry[0],' occurs ',tgentry[1])\n",
    "dftrig          = pd.DataFrame(tgramelem)\n",
    "print(dftrig.describe)"
   ]
  },
  {
   "cell_type": "code",
   "execution_count": null,
   "metadata": {
    "collapsed": true
   },
   "outputs": [],
   "source": []
  },
  {
   "cell_type": "code",
   "execution_count": 504,
   "metadata": {
    "collapsed": true
   },
   "outputs": [],
   "source": [
    "#we have a bunch of sentencies stored in nsents\n",
    "sblob           = TextBlob(allines)\n",
    "polarities      = [sentence.sentiment.polarity for sentence in sblob.sentences]\n",
    "subjectivities  = [sentence.sentiment.subjectivity for sentence in sblob.sentences]\n",
    "pseries         = pd.Series.data=polarities\n",
    "pdsubj          = pd.DataFrame(data=subjectivities)\n",
    "pdsent          = pd.DataFrame(data=polarities)"
   ]
  },
  {
   "cell_type": "code",
   "execution_count": 505,
   "metadata": {},
   "outputs": [
    {
     "data": {
      "text/plain": [
       "<matplotlib.axes._subplots.AxesSubplot at 0x1b51710c898>"
      ]
     },
     "execution_count": 505,
     "metadata": {},
     "output_type": "execute_result"
    },
    {
     "data": {
      "image/png": "[encoded data removed]",
      "text/plain": [
       "<matplotlib.figure.Figure at 0x1b513851898>"
      ]
     },
     "metadata": {},
     "output_type": "display_data"
    },
    {
     "data": {
      "image/png": "[encoded data removed]",
      "text/plain": [
       "<matplotlib.figure.Figure at 0x1b5135875c0>"
      ]
     },
     "metadata": {},
     "output_type": "display_data"
    }
   ],
   "source": [
    "#pdsubj.boxplot(return_type='dict')\n",
    "pdsubj.plot.hist(title='subjectivity')\n",
    "pdsent.plot.hist(title='sentiment')"
   ]
  },
  {
   "cell_type": "code",
   "execution_count": 506,
   "metadata": {
    "collapsed": true
   },
   "outputs": [],
   "source": [
    "ents=[]\n",
    "segl       = [asent for asent in sblob.sentences]\n",
    "sweeps     = (len(segl))"
   ]
  },
  {
   "cell_type": "code",
   "execution_count": 507,
   "metadata": {},
   "outputs": [
    {
     "name": "stdout",
     "output_type": "stream",
     "text": [
      "number of sentences to getents on:  338\n",
      "completed sweeps:  10 -- 19  loopcount  0\n",
      "completed sweeps:  20 -- 29  loopcount  1\n",
      "completed sweeps:  30 -- 39  loopcount  2\n",
      "completed sweeps:  40 -- 49  loopcount  3\n",
      "completed sweeps:  50 -- 59  loopcount  4\n",
      "completed sweeps:  60 -- 69  loopcount  5\n",
      "completed sweeps:  70 -- 79  loopcount  6\n",
      "completed sweeps:  80 -- 89  loopcount  7\n",
      "completed sweeps:  90 -- 99  loopcount  8\n",
      "completed sweeps:  100 -- 109  loopcount  9\n",
      "completed sweeps:  110 -- 119  loopcount  10\n",
      "completed sweeps:  120 -- 129  loopcount  11\n",
      "completed sweeps:  130 -- 139  loopcount  12\n",
      "completed sweeps:  140 -- 149  loopcount  13\n",
      "completed sweeps:  150 -- 159  loopcount  14\n",
      "completed sweeps:  160 -- 169  loopcount  15\n",
      "completed sweeps:  170 -- 179  loopcount  16\n",
      "completed sweeps:  180 -- 189  loopcount  17\n",
      "completed sweeps:  190 -- 199  loopcount  18\n",
      "completed sweeps:  200 -- 209  loopcount  19\n",
      "completed sweeps:  210 -- 219  loopcount  20\n",
      "completed sweeps:  220 -- 229  loopcount  21\n",
      "completed sweeps:  230 -- 239  loopcount  22\n",
      "completed sweeps:  240 -- 249  loopcount  23\n",
      "completed sweeps:  250 -- 259  loopcount  24\n",
      "completed sweeps:  260 -- 269  loopcount  25\n",
      "completed sweeps:  270 -- 279  loopcount  26\n",
      "completed sweeps:  280 -- 289  loopcount  27\n",
      "completed sweeps:  290 -- 299  loopcount  28\n",
      "completed sweeps:  300 -- 309  loopcount  29\n",
      "completed sweeps:  310 -- 319  loopcount  30\n",
      "completed sweeps:  320 -- 329  loopcount  31\n",
      "completed sweeps:  330 -- 339  loopcount  32\n",
      "entities:\t Microsoft                            14\n",
      "Original equipment manufacturer      10\n",
      "Microsoft Windows                     9\n",
      "LinkedIn                              8\n",
      "Cloud computing                       8\n",
      "Office 365                            7\n",
      "Personal computer                     5\n",
      "Marketing                             5\n",
      "Enterprise resource planning          5\n",
      "Artificial intelligence               5\n",
      "Microsoft Azure                       4\n",
      "Google                                4\n",
      "Apple Inc.                            4\n",
      "Dynamics 365                          4\n",
      "Oracle Corporation                    4\n",
      "United States                         4\n",
      "Xbox Live                             4\n",
      "Customer relationship management      4\n",
      "Skype                                 3\n",
      "Microsoft Software Assurance          3\n",
      "Microsoft Surface                     3\n",
      "Hewlett-Packard                       3\n",
      "Windows 10                            3\n",
      "Tablet computer                       3\n",
      "IBM                                   3\n",
      "SAP SE                                3\n",
      "President of the United States        3\n",
      "Vice president                        3\n",
      "Skype for Business                    3\n",
      "Xbox                                  2\n",
      "                                     ..\n",
      "Internet service provider             1\n",
      "Nintendo                              1\n",
      "Microsoft HoloLens                    1\n",
      "PHP                                   1\n",
      "Productivity software                 1\n",
      "Online service provider               1\n",
      "Netflix                               1\n",
      "Software                              1\n",
      "Qualcomm                              1\n",
      "Microsoft Visual Studio               1\n",
      "Solution selling                      1\n",
      "Fargo, North Dakota                   1\n",
      "Pricing                               1\n",
      "Latin America                         1\n",
      "Surface Hub                           1\n",
      "Information technology management     1\n",
      "Surface Studio                        1\n",
      "Japan                                 1\n",
      "License                               1\n",
      "Advertising                           1\n",
      "Server (computing)                    1\n",
      "Linux                                 1\n",
      "United Kingdom                        1\n",
      "Acer Inc.                             1\n",
      "Eclipse (software)                    1\n",
      "Investor relations                    1\n",
      "VMware                                1\n",
      "Asia-Pacific                          1\n",
      "Greater China                         1\n",
      "Form 10-K                             1\n",
      "dtype: int64\n"
     ]
    }
   ],
   "source": [
    "startsweep = 0\n",
    "endsweep   = startsweep + 9\n",
    "tens       = int(sweeps/10)      #how many groups of 10 sentence blocks can be sent to the text analytics\n",
    "remains    = sweeps%10      #remaining size of last blokc of sentences \n",
    "print(\"number of sentences to getents on: \",sweeps)\n",
    "\n",
    "#streamline testibg and force tens to be smaller for this run\n",
    "#tens=2\n",
    "for i in range(tens):\n",
    "    segout      = ''.join(str(aseg) for aseg in segl[startsweep:endsweep]) #         ]''.join(segl[1]) #+ ''.join(segl[2]) + ''.join(segl[3])\n",
    "    ents.extend(getents(segout))\n",
    "    startsweep  = startsweep + 10\n",
    "    endsweep    = startsweep + 9\n",
    "    time.sleep(1)\n",
    "    print('completed sweeps: ',startsweep,'--',endsweep,' loopcount ',i)\n",
    "\n",
    "entDF           = pd.DataFrame(data=ents)\n",
    "entDS           = pd.Series(data=ents)\n",
    "print(\"entities:\\t\",entDS.value_counts())"
   ]
  },
  {
   "cell_type": "code",
   "execution_count": null,
   "metadata": {
    "collapsed": true
   },
   "outputs": [],
   "source": []
  },
  {
   "cell_type": "code",
   "execution_count": 535,
   "metadata": {},
   "outputs": [
    {
     "name": "stdout",
     "output_type": "stream",
     "text": [
      "#features is  1201\n",
      "Some TFID Features ['ads', 'advance', 'advantage', 'advertise', 'advertiser', 'advertisers', 'advise', 'advisors', 'affairs', 'affect', 'affiliate', 'africa', 'african', 'age', 'agencies', 'aggregate', 'agility', 'agreement', 'agreements', 'ai'] \n",
      "\n",
      "TFID entry for  ads  is  [0.02390444434939879]\n",
      "TFID entry for  capabilities  is  [0.02390444434939879]\n",
      "skshape  (1, 1201)\n",
      "SK 0.02390444434939879\n",
      "SK2 [0.02390444]\n"
     ]
    },
    {
     "name": "stderr",
     "output_type": "stream",
     "text": [
      "C:\\anaconda3\\lib\\site-packages\\sklearn\\feature_extraction\\text.py:1059: FutureWarning: Conversion of the second argument of issubdtype from `float` to `np.floating` is deprecated. In future, it will be treated as `np.float64 == np.dtype(float).type`.\n",
      "  if hasattr(X, 'dtype') and np.issubdtype(X.dtype, np.float):\n"
     ]
    }
   ],
   "source": [
    "count_vect = CountVectorizer(min_df=1)\n",
    "tfidvec    = TfidfVectorizer(min_df=1)\n",
    "tfid       = tfidvec.fit_transform(fulltext)\n",
    "\n",
    "sklearn_tfidf           = TfidfVectorizer(norm='l2',min_df=0.2, use_idf=True, smooth_idf=False, stop_words=stopw, \\\n",
    "                                sublinear_tf=True,ngram_range=(1,1))\n",
    "sklearn_representation  = sklearn_tfidf.fit_transform(fulltext)\n",
    "skarray                 = sklearn_representation.toarray()\n",
    "feats                   = sklearn_tfidf.get_feature_names() # same as CountVectorizer\n",
    "print('#features is ',len(feats))\n",
    "print(\"Some TFID Features\",feats[50:70],'\\n')\n",
    "#with one doc this is trivial\n",
    "print(\"TFID entry for \",feats[50],  ' is ',skarray[0:,50].tolist())\n",
    "print(\"TFID entry for \",feats[175],  ' is ',skarray[0:,75].tolist())\n",
    "print('skshape ', skarray.shape)\n",
    "print('SK', skarray[0][50])\n",
    "print('SK2',skarray[0:,50])"
   ]
  },
  {
   "cell_type": "code",
   "execution_count": null,
   "metadata": {
    "collapsed": true
   },
   "outputs": [],
   "source": []
  },
  {
   "cell_type": "code",
   "execution_count": 536,
   "metadata": {},
   "outputs": [
    {
     "name": "stdout",
     "output_type": "stream",
     "text": [
      "            000  0billion        10        11        12       124        13  \\\n",
      "count  1.000000  1.000000  1.000000  1.000000  1.000000  1.000000  1.000000   \n",
      "mean   0.046627  0.014118  0.029629  0.023904  0.023904  0.014118  0.014118   \n",
      "std         NaN       NaN       NaN       NaN       NaN       NaN       NaN   \n",
      "min    0.046627  0.014118  0.029629  0.023904  0.023904  0.014118  0.014118   \n",
      "25%    0.046627  0.014118  0.029629  0.023904  0.023904  0.014118  0.014118   \n",
      "50%    0.046627  0.014118  0.029629  0.023904  0.023904  0.014118  0.014118   \n",
      "75%    0.046627  0.014118  0.029629  0.023904  0.023904  0.014118  0.014118   \n",
      "max    0.046627  0.014118  0.029629  0.023904  0.023904  0.014118  0.014118   \n",
      "\n",
      "            190      1975      1984    ...      workers  workforce  workplace  \\\n",
      "count  1.000000  1.000000  1.000000    ...     1.000000   1.000000   1.000000   \n",
      "mean   0.014118  0.014118  0.014118    ...     0.029629   0.014118   0.029629   \n",
      "std         NaN       NaN       NaN    ...          NaN        NaN        NaN   \n",
      "min    0.014118  0.014118  0.014118    ...     0.029629   0.014118   0.029629   \n",
      "25%    0.014118  0.014118  0.014118    ...     0.029629   0.014118   0.029629   \n",
      "50%    0.014118  0.014118  0.014118    ...     0.029629   0.014118   0.029629   \n",
      "75%    0.014118  0.014118  0.014118    ...     0.029629   0.014118   0.029629   \n",
      "max    0.014118  0.014118  0.014118    ...     0.029629   0.014118   0.029629   \n",
      "\n",
      "          world    worlds  worldwide     worry       www      xbox     yahoo  \n",
      "count  1.000000  1.000000   1.000000  1.000000  1.000000  1.000000  1.000000  \n",
      "mean   0.047973  0.023904   0.036841  0.014118  0.023904  0.053263  0.014118  \n",
      "std         NaN       NaN        NaN       NaN       NaN       NaN       NaN  \n",
      "min    0.047973  0.023904   0.036841  0.014118  0.023904  0.053263  0.014118  \n",
      "25%    0.047973  0.023904   0.036841  0.014118  0.023904  0.053263  0.014118  \n",
      "50%    0.047973  0.023904   0.036841  0.014118  0.023904  0.053263  0.014118  \n",
      "75%    0.047973  0.023904   0.036841  0.014118  0.023904  0.053263  0.014118  \n",
      "max    0.047973  0.023904   0.036841  0.014118  0.023904  0.053263  0.014118  \n",
      "\n",
      "[8 rows x 1201 columns]\n",
      "Word Counts: 1 1218\n"
     ]
    }
   ],
   "source": [
    "df          = pd.DataFrame(sklearn_representation.toarray(),columns=feats)\n",
    "#print(sklearn_representation.todense().round(4))\n",
    "#print(df.loc[0:1])\n",
    "print(df.describe())\n",
    "features    = count_vect.fit_transform(fulltext)    \n",
    "densefeat   = features.todense()\n",
    "dfcv        = pd.DataFrame(features.toarray(),columns=count_vect.get_feature_names() )    \n",
    "counts_rows,counts_cols = features.get_shape()\n",
    "print('Word Counts:',counts_rows,counts_cols)\n",
    "#print('counts first entry[0][0] ',features[0,0:counts_cols])                      #get all the flags for the first document for all words in vocabularly\n"
   ]
  },
  {
   "cell_type": "code",
   "execution_count": null,
   "metadata": {
    "collapsed": true
   },
   "outputs": [],
   "source": []
  },
  {
   "cell_type": "code",
   "execution_count": 537,
   "metadata": {},
   "outputs": [
    {
     "name": "stdout",
     "output_type": "stream",
     "text": [
      "initial feature names:\n",
      " ['000', '0billion', '10', '11', '12'] \t ['adopt', 'adoption', 'ads', 'advance', 'advantage', 'advertise', 'advertiser', 'advertisers', 'advise']\n",
      "---------------break-------------------\n",
      "(1, 1218)\n",
      "        000  0billion   10   11   12  124   13  190  1975  1984  ...   \\\n",
      "count   1.0       1.0  1.0  1.0  1.0  1.0  1.0  1.0   1.0   1.0  ...    \n",
      "mean   10.0       1.0  3.0  2.0  2.0  1.0  1.0  1.0   1.0   1.0  ...    \n",
      "std     NaN       NaN  NaN  NaN  NaN  NaN  NaN  NaN   NaN   NaN  ...    \n",
      "min    10.0       1.0  3.0  2.0  2.0  1.0  1.0  1.0   1.0   1.0  ...    \n",
      "25%    10.0       1.0  3.0  2.0  2.0  1.0  1.0  1.0   1.0   1.0  ...    \n",
      "50%    10.0       1.0  3.0  2.0  2.0  1.0  1.0  1.0   1.0   1.0  ...    \n",
      "75%    10.0       1.0  3.0  2.0  2.0  1.0  1.0  1.0   1.0   1.0  ...    \n",
      "max    10.0       1.0  3.0  2.0  2.0  1.0  1.0  1.0   1.0   1.0  ...    \n",
      "\n",
      "       workforce  workplace  world  worlds  worldwide  worry  www  xbox  \\\n",
      "count        1.0        1.0    1.0     1.0        1.0    1.0  1.0   1.0   \n",
      "mean         1.0        3.0   11.0     2.0        5.0    1.0  2.0  16.0   \n",
      "std          NaN        NaN    NaN     NaN        NaN    NaN  NaN   NaN   \n",
      "min          1.0        3.0   11.0     2.0        5.0    1.0  2.0  16.0   \n",
      "25%          1.0        3.0   11.0     2.0        5.0    1.0  2.0  16.0   \n",
      "50%          1.0        3.0   11.0     2.0        5.0    1.0  2.0  16.0   \n",
      "75%          1.0        3.0   11.0     2.0        5.0    1.0  2.0  16.0   \n",
      "max          1.0        3.0   11.0     2.0        5.0    1.0  2.0  16.0   \n",
      "\n",
      "       yahoo  year  \n",
      "count    1.0   1.0  \n",
      "mean     1.0   4.0  \n",
      "std      NaN   NaN  \n",
      "min      1.0   4.0  \n",
      "25%      1.0   4.0  \n",
      "50%      1.0   4.0  \n",
      "75%      1.0   4.0  \n",
      "max      1.0   4.0  \n",
      "\n",
      "[8 rows x 1218 columns]\n"
     ]
    }
   ],
   "source": [
    "featnames   = count_vect.get_feature_names()\n",
    "#print('feature locs for customer and xbox are :\\n',featnames.index('customer'),'\\t',featnames.index('xbox'))\n",
    "print('initial feature names:\\n',featnames[0:5],'\\t',featnames[50:59])\n",
    "#print(dfcv.loc[0])\n",
    "print('---------------break-------------------')\n",
    "print(features.get_shape())\n",
    "display_features(features.todense(),featnames)"
   ]
  },
  {
   "cell_type": "code",
   "execution_count": null,
   "metadata": {
    "collapsed": true
   },
   "outputs": [],
   "source": []
  },
  {
   "cell_type": "code",
   "execution_count": null,
   "metadata": {
    "collapsed": true
   },
   "outputs": [],
   "source": []
  }
 ],
 "metadata": {
  "anaconda-cloud": {},
  "kernelspec": {
   "display_name": "Python [conda env:anaconda3]",
   "language": "python",
   "name": "conda-env-anaconda3-py"
  },
  "language_info": {
   "codemirror_mode": {
    "name": "ipython",
    "version": 3
   },
   "file_extension": ".py",
   "mimetype": "text/x-python",
   "name": "python",
   "nbconvert_exporter": "python",
   "pygments_lexer": "ipython3",
   "version": "3.5.2"
  }
 },
 "nbformat": 4,
 "nbformat_minor": 1
}
