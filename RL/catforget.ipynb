{
 "cells": [
  {
   "cell_type": "markdown",
   "metadata": {},
   "source": [
    "Slightly modified by jw purely for meetup walkthough sessions. any errors would be mine as the original code worked just fine.\n",
    "Highly recommend the book associated with this - available at manning.com Deep Reinforcement Learning in Action by Zai and Brown. Sept 2019."
   ]
  },
  {
   "cell_type": "markdown",
   "metadata": {},
   "source": [
    "# Deep Reinforcement Learning <em> in Action  </em>\n",
    "## Ch 3 - Deep Q-Learning"
   ]
  },
  {
   "cell_type": "code",
   "execution_count": 1,
   "metadata": {},
   "outputs": [
    {
     "name": "stdout",
     "output_type": "stream",
     "text": [
      "-go-\n"
     ]
    }
   ],
   "source": [
    "# -*- coding: utf-8 -*-\n",
    "import numpy as np\n",
    "import torch\n",
    "from torch.autograd import Variable\n",
    "from Gridworld import *\n",
    "from IPython.display import clear_output\n",
    "import random\n",
    "from matplotlib import pylab as plt\n",
    "print('-go-')"
   ]
  },
  {
   "cell_type": "markdown",
   "metadata": {},
   "source": [
    "#### Helper functions"
   ]
  },
  {
   "cell_type": "code",
   "execution_count": 2,
   "metadata": {},
   "outputs": [],
   "source": [
    "def running_mean(x, N=500):\n",
    "    cumsum = np.cumsum(np.insert(x, 0, 0)) \n",
    "    return (cumsum[N:] - cumsum[:-N]) / float(N)"
   ]
  },
  {
   "cell_type": "markdown",
   "metadata": {},
   "source": [
    "### Test model"
   ]
  },
  {
   "cell_type": "code",
   "execution_count": 3,
   "metadata": {},
   "outputs": [],
   "source": [
    "def testModel(model, mode='static', display=True):\n",
    "    epsilon = 0.05\n",
    "    max_moves = 50\n",
    "    win = False\n",
    "    i = 0\n",
    "    test_game = Gridworld(mode=mode)\n",
    "    state_ = test_game.board.render_np().reshape(1,64) + np.random.rand(1,64)/10.0\n",
    "    state = Variable(torch.from_numpy(state_).float())\n",
    "    if display: \n",
    "        print(\"Initial State:\")\n",
    "        print(test_game.display())\n",
    "    status = 1\n",
    "    #while game still in progress\n",
    "    while(status == 1):\n",
    "        qval = model(state)\n",
    "        qval_ = qval.data.numpy()\n",
    "        if (random.random() < epsilon):\n",
    "            action_ = np.random.randint(0,4)\n",
    "        else:\n",
    "            action_ = np.argmax(qval_)\n",
    "        #action_ = np.argmax(qval_) #take action with highest Q-value\n",
    "        action = action_set[action_]\n",
    "        if display: print('Move #: %s; Taking action: %s' % (i, action))\n",
    "        test_game.makeMove(action)\n",
    "        state_ = test_game.board.render_np().reshape(1,64) + np.random.rand(1,64)/10.0\n",
    "        state = Variable(torch.from_numpy(state_).float())\n",
    "        if display: print(test_game.display())\n",
    "        reward = test_game.reward()\n",
    "        if reward == 10:\n",
    "            status = 0\n",
    "            win = True\n",
    "            if display: print(\"You won! Reward: {}\".format(reward,))\n",
    "        elif reward == -10:\n",
    "            status = 0\n",
    "            if display: print(\"Game lost; stepped into the pit. Penalty: {}\".format(reward,))\n",
    "        i += 1 #If we're taking more than 10 actions, just stop, we probably can't win this game\n",
    "        if (i > max_moves):\n",
    "            if display: print(\"Game lost; too many moves.\")\n",
    "            break\n",
    "    return win"
   ]
  },
  {
   "cell_type": "code",
   "execution_count": 4,
   "metadata": {},
   "outputs": [],
   "source": [
    "def test_win_perc(model, max_games=1000):\n",
    "    wins = 0\n",
    "    for i in range(max_games):\n",
    "        win = testModel(model, 'random', display=False)\n",
    "        if win:\n",
    "            wins += 1\n",
    "    win_perc = float(wins) / float(max_games)\n",
    "    print(\"Games played: {0}, # of wins: {1}\".format(max_games,wins))\n",
    "    print(\"Win percentage: {}\".format(win_perc))"
   ]
  },
  {
   "cell_type": "markdown",
   "metadata": {},
   "source": [
    "# Deep Q-Learning"
   ]
  },
  {
   "cell_type": "code",
   "execution_count": 5,
   "metadata": {},
   "outputs": [
    {
     "name": "stderr",
     "output_type": "stream",
     "text": [
      "C:\\anaconda3\\envs\\myml\\lib\\site-packages\\torch\\nn\\_reduction.py:46: UserWarning: size_average and reduce args will be deprecated, please use reduction='sum' instead.\n",
      "  warnings.warn(warning.format(ret))\n"
     ]
    }
   ],
   "source": [
    "l1 = 64\n",
    "l2 = 164\n",
    "l3 = 150\n",
    "l4 = 4\n",
    "\n",
    "model = torch.nn.Sequential(\n",
    "    torch.nn.Linear(l1, l2),\n",
    "    torch.nn.ReLU(),\n",
    "    torch.nn.Linear(l2, l3),\n",
    "    torch.nn.ReLU(),\n",
    "    torch.nn.Linear(l3,l4)\n",
    ")\n",
    "\n",
    "loss_fn = torch.nn.MSELoss(size_average=False)\n",
    "\n",
    "learning_rate = 1e-4\n",
    "optimizer = torch.optim.Adam(model.parameters(), lr=learning_rate)\n",
    "\n",
    "\n",
    "#reinforcement learning specific parameters\n",
    "gamma = 0.9 #since it may take several moves to goal, making gamma high\n",
    "epsilon = 1.0\n",
    "\n",
    "action_set = {\n",
    "    0: 'u',\n",
    "    1: 'd',\n",
    "    2: 'l',\n",
    "    3: 'r',\n",
    "}"
   ]
  },
  {
   "cell_type": "markdown",
   "metadata": {},
   "source": [
    "##### Without experience replay"
   ]
  },
  {
   "cell_type": "code",
   "execution_count": 62,
   "metadata": {},
   "outputs": [
    {
     "name": "stdout",
     "output_type": "stream",
     "text": [
      "noreplay iteration loss  0 :: 5.74303674697876\n",
      "game done at update= -10  qval  tensor([[-8.7876, -7.9908, -7.6035, -8.9187]], grad_fn=<AddmmBackward>)  qval_  [[-8.78759   -7.99078   -7.6035366 -8.918736 ]]\n",
      "\t newQ  [[-8.541402  -7.4437757 -6.8389235 -8.423344 ]]  maxQ  -6.8389235  y[0][action_] is  tensor(-10.)\n",
      "last y  tensor([[ -8.7876,  -7.9908, -10.0000,  -8.9187]]) \t action l\n"
     ]
    }
   ],
   "source": [
    "epochs = 1 #normally 1000 use 1 to dump values and observe change - uncomment the clear_output call below for more epochs\n",
    "losses = []\n",
    "for i in range(epochs):\n",
    "    game = Gridworld(size=4, mode='random') #'static' means u win quickly, random not so\n",
    "    state_ = game.board.render_np().reshape(1,64) + np.random.rand(1,64)/10.0\n",
    "    state = Variable(torch.from_numpy(state_).float())\n",
    "    status = 1\n",
    "    #while game still in progress\n",
    "    while(status == 1):\n",
    "        qval = model(state)\n",
    "        qval_ = qval.data.numpy()\n",
    "        if (random.random() < epsilon):\n",
    "            action_ = np.random.randint(0,4)\n",
    "        else:\n",
    "            action_ = (np.argmax(qval_))\n",
    "        \n",
    "        action = action_set[action_]\n",
    "        game.makeMove(action)\n",
    "        new_state_ = game.board.render_np().reshape(1,64) + np.random.rand(1,64)/10.0\n",
    "        new_state = Variable(torch.from_numpy(new_state_).float())\n",
    "        reward = game.reward()\n",
    "        newQ = model(new_state.reshape(1,64)).data.numpy()\n",
    "        maxQ = np.max(newQ)\n",
    "        y = np.zeros((1,4))\n",
    "        y[:] = qval_[:]\n",
    "        if reward == -1:\n",
    "            update = (reward + (gamma * maxQ))\n",
    "        else:\n",
    "            update = reward\n",
    "        y[0][action_] = update\n",
    "        y = Variable(torch.from_numpy(y).float())\n",
    "        loss = loss_fn(qval, y)\n",
    "        print('noreplay iteration loss ',i, '::',loss.item())\n",
    "        optimizer.zero_grad()\n",
    "        loss.backward()\n",
    "        #losses.append(loss.data[0]) jw torch 1.1 update\n",
    "        losses.append(loss.item())\n",
    "        optimizer.step()\n",
    "        state = new_state\n",
    "        if reward != -1:\n",
    "            status = 0\n",
    "            print('game done at update=',update,' qval ',qval,' qval_ ',qval_)\n",
    "            print('\\t newQ ',newQ, ' maxQ ',maxQ, ' y[0][action_] is ',y[0][action_])\n",
    "            print('last y ',y , '\\t action', action)\n",
    "        #clear_output(wait=True)       please make sure to uncomment this for larger epoch counts!!\n",
    "    if epsilon > 0.1:\n",
    "        epsilon -= (1/epochs)"
   ]
  },
  {
   "cell_type": "code",
   "execution_count": 7,
   "metadata": {},
   "outputs": [
    {
     "data": {
      "image/png": "[encoded data removed]",
      "text/plain": [
       "<Figure size 1080x720 with 1 Axes>"
      ]
     },
     "metadata": {
      "needs_background": "light"
     },
     "output_type": "display_data"
    }
   ],
   "source": [
    "plt.figure(figsize=(15,10))\n",
    "plt.ylabel(\"Loss\")\n",
    "plt.xlabel(\"Training Steps\")\n",
    "plt.plot(losses)\n",
    "plt.savefig(\"dqn_1_loss_plot.pdf\", format=\"pdf\")"
   ]
  },
  {
   "cell_type": "code",
   "execution_count": 8,
   "metadata": {},
   "outputs": [
    {
     "name": "stdout",
     "output_type": "stream",
     "text": [
      "Initial State:\n",
      "[[' ' ' ' '-' ' ']\n",
      " [' ' ' ' ' ' '+']\n",
      " ['P' ' ' ' ' ' ']\n",
      " [' ' ' ' ' ' 'W']]\n",
      "Move #: 0; Taking action: u\n",
      "[[' ' ' ' '-' ' ']\n",
      " ['P' ' ' ' ' '+']\n",
      " [' ' ' ' ' ' ' ']\n",
      " [' ' ' ' ' ' 'W']]\n",
      "Move #: 1; Taking action: u\n",
      "[['P' ' ' '-' ' ']\n",
      " [' ' ' ' ' ' '+']\n",
      " [' ' ' ' ' ' ' ']\n",
      " [' ' ' ' ' ' 'W']]\n",
      "Move #: 2; Taking action: l\n",
      "[['P' ' ' '-' ' ']\n",
      " [' ' ' ' ' ' '+']\n",
      " [' ' ' ' ' ' ' ']\n",
      " [' ' ' ' ' ' 'W']]\n",
      "Move #: 3; Taking action: l\n",
      "[['P' ' ' '-' ' ']\n",
      " [' ' ' ' ' ' '+']\n",
      " [' ' ' ' ' ' ' ']\n",
      " [' ' ' ' ' ' 'W']]\n",
      "Move #: 4; Taking action: l\n",
      "[['P' ' ' '-' ' ']\n",
      " [' ' ' ' ' ' '+']\n",
      " [' ' ' ' ' ' ' ']\n",
      " [' ' ' ' ' ' 'W']]\n",
      "Move #: 5; Taking action: l\n",
      "[['P' ' ' '-' ' ']\n",
      " [' ' ' ' ' ' '+']\n",
      " [' ' ' ' ' ' ' ']\n",
      " [' ' ' ' ' ' 'W']]\n",
      "Move #: 6; Taking action: u\n",
      "[['P' ' ' '-' ' ']\n",
      " [' ' ' ' ' ' '+']\n",
      " [' ' ' ' ' ' ' ']\n",
      " [' ' ' ' ' ' 'W']]\n",
      "Move #: 7; Taking action: l\n",
      "[['P' ' ' '-' ' ']\n",
      " [' ' ' ' ' ' '+']\n",
      " [' ' ' ' ' ' ' ']\n",
      " [' ' ' ' ' ' 'W']]\n",
      "Move #: 8; Taking action: l\n",
      "[['P' ' ' '-' ' ']\n",
      " [' ' ' ' ' ' '+']\n",
      " [' ' ' ' ' ' ' ']\n",
      " [' ' ' ' ' ' 'W']]\n",
      "Move #: 9; Taking action: l\n",
      "[['P' ' ' '-' ' ']\n",
      " [' ' ' ' ' ' '+']\n",
      " [' ' ' ' ' ' ' ']\n",
      " [' ' ' ' ' ' 'W']]\n",
      "Move #: 10; Taking action: l\n",
      "[['P' ' ' '-' ' ']\n",
      " [' ' ' ' ' ' '+']\n",
      " [' ' ' ' ' ' ' ']\n",
      " [' ' ' ' ' ' 'W']]\n",
      "Move #: 11; Taking action: u\n",
      "[['P' ' ' '-' ' ']\n",
      " [' ' ' ' ' ' '+']\n",
      " [' ' ' ' ' ' ' ']\n",
      " [' ' ' ' ' ' 'W']]\n",
      "Move #: 12; Taking action: u\n",
      "[['P' ' ' '-' ' ']\n",
      " [' ' ' ' ' ' '+']\n",
      " [' ' ' ' ' ' ' ']\n",
      " [' ' ' ' ' ' 'W']]\n",
      "Move #: 13; Taking action: r\n",
      "[[' ' 'P' '-' ' ']\n",
      " [' ' ' ' ' ' '+']\n",
      " [' ' ' ' ' ' ' ']\n",
      " [' ' ' ' ' ' 'W']]\n",
      "Move #: 14; Taking action: l\n",
      "[['P' ' ' '-' ' ']\n",
      " [' ' ' ' ' ' '+']\n",
      " [' ' ' ' ' ' ' ']\n",
      " [' ' ' ' ' ' 'W']]\n",
      "Move #: 15; Taking action: l\n",
      "[['P' ' ' '-' ' ']\n",
      " [' ' ' ' ' ' '+']\n",
      " [' ' ' ' ' ' ' ']\n",
      " [' ' ' ' ' ' 'W']]\n",
      "Move #: 16; Taking action: l\n",
      "[['P' ' ' '-' ' ']\n",
      " [' ' ' ' ' ' '+']\n",
      " [' ' ' ' ' ' ' ']\n",
      " [' ' ' ' ' ' 'W']]\n",
      "Move #: 17; Taking action: l\n",
      "[['P' ' ' '-' ' ']\n",
      " [' ' ' ' ' ' '+']\n",
      " [' ' ' ' ' ' ' ']\n",
      " [' ' ' ' ' ' 'W']]\n",
      "Move #: 18; Taking action: u\n",
      "[['P' ' ' '-' ' ']\n",
      " [' ' ' ' ' ' '+']\n",
      " [' ' ' ' ' ' ' ']\n",
      " [' ' ' ' ' ' 'W']]\n",
      "Move #: 19; Taking action: l\n",
      "[['P' ' ' '-' ' ']\n",
      " [' ' ' ' ' ' '+']\n",
      " [' ' ' ' ' ' ' ']\n",
      " [' ' ' ' ' ' 'W']]\n",
      "Move #: 20; Taking action: l\n",
      "[['P' ' ' '-' ' ']\n",
      " [' ' ' ' ' ' '+']\n",
      " [' ' ' ' ' ' ' ']\n",
      " [' ' ' ' ' ' 'W']]\n",
      "Move #: 21; Taking action: l\n",
      "[['P' ' ' '-' ' ']\n",
      " [' ' ' ' ' ' '+']\n",
      " [' ' ' ' ' ' ' ']\n",
      " [' ' ' ' ' ' 'W']]\n",
      "Move #: 22; Taking action: l\n",
      "[['P' ' ' '-' ' ']\n",
      " [' ' ' ' ' ' '+']\n",
      " [' ' ' ' ' ' ' ']\n",
      " [' ' ' ' ' ' 'W']]\n",
      "Move #: 23; Taking action: l\n",
      "[['P' ' ' '-' ' ']\n",
      " [' ' ' ' ' ' '+']\n",
      " [' ' ' ' ' ' ' ']\n",
      " [' ' ' ' ' ' 'W']]\n",
      "Move #: 24; Taking action: u\n",
      "[['P' ' ' '-' ' ']\n",
      " [' ' ' ' ' ' '+']\n",
      " [' ' ' ' ' ' ' ']\n",
      " [' ' ' ' ' ' 'W']]\n",
      "Move #: 25; Taking action: l\n",
      "[['P' ' ' '-' ' ']\n",
      " [' ' ' ' ' ' '+']\n",
      " [' ' ' ' ' ' ' ']\n",
      " [' ' ' ' ' ' 'W']]\n",
      "Move #: 26; Taking action: l\n",
      "[['P' ' ' '-' ' ']\n",
      " [' ' ' ' ' ' '+']\n",
      " [' ' ' ' ' ' ' ']\n",
      " [' ' ' ' ' ' 'W']]\n",
      "Move #: 27; Taking action: l\n",
      "[['P' ' ' '-' ' ']\n",
      " [' ' ' ' ' ' '+']\n",
      " [' ' ' ' ' ' ' ']\n",
      " [' ' ' ' ' ' 'W']]\n",
      "Move #: 28; Taking action: l\n",
      "[['P' ' ' '-' ' ']\n",
      " [' ' ' ' ' ' '+']\n",
      " [' ' ' ' ' ' ' ']\n",
      " [' ' ' ' ' ' 'W']]\n",
      "Move #: 29; Taking action: l\n",
      "[['P' ' ' '-' ' ']\n",
      " [' ' ' ' ' ' '+']\n",
      " [' ' ' ' ' ' ' ']\n",
      " [' ' ' ' ' ' 'W']]\n",
      "Move #: 30; Taking action: l\n",
      "[['P' ' ' '-' ' ']\n",
      " [' ' ' ' ' ' '+']\n",
      " [' ' ' ' ' ' ' ']\n",
      " [' ' ' ' ' ' 'W']]\n",
      "Move #: 31; Taking action: u\n",
      "[['P' ' ' '-' ' ']\n",
      " [' ' ' ' ' ' '+']\n",
      " [' ' ' ' ' ' ' ']\n",
      " [' ' ' ' ' ' 'W']]\n",
      "Move #: 32; Taking action: l\n",
      "[['P' ' ' '-' ' ']\n",
      " [' ' ' ' ' ' '+']\n",
      " [' ' ' ' ' ' ' ']\n",
      " [' ' ' ' ' ' 'W']]\n",
      "Move #: 33; Taking action: l\n",
      "[['P' ' ' '-' ' ']\n",
      " [' ' ' ' ' ' '+']\n",
      " [' ' ' ' ' ' ' ']\n",
      " [' ' ' ' ' ' 'W']]\n",
      "Move #: 34; Taking action: u\n",
      "[['P' ' ' '-' ' ']\n",
      " [' ' ' ' ' ' '+']\n",
      " [' ' ' ' ' ' ' ']\n",
      " [' ' ' ' ' ' 'W']]\n",
      "Move #: 35; Taking action: l\n",
      "[['P' ' ' '-' ' ']\n",
      " [' ' ' ' ' ' '+']\n",
      " [' ' ' ' ' ' ' ']\n",
      " [' ' ' ' ' ' 'W']]\n",
      "Move #: 36; Taking action: l\n",
      "[['P' ' ' '-' ' ']\n",
      " [' ' ' ' ' ' '+']\n",
      " [' ' ' ' ' ' ' ']\n",
      " [' ' ' ' ' ' 'W']]\n",
      "Move #: 37; Taking action: l\n",
      "[['P' ' ' '-' ' ']\n",
      " [' ' ' ' ' ' '+']\n",
      " [' ' ' ' ' ' ' ']\n",
      " [' ' ' ' ' ' 'W']]\n",
      "Move #: 38; Taking action: l\n",
      "[['P' ' ' '-' ' ']\n",
      " [' ' ' ' ' ' '+']\n",
      " [' ' ' ' ' ' ' ']\n",
      " [' ' ' ' ' ' 'W']]\n",
      "Move #: 39; Taking action: l\n",
      "[['P' ' ' '-' ' ']\n",
      " [' ' ' ' ' ' '+']\n",
      " [' ' ' ' ' ' ' ']\n",
      " [' ' ' ' ' ' 'W']]\n",
      "Move #: 40; Taking action: l\n",
      "[['P' ' ' '-' ' ']\n",
      " [' ' ' ' ' ' '+']\n",
      " [' ' ' ' ' ' ' ']\n",
      " [' ' ' ' ' ' 'W']]\n",
      "Move #: 41; Taking action: l\n",
      "[['P' ' ' '-' ' ']\n",
      " [' ' ' ' ' ' '+']\n",
      " [' ' ' ' ' ' ' ']\n",
      " [' ' ' ' ' ' 'W']]\n",
      "Move #: 42; Taking action: l\n",
      "[['P' ' ' '-' ' ']\n",
      " [' ' ' ' ' ' '+']\n",
      " [' ' ' ' ' ' ' ']\n",
      " [' ' ' ' ' ' 'W']]\n",
      "Move #: 43; Taking action: l\n",
      "[['P' ' ' '-' ' ']\n",
      " [' ' ' ' ' ' '+']\n",
      " [' ' ' ' ' ' ' ']\n",
      " [' ' ' ' ' ' 'W']]\n",
      "Move #: 44; Taking action: l\n",
      "[['P' ' ' '-' ' ']\n",
      " [' ' ' ' ' ' '+']\n",
      " [' ' ' ' ' ' ' ']\n",
      " [' ' ' ' ' ' 'W']]\n",
      "Move #: 45; Taking action: l\n",
      "[['P' ' ' '-' ' ']\n",
      " [' ' ' ' ' ' '+']\n",
      " [' ' ' ' ' ' ' ']\n",
      " [' ' ' ' ' ' 'W']]\n",
      "Move #: 46; Taking action: l\n",
      "[['P' ' ' '-' ' ']\n",
      " [' ' ' ' ' ' '+']\n",
      " [' ' ' ' ' ' ' ']\n",
      " [' ' ' ' ' ' 'W']]\n",
      "Move #: 47; Taking action: u\n",
      "[['P' ' ' '-' ' ']\n",
      " [' ' ' ' ' ' '+']\n",
      " [' ' ' ' ' ' ' ']\n",
      " [' ' ' ' ' ' 'W']]\n",
      "Move #: 48; Taking action: l\n",
      "[['P' ' ' '-' ' ']\n",
      " [' ' ' ' ' ' '+']\n",
      " [' ' ' ' ' ' ' ']\n",
      " [' ' ' ' ' ' 'W']]\n",
      "Move #: 49; Taking action: l\n",
      "[['P' ' ' '-' ' ']\n",
      " [' ' ' ' ' ' '+']\n",
      " [' ' ' ' ' ' ' ']\n",
      " [' ' ' ' ' ' 'W']]\n",
      "Move #: 50; Taking action: u\n",
      "[['P' ' ' '-' ' ']\n",
      " [' ' ' ' ' ' '+']\n",
      " [' ' ' ' ' ' ' ']\n",
      " [' ' ' ' ' ' 'W']]\n",
      "Game lost; too many moves.\n"
     ]
    },
    {
     "data": {
      "text/plain": [
       "False"
      ]
     },
     "execution_count": 8,
     "metadata": {},
     "output_type": "execute_result"
    }
   ],
   "source": [
    "testModel(model, 'random')"
   ]
  },
  {
   "cell_type": "code",
   "execution_count": 9,
   "metadata": {},
   "outputs": [
    {
     "name": "stderr",
     "output_type": "stream",
     "text": [
      "C:\\anaconda3\\envs\\myml\\lib\\site-packages\\torch\\nn\\_reduction.py:46: UserWarning: size_average and reduce args will be deprecated, please use reduction='sum' instead.\n",
      "  warnings.warn(warning.format(ret))\n"
     ]
    }
   ],
   "source": [
    "l1 = 64\n",
    "l2 = 200\n",
    "l3 = 250 #was 150\n",
    "l4 = 100\n",
    "l5 = 4\n",
    "\n",
    "model2 = torch.nn.Sequential(\n",
    "    torch.nn.Linear(l1, l2),\n",
    "    torch.nn.ReLU(),\n",
    "    torch.nn.Linear(l2, l3),\n",
    "    torch.nn.ReLU(),\n",
    "    torch.nn.Linear(l3,l4),\n",
    "    torch.nn.ReLU(),\n",
    "    torch.nn.Linear(l4,l5)\n",
    ")\n",
    "\n",
    "loss_fn2 = torch.nn.MSELoss(size_average=False)\n",
    "#\n",
    "#from the docs:\n",
    "#By default, the losses are averaged over each loss element in the batch. Note that for some losses, \n",
    "#there are multiple elements per sample. \n",
    "#If the field size_average is set to False, the losses are instead summed for each minibatch.\n",
    "\n",
    "\n",
    "learning_rate2 = 1e-4  #was 1e-4 jw 8/30\n",
    "optimizer2 = torch.optim.Adam(model2.parameters(), lr=learning_rate2)\n",
    "\n",
    "\n",
    "#reinforcement learning specific parameters\n",
    "gamma = 0.9 #since it may take several moves to goal, making gamma high\n",
    "epsilon = 0.9   #was 1.0 - set to 0.2 for testing on 8/28\n",
    "\n",
    "action_set = {\n",
    "    0: 'u',\n",
    "    1: 'd',\n",
    "    2: 'l',\n",
    "    3: 'r',\n",
    "}"
   ]
  },
  {
   "cell_type": "markdown",
   "metadata": {},
   "source": [
    "### With experience replay"
   ]
  },
  {
   "cell_type": "code",
   "execution_count": 27,
   "metadata": {},
   "outputs": [
    {
     "name": "stdout",
     "output_type": "stream",
     "text": [
      "iteration  1999 1103.6614990234375\n"
     ]
    }
   ],
   "source": [
    "epochs = 2000 #1500 original\n",
    "losses = []\n",
    "batchSize = 40\n",
    "buffer = 80\n",
    "replay = []\n",
    "max_moves = 75\n",
    "h = 0\n",
    "for i in range(epochs):\n",
    "    game = Gridworld(size=4, mode='random')\n",
    "    state_ = game.board.render_np().reshape(1,64) + np.random.rand(1,64)/10.0\n",
    "    state = Variable(torch.from_numpy(state_).float())\n",
    "    status = 1\n",
    "    mov = 0\n",
    "    #while game still in progress\n",
    "    while(status == 1):\n",
    "        mov += 1\n",
    "        qval = model2(state)\n",
    "        qval_ = qval.data.numpy()\n",
    "        if (random.random() < epsilon):\n",
    "            action_ = np.random.randint(0,4)\n",
    "        else:\n",
    "            action_ = (np.argmax(qval_))\n",
    "        \n",
    "        action = action_set[action_]\n",
    "        game.makeMove(action)\n",
    "        new_state_ = game.board.render_np().reshape(1,64) + np.random.rand(1,64)/10.0\n",
    "        new_state = Variable(torch.from_numpy(new_state_).float())\n",
    "        reward = game.reward()\n",
    "        \n",
    "        if (len(replay) < buffer): #if buffer not filled, add to it\n",
    "            replay.append((state, action_, reward, new_state))\n",
    "        else: #if buffer full, overwrite old values\n",
    "            replay.pop(0)\n",
    "            replay.append((state, action_, reward, new_state))\n",
    "            #randomly sample our experience replay memory\n",
    "            minibatch = random.sample(replay, batchSize)\n",
    "            X_train = Variable(torch.empty(batchSize, 4, dtype=torch.float)) #hodls old qvals\n",
    "            y_train = Variable(torch.empty(batchSize, 4, dtype=torch.float)) #holds optimal pred qvals\n",
    "            h = 0\n",
    "            for memory in minibatch:\n",
    "                old_state, action_m, reward_m, new_state_m = memory\n",
    "                #old_state = Variable(torch.from_numpy(old_state_).float())\n",
    "                #new_state = Variable(torch.from_numpy(new_state_).float())\n",
    "                old_qval = model2(old_state)\n",
    "                #action = action_set[action_]\n",
    "                newQ = model2(new_state_m).data.numpy()\n",
    "                maxQ = np.max(newQ)\n",
    "                y = torch.zeros((1,4))\n",
    "                y[:] = old_qval[:]\n",
    "                if reward == -1:\n",
    "                    update = (reward_m + (gamma * maxQ))\n",
    "                else:\n",
    "                    update = reward_m\n",
    "                y[0][action_m] = update\n",
    "                X_train[h] = old_qval\n",
    "                y_train[h] = Variable(y)\n",
    "                h+=1\n",
    "                \n",
    "            \n",
    "            #X_train = Variable(torch.from_numpy(np.asarray(X_train)).float())\n",
    "            #y_train = Variable(torch.from_numpy(np.asarray(y_train)).float())\n",
    "            \n",
    "            loss = loss_fn2(X_train, y_train)\n",
    "            print('iteration ',i, loss.item())\n",
    "            optimizer2.zero_grad()\n",
    "            loss.backward()\n",
    "            losses.append(loss.item())#jw 7/23\n",
    "            optimizer2.step()\n",
    "            \n",
    "            state = new_state\n",
    "        if reward != -1 or mov > max_moves:\n",
    "            status = 0\n",
    "            mov = 0\n",
    "        clear_output(wait=True)\n",
    "    if epsilon > 0.1:\n",
    "        epsilon -= (1/epochs)"
   ]
  },
  {
   "cell_type": "code",
   "execution_count": 28,
   "metadata": {},
   "outputs": [
    {
     "data": {
      "text/plain": [
       "[<matplotlib.lines.Line2D at 0x28114ad9da0>]"
      ]
     },
     "execution_count": 28,
     "metadata": {},
     "output_type": "execute_result"
    },
    {
     "data": {
      "image/png": "[encoded data removed]",
      "text/plain": [
       "<Figure size 1080x720 with 1 Axes>"
      ]
     },
     "metadata": {
      "needs_background": "light"
     },
     "output_type": "display_data"
    }
   ],
   "source": [
    "plt.figure(figsize=(15,10))\n",
    "plt.ylabel(\"Loss\")\n",
    "plt.xlabel(\"Training Steps\")\n",
    "plt.plot(running_mean(losses))\n",
    "#plt.savefig(\"dqn_3_loss_plot.pdf\", format=\"pdf\")"
   ]
  },
  {
   "cell_type": "code",
   "execution_count": 29,
   "metadata": {},
   "outputs": [
    {
     "name": "stdout",
     "output_type": "stream",
     "text": [
      "Initial State:\n",
      "[[' ' ' ' ' ' 'P']\n",
      " ['+' ' ' ' ' ' ']\n",
      " [' ' ' ' '-' ' ']\n",
      " [' ' 'W' ' ' ' ']]\n",
      "Move #: 0; Taking action: l\n",
      "[[' ' ' ' 'P' ' ']\n",
      " ['+' ' ' ' ' ' ']\n",
      " [' ' ' ' '-' ' ']\n",
      " [' ' 'W' ' ' ' ']]\n",
      "Move #: 1; Taking action: l\n",
      "[[' ' 'P' ' ' ' ']\n",
      " ['+' ' ' ' ' ' ']\n",
      " [' ' ' ' '-' ' ']\n",
      " [' ' 'W' ' ' ' ']]\n",
      "Move #: 2; Taking action: l\n",
      "[['P' ' ' ' ' ' ']\n",
      " ['+' ' ' ' ' ' ']\n",
      " [' ' ' ' '-' ' ']\n",
      " [' ' 'W' ' ' ' ']]\n",
      "Move #: 3; Taking action: u\n",
      "[['P' ' ' ' ' ' ']\n",
      " ['+' ' ' ' ' ' ']\n",
      " [' ' ' ' '-' ' ']\n",
      " [' ' 'W' ' ' ' ']]\n",
      "Move #: 4; Taking action: d\n",
      "[[' ' ' ' ' ' ' ']\n",
      " ['+' ' ' ' ' ' ']\n",
      " [' ' ' ' '-' ' ']\n",
      " [' ' 'W' ' ' ' ']]\n",
      "You won! Reward: 10\n"
     ]
    },
    {
     "data": {
      "text/plain": [
       "True"
      ]
     },
     "execution_count": 29,
     "metadata": {},
     "output_type": "execute_result"
    }
   ],
   "source": [
    "testModel(model2, 'random') #random or player"
   ]
  },
  {
   "cell_type": "markdown",
   "metadata": {},
   "source": [
    "### Test percentage game wins"
   ]
  },
  {
   "cell_type": "code",
   "execution_count": 35,
   "metadata": {},
   "outputs": [
    {
     "name": "stdout",
     "output_type": "stream",
     "text": [
      "model2(replay) Games played: 1000, # of wins: 837\n",
      "Win percentage: 0.837\n"
     ]
    }
   ],
   "source": [
    "max_games = 1000\n",
    "wins = 0\n",
    "for i in range(max_games):\n",
    "    #win = testModel('random', display=False) 7/23 looks like a typo jw\n",
    "    win = testModel(model2,'random',display=False) #random or player\n",
    "    if win:\n",
    "        wins += 1\n",
    "win_perc = float(wins) / float(max_games)\n",
    "print(\"model2(replay) Games played: {0}, # of wins: {1}\".format(max_games,wins))\n",
    "print(\"Win percentage: {}\".format(win_perc))"
   ]
  },
  {
   "cell_type": "markdown",
   "metadata": {},
   "source": [
    "### With experience replay and target network"
   ]
  },
  {
   "cell_type": "code",
   "execution_count": 31,
   "metadata": {},
   "outputs": [],
   "source": [
    "import copy\n",
    "\n",
    "l1 = 64\n",
    "l2 = 164\n",
    "l3 = 250 #was 150\n",
    "l4 = 4\n",
    "\n",
    "model3 = torch.nn.Sequential(\n",
    "    torch.nn.Linear(l1, l2),\n",
    "    torch.nn.ReLU(),\n",
    "    torch.nn.Linear(l2, l3),\n",
    "    torch.nn.ReLU(),\n",
    "    torch.nn.Linear(l3,l4),\n",
    ")\n",
    "\n",
    "model3_ = copy.deepcopy(model3) #Target network\n",
    "\n",
    "loss_fn3 = torch.nn.MSELoss(size_average=False)\n",
    "\n",
    "learning_rate3 = 1e-3\n",
    "optimizer3 = torch.optim.Adam(model3.parameters(), lr=learning_rate3)\n",
    "\n",
    "\n",
    "#reinforcement learning specific parameters\n",
    "gamma = 0.9 #since it may take several moves to goal, making gamma high\n",
    "epsilon = 1.0\n",
    "\n",
    "action_set = {\n",
    "    0: 'u',\n",
    "    1: 'd',\n",
    "    2: 'l',\n",
    "    3: 'r',\n",
    "}"
   ]
  },
  {
   "cell_type": "code",
   "execution_count": 32,
   "metadata": {},
   "outputs": [
    {
     "name": "stdout",
     "output_type": "stream",
     "text": [
      "cpu\n"
     ]
    }
   ],
   "source": [
    "device = torch.device(\"cuda:0\" if torch.cuda.is_available() else \"cpu\")\n",
    "# Assume that we are on a CUDA machine, then this should print a CUDA device:\n",
    "print(device)"
   ]
  },
  {
   "cell_type": "code",
   "execution_count": 33,
   "metadata": {},
   "outputs": [
    {
     "data": {
      "text/plain": [
       "Sequential(\n",
       "  (0): Linear(in_features=64, out_features=164, bias=True)\n",
       "  (1): ReLU()\n",
       "  (2): Linear(in_features=164, out_features=250, bias=True)\n",
       "  (3): ReLU()\n",
       "  (4): Linear(in_features=250, out_features=4, bias=True)\n",
       ")"
      ]
     },
     "execution_count": 33,
     "metadata": {},
     "output_type": "execute_result"
    }
   ],
   "source": [
    "model3.to(device)\n",
    "model3_.to(device)"
   ]
  },
  {
   "cell_type": "code",
   "execution_count": 34,
   "metadata": {},
   "outputs": [
    {
     "name": "stdout",
     "output_type": "stream",
     "text": [
      "1499 9203.0771484375\n"
     ]
    }
   ],
   "source": [
    "#jw remove cuda() calls \n",
    "epochs = 1500 #was 700 jw\n",
    "losses = []\n",
    "batchSize = 250\n",
    "buffer = 2000\n",
    "replay = []\n",
    "max_moves = 9\n",
    "c = 500 #target network update step size\n",
    "c_step = 0\n",
    "h = 0\n",
    "for i in range(epochs):\n",
    "    game = Gridworld(size=4, mode='random')\n",
    "    state_ = game.board.render_np().reshape(1,64) + np.random.rand(1,64)/100.0\n",
    "    state = Variable(torch.from_numpy(state_).float()) #.cuda()\n",
    "    status = 1\n",
    "    mov = 0\n",
    "    #while game still in progress\n",
    "    while(status == 1):\n",
    "        \n",
    "        c_step += 1\n",
    "        if c_step > c:\n",
    "            model3_.load_state_dict(model3.state_dict())\n",
    "            c_step = 0\n",
    "        mov += 1\n",
    "        \n",
    "        qval = model3(state)\n",
    "        qval_ = qval.cpu().data.numpy()\n",
    "        #values, indices = torch.max(tensor, 0)\n",
    "        if (random.random() < epsilon):\n",
    "            action_ = np.random.randint(0,4)\n",
    "        else:\n",
    "            action_ = np.argmax(qval_)\n",
    "            #action_ = torch.argmax(qval_)\n",
    "        action = action_set[action_]\n",
    "        game.makeMove(action)\n",
    "        new_state_ = game.board.render_np().reshape(1,64) + np.random.rand(1,64)/100.0\n",
    "        new_state = Variable(torch.from_numpy(new_state_).float()) #.cuda()\n",
    "        reward = game.reward()\n",
    "        if mov > max_moves:\n",
    "            reward = -5\n",
    "        if (len(replay) < buffer): #if buffer not filled, add to it\n",
    "            replay.append((state, action_, reward, new_state))\n",
    "        else: #if buffer full, overwrite old values\n",
    "            replay.pop(0)\n",
    "            replay.append((state, action_, reward, new_state))\n",
    "            #randomly sample our experience replay memory\n",
    "            minibatch = random.sample(replay, batchSize)\n",
    "            X_train = Variable(torch.empty(batchSize, 4, dtype=torch.float))#.cuda()\n",
    "            y_train = Variable(torch.empty(batchSize, 4, dtype=torch.float))#.cuda()\n",
    "            h = 0\n",
    "            for memory in minibatch:\n",
    "                old_state, action_m, reward_m, new_state_m = memory\n",
    "                old_qval = model3(old_state) #TARGET NETWORK!\n",
    "                #newQ = model3_(new_state_m).cpu().data.numpy()\n",
    "                newQ = model3_(new_state_m)\n",
    "                #maxQ = np.max(newQ)\n",
    "                maxQ = torch.max(newQ)\n",
    "                y = torch.zeros((1,4))\n",
    "                y[:] = old_qval[:]\n",
    "                if reward == -1:\n",
    "                    update = (reward_m + (gamma * maxQ))\n",
    "                else:\n",
    "                    update = reward_m\n",
    "                y[0][action_m] = update\n",
    "                X_train[h] = old_qval\n",
    "                y_train[h] = Variable(y)\n",
    "                h+=1\n",
    "            \n",
    "            loss = loss_fn3(X_train, y_train)\n",
    "            print(i, loss.item())\n",
    "            optimizer3.zero_grad()\n",
    "            loss.backward()\n",
    "            losses.append(loss.item())\n",
    "            optimizer3.step()\n",
    "            \n",
    "            state = new_state\n",
    "\n",
    "        if reward != -1:\n",
    "            status = 0\n",
    "            mov = 0\n",
    "        clear_output(wait=True)\n",
    "    if epsilon > 0.1:\n",
    "        epsilon -= (1/epochs)"
   ]
  },
  {
   "cell_type": "code",
   "execution_count": 25,
   "metadata": {},
   "outputs": [
    {
     "name": "stdout",
     "output_type": "stream",
     "text": [
      "Initial State:\n",
      "[[' ' ' ' ' ' ' ']\n",
      " [' ' '+' '-' 'W']\n",
      " [' ' ' ' ' ' 'P']\n",
      " [' ' ' ' ' ' ' ']]\n",
      "Move #: 0; Taking action: l\n",
      "[[' ' ' ' ' ' ' ']\n",
      " [' ' '+' '-' 'W']\n",
      " [' ' ' ' 'P' ' ']\n",
      " [' ' ' ' ' ' ' ']]\n",
      "Move #: 1; Taking action: l\n",
      "[[' ' ' ' ' ' ' ']\n",
      " [' ' '+' '-' 'W']\n",
      " [' ' 'P' ' ' ' ']\n",
      " [' ' ' ' ' ' ' ']]\n",
      "Move #: 2; Taking action: l\n",
      "[[' ' ' ' ' ' ' ']\n",
      " [' ' '+' '-' 'W']\n",
      " ['P' ' ' ' ' ' ']\n",
      " [' ' ' ' ' ' ' ']]\n",
      "Move #: 3; Taking action: r\n",
      "[[' ' ' ' ' ' ' ']\n",
      " [' ' '+' '-' 'W']\n",
      " [' ' 'P' ' ' ' ']\n",
      " [' ' ' ' ' ' ' ']]\n",
      "Move #: 4; Taking action: l\n",
      "[[' ' ' ' ' ' ' ']\n",
      " [' ' '+' '-' 'W']\n",
      " ['P' ' ' ' ' ' ']\n",
      " [' ' ' ' ' ' ' ']]\n",
      "Move #: 5; Taking action: u\n",
      "[[' ' ' ' ' ' ' ']\n",
      " ['P' '+' '-' 'W']\n",
      " [' ' ' ' ' ' ' ']\n",
      " [' ' ' ' ' ' ' ']]\n",
      "Move #: 6; Taking action: r\n",
      "[[' ' ' ' ' ' ' ']\n",
      " [' ' '+' '-' 'W']\n",
      " [' ' ' ' ' ' ' ']\n",
      " [' ' ' ' ' ' ' ']]\n",
      "You won! Reward: 10\n"
     ]
    },
    {
     "data": {
      "text/plain": [
       "True"
      ]
     },
     "execution_count": 25,
     "metadata": {},
     "output_type": "execute_result"
    }
   ],
   "source": [
    "testModel(model3.to('cpu'), 'random')"
   ]
  },
  {
   "cell_type": "code",
   "execution_count": 26,
   "metadata": {},
   "outputs": [
    {
     "name": "stdout",
     "output_type": "stream",
     "text": [
      "Games played: 1000, # of wins: 738\n",
      "Win percentage: 0.738\n"
     ]
    }
   ],
   "source": [
    "test_win_perc(model3)"
   ]
  },
  {
   "cell_type": "code",
   "execution_count": 20,
   "metadata": {
    "scrolled": false
   },
   "outputs": [
    {
     "name": "stdout",
     "output_type": "stream",
     "text": [
      "2916\n"
     ]
    },
    {
     "data": {
      "image/png": "[encoded data removed]",
      "text/plain": [
       "<Figure size 1080x720 with 1 Axes>"
      ]
     },
     "metadata": {
      "needs_background": "light"
     },
     "output_type": "display_data"
    }
   ],
   "source": [
    "plt.figure(figsize=(15,10))\n",
    "plt.ylabel(\"Loss\")\n",
    "plt.xlabel(\"Training Steps\")\n",
    "plt.plot(running_mean(losses,250))\n",
    "print(len(losses))\n",
    "#plt.savefig(\"dqn_3_loss_plot.pdf\", format=\"pdf\")"
   ]
  },
  {
   "cell_type": "code",
   "execution_count": null,
   "metadata": {},
   "outputs": [],
   "source": []
  }
 ],
 "metadata": {
  "kernelspec": {
   "display_name": "Pythonmyml 3",
   "language": "python",
   "name": "python3"
  },
  "language_info": {
   "codemirror_mode": {
    "name": "ipython",
    "version": 3
   },
   "file_extension": ".py",
   "mimetype": "text/x-python",
   "name": "python",
   "nbconvert_exporter": "python",
   "pygments_lexer": "ipython3",
   "version": "3.6.8"
  }
 },
 "nbformat": 4,
 "nbformat_minor": 2
}
