{
 "cells": [
  {
   "cell_type": "code",
   "execution_count": 1,
   "metadata": {},
   "outputs": [
    {
     "name": "stdout",
     "output_type": "stream",
     "text": [
      "/home/nbuser/anaconda3_501/lib/python3.6/runpy.py:125: RuntimeWarning: 'nltk.downloader' found in sys.modules after import of package 'nltk', but prior to execution of 'nltk.downloader'; this may result in unpredictable behaviour\n",
      "  warn(RuntimeWarning(msg))\n",
      "[nltk_data] Downloading package punkt to /home/nbuser/nltk_data...\n",
      "[nltk_data]   Unzipping tokenizers/punkt.zip.\n",
      "/home/nbuser/anaconda3_501/lib/python3.6/runpy.py:125: RuntimeWarning: 'nltk.downloader' found in sys.modules after import of package 'nltk', but prior to execution of 'nltk.downloader'; this may result in unpredictable behaviour\n",
      "  warn(RuntimeWarning(msg))\n",
      "[nltk_data] Downloading package stopwords to /home/nbuser/nltk_data...\n",
      "[nltk_data]   Unzipping corpora/stopwords.zip.\n",
      "/home/nbuser/anaconda3_501/lib/python3.6/runpy.py:125: RuntimeWarning: 'nltk.downloader' found in sys.modules after import of package 'nltk', but prior to execution of 'nltk.downloader'; this may result in unpredictable behaviour\n",
      "  warn(RuntimeWarning(msg))\n",
      "[nltk_data] Downloading package treebank to /home/nbuser/nltk_data...\n",
      "[nltk_data]   Unzipping corpora/treebank.zip.\n",
      "passed\n"
     ]
    }
   ],
   "source": [
    "import nltk\n",
    "import feedparser\n",
    "import ssl\n",
    "from collections import Counter\n",
    "import pandas as pd\n",
    "import numpy as np\n",
    "from sklearn.feature_extraction.text import TfidfVectorizer\n",
    "from sklearn.feature_extraction.text import CountVectorizer\n",
    "from sklearn.feature_extraction.text import TfidfTransformer\n",
    "\n",
    "#!pip install -U scikit-learn  should not be needed  but just in case uncomment\n",
    "#from nltk.corpus import stopwords\n",
    "\n",
    "\n",
    "'''there is a limit in azure notebooks with NLTK in that it does not save the downloaded NLTK libs we need to cache locally\n",
    "this means we need to uncomment the very next statement and the sequence of commands will be\n",
    "d   - that tell the downloader you want to download something\n",
    "when it prompts again enter punkt - the tokenizer \n",
    "then it will prompt again for another action\n",
    "enter d to run another download\n",
    "enter stopwords and then return\n",
    "finally, at the last step, enter q and hit return to exit. you can now run as long as your notebook session is alive to\n",
    "please add the comment, or enter a q if the prompt appears on a subsequent run'''\n",
    "#nltk.download() #uncomment is you need to download stopwords, punkt, treebank\n",
    "!python -m nltk.downloader punkt\n",
    "!python -m nltk.downloader stopwords\n",
    "!python -m nltk.downloader treebank\n",
    "\n",
    "from nltk.corpus import stopwords\n",
    "from nltk.tokenize import TreebankWordTokenizer \n",
    "\n",
    "stopset = set(stopwords.words('english'))  #for now use english jw 1/3/18\n",
    "stopset.add('...') \n",
    "print('passed')"
   ]
  },
  {
   "cell_type": "code",
   "execution_count": 2,
   "metadata": {},
   "outputs": [],
   "source": [
    "#just in case as this does occasionally interfere but don't just point to any URL - make sure of the source\n",
    "if hasattr(ssl,'_create_unverified_context'):\n",
    "    ssl._create_default_https_context = ssl._create_unverified_context"
   ]
  },
  {
   "cell_type": "code",
   "execution_count": 3,
   "metadata": {},
   "outputs": [],
   "source": [
    "docs  = [] #docs will hold a list of documents per sweep over a rss feed\n",
    "docn  = 0 #this counts documents which is one to one with n.description entries found\n",
    "sentn = 0 #this counts sentences within a document so you can think of a document as a list of sentences"
   ]
  },
  {
   "cell_type": "code",
   "execution_count": 4,
   "metadata": {},
   "outputs": [],
   "source": [
    "#will statically load the docs list with items from a previous run\n",
    "docs = ['recently, one customer said his asp.net core application used to work very well in oauth authentication all the time, but after he placed a reverse proxy in front of the web application, the authentication fails because of invalid callback path. normally speaking, a callback path is needed when registering an application to the oauth server....', \n",
    "        'in this post, premier developer consultant joe healy identifies a possible error you may get when working with an android project on xamarin forms. read about his discovery and eventual solution to fix the ssl/tls implementation issue. recently, i was helping a client with an azure active directory integrated project (adal not msal for some...', \n",
    "        'sql server management object smo) is one of the widely used way to interact with sql server due to its feature for directly able to execute mass operation as well as management operation on sql server, instead of old school way of using queries. however when using it , it should also need to be...', \n",
    "        \"“if you have nothing to say, say nothing.” -- mark twain twain was so smart. i've returned to post after a long, self-imposed break from blogging, as so many great folks inside\\xa0 the company work as part of their day jobs several of the areas of interest i've covered on my blog. over the last...\", \n",
    "        'in this post, app dev manager john abele explores micro-frontend design with asp.net core and mvc. many development teams have spent the last few years organizing and empowering cross-functional teams, building independently managed microservices, and implementing devops pipelines to go faster than ever! these industry shifts, critical for organizations to plan less and react more,...', \n",
    "        'php_ini_system level settings cannot be changed from .user.ini or ini_set function. to make change for php_ini_system settings on azure web app, follow the steps, 1. add an app setting to your web app with the key php_ini_scan_dir and value d:homesiteini 2. create an settings.ini file using kudu console (http://&#60;site-name&#62;.scm.azurewebsite.net) in the d:homesiteini directory. 3. add...', \n",
    "        \"i don't spend a lot of time talking to customers about physical data center security. as a developer using mostly paas or iaas compute platforms, i just assumed that that cloud provider had taken care of it. helping customers with data security (data at rest, data in transit, secure compute), and application code security takes...\", \n",
    "        'here are top stories we found in our streams this week related to devops, vsts, tfs and other interesting topics. top stories change image size in vsts wiki - jeff bramwellif you’ve been making use of the wiki feature within vsts then you already know how useful it is for providing documentation, notes, etc. in...', \n",
    "        'when managing a self-service knowledge base, understanding how customers and employees are searching for and consuming self-service knowledge is an important part of ensuring your content remains relevant and useful for end users. dynamics includes a number of in-built capabilities to help analyze the usage of the knowledge base, including: tracking of article views by...', \n",
    "        'Azure Automation For Azure IAAS enthusiasts, Microsoft has provided a platform to automate all the azure services using powershell. The language is tweaked and used as “powershell workflow”. Why to Use Reducing Manual Effort and help in consistent testing Managing resources (deployment/VM’s etc) How to Use Create a powershell workflow in azure web portal and',\n",
    "        'new titles are coming soon to the microsoft press store! buy now to save 40% on pre-order books or ebooks: https://www.microsoftpressstore.com/store/browse/coming-soon. note: new titles become available for pre-order 90 days prior to availability. some books in the image above will become available during the duration of the sale.',\n",
    "       'Ransomware attacks are no longer restricted to only deletion of data but are starting to look at attacking backups as well. Taking a backup is only the first step in your protection, it becomes important to safe guard those backups too. This week as we celebrate World Backup Day, let’s look at the key considerations that customers should look for in backup products as they build the defenses to secure their backups from evolving ransomware attacks.',\n",
    "       'it service management (itsm) tools help large it organizations route and handle service issues and requests. itop is an open source itsm tool written in php. it uses mysql as the backend database. in this blog, i will walk through the steps of installing itop in an azure web app and configure azure active directory']"
   ]
  },
  {
   "cell_type": "code",
   "execution_count": 5,
   "metadata": {},
   "outputs": [
    {
     "name": "stdout",
     "output_type": "stream",
     "text": [
      "\n",
      " number of docs is  13\n",
      "recently one customer said asp net core application used work well oauth authentication time placed reverse proxy front web application authentication fails invalid callback path normally speaking callback path needed registering application oauth server .... \n",
      " service management itsm tools help large organizations route handle service issues requests itop open source itsm tool written php uses mysql backend database blog walk steps installing itop azure web app configure azure active directory\n"
     ]
    }
   ],
   "source": [
    "#test zone to cleanup and remove punctuation from the original documents - leaves us wiht a list of strings with each\n",
    "#string containing the origninal text stripped of stopwords, punctuation, and small words ( 2 char or less)\n",
    "keepset = ('AI','ai','PI','pi','Pi') #small words worth keeping\n",
    "\n",
    "#print(token in stopset)\n",
    "#print(len(token)>2 or token.lower() in keepset)\n",
    "atdoc=0 #track our doc location in the docs list\n",
    "tstdocs = []\n",
    "for doc in docs:\n",
    "    #tokens  = nltk.word_tokenize(doc)      #original working version\n",
    "    tokens  = nltk.wordpunct_tokenize(doc) #3/15 just to see how it works\n",
    "    cleanup = [token.lower() for token in tokens if token not in stopset and ( len(token)>2 or token in keepset) ]\n",
    "    #rawtext = nltk.Text(cleanup)\n",
    "    #print(type(docs[0]))\n",
    "    #print(type(rawtext))\n",
    "    #print(cleanup)\n",
    "    cleanup = ' '.join(cleanup)\n",
    "    docs[atdoc] = cleanup #see if this works 3/15\n",
    "    atdoc = atdoc+1\n",
    "    tstdocs.append(cleanup) \n",
    "\n",
    "    \n",
    "docn = len(docs)\n",
    "print('\\n number of docs is ',docn)\n",
    "print(docs[0],'\\n',docs[docn-1])\n",
    "#print(tstdocs)\n"
   ]
  },
  {
   "cell_type": "code",
   "execution_count": null,
   "metadata": {},
   "outputs": [],
   "source": []
  },
  {
   "cell_type": "code",
   "execution_count": 6,
   "metadata": {},
   "outputs": [
    {
     "name": "stdout",
     "output_type": "stream",
     "text": [
      "counts shape: rows,cols  13 339\n",
      "feature locs for azure and books are :\n",
      " 22 \t 32\n",
      "feature names:\n",
      " availability \t backups\n",
      "   abele  able  active  adal  add  already  also  analyze  android  app  \\\n",
      "0      0     0       0     0    0        0     0        0        0    0   \n",
      "1      0     0       1     1    0        0     0        0        1    0   \n",
      "\n",
      "   ...    wiki  within  work  workflow  working  world  written  www  xamarin  \\\n",
      "0  ...       0       0     1         0        0      0        0    0        0   \n",
      "1  ...       0       0     0         0        1      0        0    0        1   \n",
      "\n",
      "   years  \n",
      "0      0  \n",
      "1      0  \n",
      "\n",
      "[2 rows x 339 columns]\n"
     ]
    }
   ],
   "source": [
    "count_vect = CountVectorizer()\n",
    "counts = count_vect.fit_transform(docs)     #counts is a sparse matrix\n",
    "dfcv   = pd.DataFrame(counts.toarray(),columns=count_vect.get_feature_names() )    #new 3/15\n",
    "counts_rows,counts_cols = counts.get_shape()\n",
    "print('counts shape: rows,cols ',counts_rows,counts_cols)\n",
    "#print('counts first entry[0][0] ',counts[0,0:counts_cols])                      #get all the flags for the first document for all words in vocabularly\n",
    "\n",
    "featnames = count_vect.get_feature_names()\n",
    "print('feature locs for azure and books are :\\n',featnames.index('azure'),'\\t',featnames.index('books'))\n",
    "print('feature names:\\n',featnames[20],'\\t',featnames[26])\n",
    "print(dfcv.loc[0:1])"
   ]
  },
  {
   "cell_type": "code",
   "execution_count": 7,
   "metadata": {},
   "outputs": [
    {
     "name": "stdout",
     "output_type": "stream",
     "text": [
      "availability \t backups\n",
      "\n",
      "---------------now lets look at one word across the  13  docs---the word is azure---\n",
      "[0.0, 0.0, 0.0, 0.0, 0.0, 0.0, 0.0, 0.0, 0.0, 0.0, 0.14912862892501946, 0.0, 0.0]\n",
      "\n",
      "---------------now lets look another word across the  13  docs---the word is books--\n",
      "[0.0, 0.0, 0.0, 0.0, 0.0, 0.0, 0.0, 0.0, 0.0, 0.0, 0.0, 0.3171104605382547, 0.0]\n",
      "\n",
      "note that server shows up in two documents and oauth in one, and look at the values - indicative of the frequencies as oauth appears several times in docs[9] and books appears in docs[10]\n"
     ]
    }
   ],
   "source": [
    "tfidf = TfidfTransformer()\n",
    "tfarray=tfidf.fit_transform(count_vect.fit_transform(docs)).toarray()\n",
    "#original min_df=1 - let's try 2 and notice the changes downstream\n",
    "sklearn_tfidf = TfidfVectorizer(norm='l2',min_df=1, use_idf=True, smooth_idf=False, stop_words=stopwords.words('english'), \\\n",
    "                                sublinear_tf=True,ngram_range=(1,1))\n",
    "sklearn_representation = sklearn_tfidf.fit_transform(docs)\n",
    "skarray = sklearn_representation.toarray()\n",
    "\n",
    "#print('first doc features skarray \\n ', sklearn_representation.toarray()[0].tolist()) \n",
    "#print('first doc features tfarray\\n', tfarray[0].tolist())\n",
    "\n",
    "feats = sklearn_tfidf.get_feature_names() # same as CountVectorizer\n",
    "print(feats[20],'\\t',feats[26])\n",
    "#print(tfarray.shape)\n",
    "#print(type(tfarray))\n",
    "#np.set_printoptions(precision=6,suppress=True)\n",
    "#print(type(tfarray[0,0]))\n",
    "wordloc = 20 #oauth is loacted at that index location\n",
    "wordloc2= 26 #server is located here\n",
    "#these will work when df_min is 1 and ngram_range is 1,1 or 1,2 etc. currently set at (2,2) 3/14 Noon\n",
    "print('\\n---------------now let''s look at one word across the ',docn, ' docs---the word is azure---')\n",
    "#print(tfarray[0:,wordloc].tolist())                                   #show the nth word in wordtoloc\n",
    "print(skarray[0:,wordloc].tolist())\n",
    "print('\\n---------------now let''s look another word across the ',docn,' docs---the word is books--')\n",
    "#print(tfarray[0:,wordloc2].tolist()) \n",
    "print(skarray[0:,wordloc2].tolist())\n",
    "\n",
    "print('\\nnote that server shows up in two documents and oauth in one, and look at the values - indicative of the frequencies \\\n",
    "as oauth appears several times in docs[9] and books appears in docs[10]')"
   ]
  },
  {
   "cell_type": "code",
   "execution_count": 8,
   "metadata": {},
   "outputs": [],
   "source": [
    "#how let's look for something else - what docs have words in common\n",
    "#a simple translation is to compare the two arrays of 337 entries for hits where a hit is simply that both are non-zero\n",
    "#for example the intersection array of tfarray[0,:] and tfarray[1,:] where both values are > 0.0\n",
    "#pandas dataframes\n",
    "df = pd.DataFrame(sklearn_representation.toarray(),columns=feats)\n",
    "#print(df['twain'],'\\n',df['developer'])\n"
   ]
  },
  {
   "cell_type": "code",
   "execution_count": 9,
   "metadata": {},
   "outputs": [
    {
     "name": "stdout",
     "output_type": "stream",
     "text": [
      "[[0.     0.     0.     ... 0.     0.     0.    ]\n",
      " [0.     0.     0.1407 ... 0.     0.1746 0.    ]\n",
      " [0.     0.171  0.     ... 0.     0.     0.    ]\n",
      " ...\n",
      " [0.     0.     0.     ... 0.1491 0.     0.    ]\n",
      " [0.     0.     0.     ... 0.     0.     0.    ]\n",
      " [0.     0.     0.143  ... 0.     0.     0.    ]]\n"
     ]
    }
   ],
   "source": [
    "print(sklearn_representation.todense().round(4))"
   ]
  },
  {
   "cell_type": "code",
   "execution_count": 10,
   "metadata": {},
   "outputs": [
    {
     "name": "stdout",
     "output_type": "stream",
     "text": [
      "   abele  able    active      adal  add  already  also  analyze   android  \\\n",
      "0    0.0   0.0  0.000000  0.000000  0.0      0.0   0.0      0.0  0.000000   \n",
      "1    0.0   0.0  0.140672  0.174626  0.0      0.0   0.0      0.0  0.174626   \n",
      "\n",
      "   app  ...    wiki  within      work  workflow   working  world  written  \\\n",
      "0  0.0  ...     0.0     0.0  0.140923       0.0  0.000000    0.0      0.0   \n",
      "1  0.0  ...     0.0     0.0  0.000000       0.0  0.174626    0.0      0.0   \n",
      "\n",
      "   www   xamarin  years  \n",
      "0  0.0  0.000000    0.0  \n",
      "1  0.0  0.174626    0.0  \n",
      "\n",
      "[2 rows x 334 columns]\n"
     ]
    }
   ],
   "source": [
    "print(df.loc[0:1])"
   ]
  },
  {
   "cell_type": "code",
   "execution_count": 11,
   "metadata": {},
   "outputs": [
    {
     "data": {
      "text/html": [
       "<div>\n",
       "<style>\n",
       "    .dataframe thead tr:only-child th {\n",
       "        text-align: right;\n",
       "    }\n",
       "\n",
       "    .dataframe thead th {\n",
       "        text-align: left;\n",
       "    }\n",
       "\n",
       "    .dataframe tbody tr th {\n",
       "        vertical-align: top;\n",
       "    }\n",
       "</style>\n",
       "<table border=\"1\" class=\"dataframe\">\n",
       "  <thead>\n",
       "    <tr style=\"text-align: right;\">\n",
       "      <th></th>\n",
       "      <th>abele</th>\n",
       "      <th>able</th>\n",
       "      <th>active</th>\n",
       "      <th>adal</th>\n",
       "      <th>add</th>\n",
       "      <th>already</th>\n",
       "      <th>also</th>\n",
       "      <th>analyze</th>\n",
       "      <th>android</th>\n",
       "      <th>app</th>\n",
       "      <th>...</th>\n",
       "      <th>wiki</th>\n",
       "      <th>within</th>\n",
       "      <th>work</th>\n",
       "      <th>workflow</th>\n",
       "      <th>working</th>\n",
       "      <th>world</th>\n",
       "      <th>written</th>\n",
       "      <th>www</th>\n",
       "      <th>xamarin</th>\n",
       "      <th>years</th>\n",
       "    </tr>\n",
       "  </thead>\n",
       "  <tbody>\n",
       "    <tr>\n",
       "      <th>count</th>\n",
       "      <td>13.000000</td>\n",
       "      <td>13.000000</td>\n",
       "      <td>13.000000</td>\n",
       "      <td>13.000000</td>\n",
       "      <td>13.000000</td>\n",
       "      <td>13.000000</td>\n",
       "      <td>13.000000</td>\n",
       "      <td>13.000000</td>\n",
       "      <td>13.000000</td>\n",
       "      <td>13.000000</td>\n",
       "      <td>...</td>\n",
       "      <td>13.000000</td>\n",
       "      <td>13.000000</td>\n",
       "      <td>13.000000</td>\n",
       "      <td>13.000000</td>\n",
       "      <td>13.000000</td>\n",
       "      <td>13.000000</td>\n",
       "      <td>13.000000</td>\n",
       "      <td>13.000000</td>\n",
       "      <td>13.000000</td>\n",
       "      <td>13.000000</td>\n",
       "    </tr>\n",
       "    <tr>\n",
       "      <th>mean</th>\n",
       "      <td>0.012446</td>\n",
       "      <td>0.013157</td>\n",
       "      <td>0.021824</td>\n",
       "      <td>0.013433</td>\n",
       "      <td>0.020014</td>\n",
       "      <td>0.013154</td>\n",
       "      <td>0.013157</td>\n",
       "      <td>0.012902</td>\n",
       "      <td>0.013433</td>\n",
       "      <td>0.035222</td>\n",
       "      <td>...</td>\n",
       "      <td>0.022272</td>\n",
       "      <td>0.013154</td>\n",
       "      <td>0.022226</td>\n",
       "      <td>0.022950</td>\n",
       "      <td>0.013433</td>\n",
       "      <td>0.011623</td>\n",
       "      <td>0.013658</td>\n",
       "      <td>0.011471</td>\n",
       "      <td>0.013433</td>\n",
       "      <td>0.012446</td>\n",
       "    </tr>\n",
       "    <tr>\n",
       "      <th>std</th>\n",
       "      <td>0.044876</td>\n",
       "      <td>0.047438</td>\n",
       "      <td>0.053273</td>\n",
       "      <td>0.048432</td>\n",
       "      <td>0.072160</td>\n",
       "      <td>0.047429</td>\n",
       "      <td>0.047438</td>\n",
       "      <td>0.046520</td>\n",
       "      <td>0.048432</td>\n",
       "      <td>0.071454</td>\n",
       "      <td>...</td>\n",
       "      <td>0.080304</td>\n",
       "      <td>0.047429</td>\n",
       "      <td>0.054272</td>\n",
       "      <td>0.082746</td>\n",
       "      <td>0.048432</td>\n",
       "      <td>0.041909</td>\n",
       "      <td>0.049246</td>\n",
       "      <td>0.041361</td>\n",
       "      <td>0.048432</td>\n",
       "      <td>0.044876</td>\n",
       "    </tr>\n",
       "    <tr>\n",
       "      <th>min</th>\n",
       "      <td>0.000000</td>\n",
       "      <td>0.000000</td>\n",
       "      <td>0.000000</td>\n",
       "      <td>0.000000</td>\n",
       "      <td>0.000000</td>\n",
       "      <td>0.000000</td>\n",
       "      <td>0.000000</td>\n",
       "      <td>0.000000</td>\n",
       "      <td>0.000000</td>\n",
       "      <td>0.000000</td>\n",
       "      <td>...</td>\n",
       "      <td>0.000000</td>\n",
       "      <td>0.000000</td>\n",
       "      <td>0.000000</td>\n",
       "      <td>0.000000</td>\n",
       "      <td>0.000000</td>\n",
       "      <td>0.000000</td>\n",
       "      <td>0.000000</td>\n",
       "      <td>0.000000</td>\n",
       "      <td>0.000000</td>\n",
       "      <td>0.000000</td>\n",
       "    </tr>\n",
       "    <tr>\n",
       "      <th>25%</th>\n",
       "      <td>0.000000</td>\n",
       "      <td>0.000000</td>\n",
       "      <td>0.000000</td>\n",
       "      <td>0.000000</td>\n",
       "      <td>0.000000</td>\n",
       "      <td>0.000000</td>\n",
       "      <td>0.000000</td>\n",
       "      <td>0.000000</td>\n",
       "      <td>0.000000</td>\n",
       "      <td>0.000000</td>\n",
       "      <td>...</td>\n",
       "      <td>0.000000</td>\n",
       "      <td>0.000000</td>\n",
       "      <td>0.000000</td>\n",
       "      <td>0.000000</td>\n",
       "      <td>0.000000</td>\n",
       "      <td>0.000000</td>\n",
       "      <td>0.000000</td>\n",
       "      <td>0.000000</td>\n",
       "      <td>0.000000</td>\n",
       "      <td>0.000000</td>\n",
       "    </tr>\n",
       "    <tr>\n",
       "      <th>50%</th>\n",
       "      <td>0.000000</td>\n",
       "      <td>0.000000</td>\n",
       "      <td>0.000000</td>\n",
       "      <td>0.000000</td>\n",
       "      <td>0.000000</td>\n",
       "      <td>0.000000</td>\n",
       "      <td>0.000000</td>\n",
       "      <td>0.000000</td>\n",
       "      <td>0.000000</td>\n",
       "      <td>0.000000</td>\n",
       "      <td>...</td>\n",
       "      <td>0.000000</td>\n",
       "      <td>0.000000</td>\n",
       "      <td>0.000000</td>\n",
       "      <td>0.000000</td>\n",
       "      <td>0.000000</td>\n",
       "      <td>0.000000</td>\n",
       "      <td>0.000000</td>\n",
       "      <td>0.000000</td>\n",
       "      <td>0.000000</td>\n",
       "      <td>0.000000</td>\n",
       "    </tr>\n",
       "    <tr>\n",
       "      <th>75%</th>\n",
       "      <td>0.000000</td>\n",
       "      <td>0.000000</td>\n",
       "      <td>0.000000</td>\n",
       "      <td>0.000000</td>\n",
       "      <td>0.000000</td>\n",
       "      <td>0.000000</td>\n",
       "      <td>0.000000</td>\n",
       "      <td>0.000000</td>\n",
       "      <td>0.000000</td>\n",
       "      <td>0.000000</td>\n",
       "      <td>...</td>\n",
       "      <td>0.000000</td>\n",
       "      <td>0.000000</td>\n",
       "      <td>0.000000</td>\n",
       "      <td>0.000000</td>\n",
       "      <td>0.000000</td>\n",
       "      <td>0.000000</td>\n",
       "      <td>0.000000</td>\n",
       "      <td>0.000000</td>\n",
       "      <td>0.000000</td>\n",
       "      <td>0.000000</td>\n",
       "    </tr>\n",
       "    <tr>\n",
       "      <th>max</th>\n",
       "      <td>0.161804</td>\n",
       "      <td>0.171042</td>\n",
       "      <td>0.143036</td>\n",
       "      <td>0.174626</td>\n",
       "      <td>0.260177</td>\n",
       "      <td>0.171007</td>\n",
       "      <td>0.171042</td>\n",
       "      <td>0.167731</td>\n",
       "      <td>0.174626</td>\n",
       "      <td>0.223103</td>\n",
       "      <td>...</td>\n",
       "      <td>0.289539</td>\n",
       "      <td>0.171007</td>\n",
       "      <td>0.148012</td>\n",
       "      <td>0.298346</td>\n",
       "      <td>0.174626</td>\n",
       "      <td>0.151105</td>\n",
       "      <td>0.177559</td>\n",
       "      <td>0.149129</td>\n",
       "      <td>0.174626</td>\n",
       "      <td>0.161804</td>\n",
       "    </tr>\n",
       "  </tbody>\n",
       "</table>\n",
       "<p>8 rows × 334 columns</p>\n",
       "</div>"
      ],
      "text/plain": [
       "           abele       able     active       adal        add    already  \\\n",
       "count  13.000000  13.000000  13.000000  13.000000  13.000000  13.000000   \n",
       "mean    0.012446   0.013157   0.021824   0.013433   0.020014   0.013154   \n",
       "std     0.044876   0.047438   0.053273   0.048432   0.072160   0.047429   \n",
       "min     0.000000   0.000000   0.000000   0.000000   0.000000   0.000000   \n",
       "25%     0.000000   0.000000   0.000000   0.000000   0.000000   0.000000   \n",
       "50%     0.000000   0.000000   0.000000   0.000000   0.000000   0.000000   \n",
       "75%     0.000000   0.000000   0.000000   0.000000   0.000000   0.000000   \n",
       "max     0.161804   0.171042   0.143036   0.174626   0.260177   0.171007   \n",
       "\n",
       "            also    analyze    android        app    ...           wiki  \\\n",
       "count  13.000000  13.000000  13.000000  13.000000    ...      13.000000   \n",
       "mean    0.013157   0.012902   0.013433   0.035222    ...       0.022272   \n",
       "std     0.047438   0.046520   0.048432   0.071454    ...       0.080304   \n",
       "min     0.000000   0.000000   0.000000   0.000000    ...       0.000000   \n",
       "25%     0.000000   0.000000   0.000000   0.000000    ...       0.000000   \n",
       "50%     0.000000   0.000000   0.000000   0.000000    ...       0.000000   \n",
       "75%     0.000000   0.000000   0.000000   0.000000    ...       0.000000   \n",
       "max     0.171042   0.167731   0.174626   0.223103    ...       0.289539   \n",
       "\n",
       "          within       work   workflow    working      world    written  \\\n",
       "count  13.000000  13.000000  13.000000  13.000000  13.000000  13.000000   \n",
       "mean    0.013154   0.022226   0.022950   0.013433   0.011623   0.013658   \n",
       "std     0.047429   0.054272   0.082746   0.048432   0.041909   0.049246   \n",
       "min     0.000000   0.000000   0.000000   0.000000   0.000000   0.000000   \n",
       "25%     0.000000   0.000000   0.000000   0.000000   0.000000   0.000000   \n",
       "50%     0.000000   0.000000   0.000000   0.000000   0.000000   0.000000   \n",
       "75%     0.000000   0.000000   0.000000   0.000000   0.000000   0.000000   \n",
       "max     0.171007   0.148012   0.298346   0.174626   0.151105   0.177559   \n",
       "\n",
       "             www    xamarin      years  \n",
       "count  13.000000  13.000000  13.000000  \n",
       "mean    0.011471   0.013433   0.012446  \n",
       "std     0.041361   0.048432   0.044876  \n",
       "min     0.000000   0.000000   0.000000  \n",
       "25%     0.000000   0.000000   0.000000  \n",
       "50%     0.000000   0.000000   0.000000  \n",
       "75%     0.000000   0.000000   0.000000  \n",
       "max     0.149129   0.174626   0.161804  \n",
       "\n",
       "[8 rows x 334 columns]"
      ]
     },
     "execution_count": 11,
     "metadata": {},
     "output_type": "execute_result"
    }
   ],
   "source": [
    "#print(df['server'] > 0.1)\n",
    "#print(df.loc[0:1].corr())\n",
    "#print(df.loc[0:1].cov())\n",
    "#print((df.corrwith(df.loc[1])))\n",
    "#print(df.loc[0].value_counts())\n",
    "df.describe()\n",
    "\n",
    "\n"
   ]
  },
  {
   "cell_type": "code",
   "execution_count": 12,
   "metadata": {},
   "outputs": [
    {
     "name": "stdout",
     "output_type": "stream",
     "text": [
      "abele             0.000000\n",
      "able              0.000000\n",
      "active            0.000000\n",
      "adal              0.000000\n",
      "add               0.000000\n",
      "already           0.000000\n",
      "also              0.000000\n",
      "analyze           0.000000\n",
      "android           0.000000\n",
      "app               0.000000\n",
      "application       0.295742\n",
      "areas             0.000000\n",
      "article           0.000000\n",
      "asp               0.140923\n",
      "assumed           0.000000\n",
      "attacking         0.000000\n",
      "attacks           0.000000\n",
      "authentication    0.296192\n",
      "automate          0.000000\n",
      "automation        0.000000\n",
      "availability      0.000000\n",
      "available         0.000000\n",
      "azure             0.000000\n",
      "azurewebsite      0.000000\n",
      "backend           0.000000\n",
      "backup            0.000000\n",
      "backups           0.000000\n",
      "base              0.000000\n",
      "become            0.000000\n",
      "becomes           0.000000\n",
      "                    ...   \n",
      "twain             0.000000\n",
      "tweaked           0.000000\n",
      "understanding     0.000000\n",
      "usage             0.000000\n",
      "use               0.000000\n",
      "used              0.121026\n",
      "useful            0.000000\n",
      "user              0.000000\n",
      "users             0.000000\n",
      "uses              0.000000\n",
      "using             0.000000\n",
      "value             0.000000\n",
      "views             0.000000\n",
      "vsts              0.000000\n",
      "walk              0.000000\n",
      "way               0.000000\n",
      "web               0.106909\n",
      "week              0.000000\n",
      "well              0.121026\n",
      "widely            0.000000\n",
      "wiki              0.000000\n",
      "within            0.000000\n",
      "work              0.140923\n",
      "workflow          0.000000\n",
      "working           0.000000\n",
      "world             0.000000\n",
      "written           0.000000\n",
      "www               0.000000\n",
      "xamarin           0.000000\n",
      "years             0.000000\n",
      "Name: 0, Length: 334, dtype: float64\n"
     ]
    }
   ],
   "source": [
    "print(df.loc[0])"
   ]
  },
  {
   "cell_type": "code",
   "execution_count": 13,
   "metadata": {},
   "outputs": [
    {
     "data": {
      "text/plain": [
       "<matplotlib.axes._subplots.AxesSubplot at 0x7f8f8168ab38>"
      ]
     },
     "execution_count": 13,
     "metadata": {},
     "output_type": "execute_result"
    }
   ],
   "source": [
    "import matplotlib.pyplot as plt\n",
    "#plt.plot(df.loc[0])\n",
    "df.loc[0].plot(figsize=(15,9))"
   ]
  },
  {
   "cell_type": "code",
   "execution_count": 14,
   "metadata": {},
   "outputs": [
    {
     "data": {
      "text/plain": [
       "<matplotlib.axes._subplots.AxesSubplot at 0x7f8f81a4f1d0>"
      ]
     },
     "execution_count": 14,
     "metadata": {},
     "output_type": "execute_result"
    },
    {
     "data": {
      "image/png": "[encoded data removed]",
      "text/plain": [
       "<matplotlib.figure.Figure at 0x7f8f81f0f208>"
      ]
     },
     "metadata": {},
     "output_type": "display_data"
    }
   ],
   "source": [
    "df['server'].plot(figsize=(10,5))"
   ]
  },
  {
   "cell_type": "code",
   "execution_count": 15,
   "metadata": {},
   "outputs": [
    {
     "data": {
      "text/plain": [
       "<matplotlib.axes._subplots.AxesSubplot at 0x7f8f81a55c50>"
      ]
     },
     "execution_count": 15,
     "metadata": {},
     "output_type": "execute_result"
    },
    {
     "data": {
      "image/png": "[encoded data removed]",
      "text/plain": [
       "<matplotlib.figure.Figure at 0x7f8f816567f0>"
      ]
     },
     "metadata": {},
     "output_type": "display_data"
    }
   ],
   "source": [
    "(df.loc[9]).plot(figsize=(16,14))"
   ]
  },
  {
   "cell_type": "code",
   "execution_count": 16,
   "metadata": {},
   "outputs": [
    {
     "name": "stdout",
     "output_type": "stream",
     "text": [
      "count       334\n",
      "unique        2\n",
      "top       False\n",
      "freq        333\n",
      "dtype: object \n",
      "\n",
      "\n",
      "recently    True\n",
      "dtype: bool\n"
     ]
    }
   ],
   "source": [
    "df2 = ( (df.loc[0] > 0.0) &  (df.loc[1] > 0.0))\n",
    "print(df2.describe(),'\\n\\n')\n",
    "print(df2[df2 == True])"
   ]
  },
  {
   "cell_type": "code",
   "execution_count": 17,
   "metadata": {},
   "outputs": [
    {
     "name": "stdout",
     "output_type": "stream",
     "text": [
      "dot product:  0.01982391791754074\n",
      "dot product:  0.08880841160757086\n"
     ]
    }
   ],
   "source": [
    "#should only do this with counts - not fractionial for dotproducts\n",
    "print('dot product: ',df.loc[0].dot(df.loc[1])) #dot prodcut shows strenght of common words across two document vectors\n",
    "dff = df.loc[0].T\n",
    "print('dot product: ',dff.dot(df.loc[2]))\n",
    "#print('this says that docs 0 and 2 are more alike than docs 0 and 1')"
   ]
  },
  {
   "cell_type": "code",
   "execution_count": 18,
   "metadata": {},
   "outputs": [
    {
     "name": "stdout",
     "output_type": "stream",
     "text": [
      "0:  recently one customer said asp net core application used work well oauth authentication time placed reverse proxy front web application authentication fails invalid callback path normally speaking callback path needed registering application oauth server .... \n",
      "\n",
      "1:  post premier developer consultant joe healy identifies possible error may get working android project xamarin forms read discovery eventual solution fix ssl tls implementation issue recently helping client azure active directory integrated project adal msal \n",
      "\n",
      "2: sql server management object smo one widely used way interact sql server due feature directly able execute mass operation well management operation sql server instead old school way using queries however using also need\n"
     ]
    }
   ],
   "source": [
    "print('0: ',docs[0],'\\n\\n1: ',docs[1],'\\n\\n2:',docs[2])"
   ]
  },
  {
   "cell_type": "code",
   "execution_count": 19,
   "metadata": {},
   "outputs": [
    {
     "name": "stdout",
     "output_type": "stream",
     "text": [
      "Topic #1\n",
      "0.201*\"azure\" + 0.168*\"service\" + 0.157*\"powershell\" + 0.148*\"itop\" + 0.148*\"itsm\" + 0.136*\"app\" + 0.128*\"application\" + 0.127*\"settings\" + 0.123*\"knowledge\" + 0.119*\"web\"\n",
      "Topic #2\n",
      "-0.247*\"data\" + -0.220*\"security\" + -0.214*\"application\" + -0.147*\"path\" + -0.147*\"callback\" + -0.147*\"oauth\" + -0.147*\"authentication\" + -0.147*\"compute\" + 0.139*\"azure\" + -0.137*\"server\"\n",
      "Topic #3\n",
      "-0.235*\"knowledge\" + 0.170*\"sql\" + -0.161*\"look\" + -0.161*\"backup\" + -0.161*\"backups\" + 0.160*\"server\" + -0.159*\"self\" + -0.157*\"base\" + -0.149*\"data\" + -0.128*\"service\"\n",
      "Topic #4\n",
      "-0.182*\"twain\" + -0.182*\"nothing\" + -0.182*\"say\" + -0.165*\"teams\" + 0.159*\"data\" + 0.149*\"powershell\" + 0.136*\"security\" + -0.127*\"last\" + -0.127*\"many\" + 0.109*\"backup\"\n"
     ]
    }
   ],
   "source": [
    "#let's use the above to make a simple latent semantic index model (LSI)\n",
    "!pip install -q gensim \n",
    "from gensim import corpora, models\n",
    "#docs has our collection of documents and lets make that a dictionary - input needs to be array of tokens\n",
    "#mydictokens = [doc for doc in nltk.word_tokenize(docs)]\n",
    "mydictokens = [nltk.word_tokenize(doc) for doc in docs]\n",
    "#print((mydictokens))\n",
    "dictionary  = corpora.Dictionary(mydictokens)\n",
    "#print(dictionary.token2id)\n",
    "corpus = [dictionary.doc2bow(text) for text in mydictokens]\n",
    "#print(corpus)\n",
    "tfidf = models.TfidfModel(corpus) \n",
    "corpus_tfidf = tfidf[corpus]\n",
    "# fix the number of topics total_topics =n  using 3 for demos and stuff but changing it around is very illustrative\n",
    "total_topics = 4 #default is 3\n",
    "\n",
    "lsi = models.LsiModel(corpus_tfidf, id2word=dictionary,  num_topics=total_topics)\n",
    "for index, topic in lsi.print_topics(total_topics):\n",
    "    print ('Topic #'+str(index+1))\n",
    "    print (topic) \n"
   ]
  },
  {
   "cell_type": "markdown",
   "metadata": {},
   "source": [
    "What's going on above. briefly, for each topic listed there is an associated set of words that have been calculated as being associated with that topic. if we ignore the weighting and signs the words, should, appear to map to a parent topic, even if that topic have not been given a name. For example, when running the above selecting for 3 topics (and using the original corpus), the first topic has words like [application, data, security,azure,oauth]. it is not surprising to see those words being used in a single document. The second topic has words like [data, security,backup,backups,app]. Perhaps not as easy to map as the first topic but not uncommon. Topic #3 has terms as [knowledge, sql, base, service, operation]. that's a bit harder to make sense of direclty, but now let's look at the weights. Overall, higher weights and same sign indicate words that are correlated with respect to the topic. In Topic #1 all the weights are + and between 0.133 and 0.179, so they are all correlated and all at about the same level. In Topic #2, the weights and signs are more varied meaning that \"data\" and \"security\" in topic #2 are correlated in the same 'direction', but \"settings\" and \"app\" are correlated but in a different direction. Also, the weights of \"data\" and \"security\" are relatively higher than other weights. if we go back to our corpus of 12 documents and review them we do see one document in particular where data and backup(s) are mentioned several times in just a few sentences. But, there may be an easier way to handle this. The idea for the next block of code is from, \"Text Analytics  with Python\", by Dipanjan Sarkar, published by Apress.\n"
   ]
  },
  {
   "cell_type": "markdown",
   "metadata": {},
   "source": [
    "As an experiement - see how the results vary by number of topics. while this sample has only 12 or 13 documents they tend to come from the same general source (tech blogs) but within the source can be spread out over several areas - developer, data, datascience, infrastrucutre etc."
   ]
  },
  {
   "cell_type": "code",
   "execution_count": 20,
   "metadata": {},
   "outputs": [],
   "source": [
    "#note the use of weight threshold and limiting the number of terms to include to make the outputs a bit simpler\n",
    "def print_topics_gensim(topic_model, total_topics=1, weight_threshold=0.0001,   display_weights=True,   num_terms=None):\n",
    "    for index in range(total_topics):        \n",
    "        topic = topic_model.show_topic(index)        \n",
    "        topic = [(word, round(wt,2))                 \n",
    "                 for word, wt in topic                 \n",
    "                 if abs(wt) >= weight_threshold]        \n",
    "        if display_weights:            \n",
    "            print ('Topic #'+str(index+1)+' with weights')            \n",
    "            print (topic[:num_terms] if num_terms else topic)        \n",
    "        else:            \n",
    "            print ('Topic #'+str(index+1)+' without weights')            \n",
    "            tw = [term for term, wt in topic]            \n",
    "            print (tw[:num_terms] if num_terms else tw)        \n",
    "        print('')\n"
   ]
  },
  {
   "cell_type": "code",
   "execution_count": 21,
   "metadata": {},
   "outputs": [
    {
     "name": "stdout",
     "output_type": "stream",
     "text": [
      "Topic #1 with weights\n",
      "[('azure', 0.2), ('service', 0.17), ('powershell', 0.16), ('itop', 0.15), ('itsm', 0.15), ('app', 0.14), ('application', 0.13)]\n",
      "\n",
      "Topic #2 with weights\n",
      "[('data', -0.25), ('security', -0.22), ('application', -0.21), ('path', -0.15), ('callback', -0.15), ('oauth', -0.15), ('authentication', -0.15)]\n",
      "\n",
      "Topic #3 with weights\n",
      "[('knowledge', -0.24), ('sql', 0.17), ('look', -0.16), ('backup', -0.16), ('backups', -0.16), ('server', 0.16), ('self', -0.16)]\n",
      "\n",
      "Topic #4 with weights\n",
      "[('twain', -0.18), ('nothing', -0.18), ('say', -0.18), ('teams', -0.17), ('data', 0.16), ('powershell', 0.15), ('security', 0.14)]\n",
      "\n"
     ]
    }
   ],
   "source": [
    "print_topics_gensim(lsi,total_topics,weight_threshold=0.001,num_terms=7)"
   ]
  },
  {
   "cell_type": "markdown",
   "metadata": {},
   "source": [
    "Feel free to experiment with number of topics, terms, and thresholds to see how the topic modeling is impacted. Also, it is a great exercise to add more content to the orginal document array back in the fourth cell."
   ]
  },
  {
   "cell_type": "code",
   "execution_count": 22,
   "metadata": {},
   "outputs": [
    {
     "name": "stdout",
     "output_type": "stream",
     "text": [
      "LdaModel(num_terms=347, num_topics=4, decay=0.5, chunksize=2000)\n",
      "Topic #1 with weights\n",
      "[('teams', 0.01), ('mvc', 0.0), ('micro', 0.0), ('development', 0.0), ('frontend', 0.0), ('functional', 0.0), ('shifts', 0.0)]\n",
      "\n",
      "Topic #2 with weights\n",
      "[('azure', 0.01), ('vsts', 0.01), ('powershell', 0.01), ('settings', 0.01), ('nothing', 0.01), ('twain', 0.01), ('say', 0.01)]\n",
      "\n",
      "Topic #3 with weights\n",
      "[('knowledge', 0.01), ('sql', 0.01), ('project', 0.01), ('server', 0.01), ('base', 0.01), ('way', 0.01), ('operation', 0.01)]\n",
      "\n",
      "Topic #4 with weights\n",
      "[('data', 0.01), ('security', 0.01), ('backup', 0.01), ('look', 0.01), ('backups', 0.01), ('compute', 0.01), ('ransomware', 0.01)]\n",
      "\n"
     ]
    }
   ],
   "source": [
    "#now - try out latent dirichlet allocation model\n",
    "#to use this we need our TFIDF calculated above, number of topics to model\n",
    "#first - create an LDA model and then invoke/fit that model using the TFIDF - using gensim module\n",
    "#set up work to get things structured for input\n",
    "#need a normalized corpus - we have that - corpus\n",
    "#need a dictionary of the corpus - have that - dictionary \n",
    "#need a TFIDF of the corpus - have that - corpus_tfidf\n",
    "lda_gensim = models.LdaModel(corpus_tfidf,id2word=dictionary,iterations=100,num_topics=4)\n",
    "print(lda_gensim)\n",
    "\n",
    "print_topics_gensim(lda_gensim,total_topics,weight_threshold=0.001,num_terms=7)"
   ]
  },
  {
   "cell_type": "code",
   "execution_count": null,
   "metadata": {},
   "outputs": [],
   "source": []
  }
 ],
 "metadata": {
  "kernelspec": {
   "display_name": "Python 3.6",
   "language": "python",
   "name": "python36"
  },
  "language_info": {
   "codemirror_mode": {
    "name": "ipython",
    "version": 3
   },
   "file_extension": ".py",
   "mimetype": "text/x-python",
   "name": "python",
   "nbconvert_exporter": "python",
   "pygments_lexer": "ipython3",
   "version": "3.6.3"
  }
 },
 "nbformat": 4,
 "nbformat_minor": 2
}
